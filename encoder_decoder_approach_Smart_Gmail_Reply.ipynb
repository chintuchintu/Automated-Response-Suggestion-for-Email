{
  "nbformat": 4,
  "nbformat_minor": 0,
  "metadata": {
    "colab": {
      "name": "2_Smart_Gmail_Reply.ipynb",
      "provenance": [],
      "collapsed_sections": [],
      "machine_shape": "hm"
    },
    "kernelspec": {
      "name": "python3",
      "display_name": "Python 3"
    },
    "accelerator": "GPU"
  },
  "cells": [
    {
      "cell_type": "markdown",
      "metadata": {
        "id": "view-in-github",
        "colab_type": "text"
      },
      "source": [
        "<a href=\"https://colab.research.google.com/github/yatindma/Automated-Response-Suggestion-for-Email/blob/master/Smart_Gmail_Reply.ipynb\" target=\"_parent\"><img src=\"https://colab.research.google.com/assets/colab-badge.svg\" alt=\"Open In Colab\"/></a>"
      ]
    },
    {
      "cell_type": "markdown",
      "metadata": {
        "id": "t0B6vYT4gFCH",
        "colab_type": "text"
      },
      "source": [
        "<h2> Overview </h2>\n",
        "\n",
        "Here we'll try to predict the Short email responses.<br>\n",
        "As most of the emails have shorter reply.<br>\n",
        "So that it can be easy to reply, without the hassle of typing.<br>\n",
        "It can help in saving the time of the person.<br>\n",
        "\n",
        "########################################################\n",
        "\n",
        "Will update later.\n",
        "########################################################\n",
        "\n",
        "\n",
        "[my kilnkn](www.com)\n",
        "\n",
        "\n"
      ]
    },
    {
      "cell_type": "code",
      "metadata": {
        "id": "DoVYGtoHyDnL",
        "colab_type": "code",
        "outputId": "186e0c4a-822b-47e4-aafd-f81f6b17225b",
        "colab": {
          "base_uri": "https://localhost:8080/",
          "height": 34
        }
      },
      "source": [
        "import tensorflow as tf\n",
        "tf.__version__"
      ],
      "execution_count": 0,
      "outputs": [
        {
          "output_type": "execute_result",
          "data": {
            "text/plain": [
              "'1.15.0'"
            ]
          },
          "metadata": {
            "tags": []
          },
          "execution_count": 67
        }
      ]
    },
    {
      "cell_type": "code",
      "metadata": {
        "id": "xdPaXj89x5_e",
        "colab_type": "code",
        "outputId": "4461d17b-13de-448c-bb0a-0b5df814a2cb",
        "colab": {
          "base_uri": "https://localhost:8080/",
          "height": 80
        }
      },
      "source": [
        "import tensorflow as tf\n",
        "tf.keras.__version__"
      ],
      "execution_count": 0,
      "outputs": [
        {
          "output_type": "display_data",
          "data": {
            "text/html": [
              "<p style=\"color: red;\">\n",
              "The default version of TensorFlow in Colab will soon switch to TensorFlow 2.x.<br>\n",
              "We recommend you <a href=\"https://www.tensorflow.org/guide/migrate\" target=\"_blank\">upgrade</a> now \n",
              "or ensure your notebook will continue to use TensorFlow 1.x via the <code>%tensorflow_version 1.x</code> magic:\n",
              "<a href=\"https://colab.research.google.com/notebooks/tensorflow_version.ipynb\" target=\"_blank\">more info</a>.</p>\n"
            ],
            "text/plain": [
              "<IPython.core.display.HTML object>"
            ]
          },
          "metadata": {
            "tags": []
          }
        },
        {
          "output_type": "execute_result",
          "data": {
            "text/plain": [
              "'2.2.4-tf'"
            ]
          },
          "metadata": {
            "tags": []
          },
          "execution_count": 1
        }
      ]
    },
    {
      "cell_type": "code",
      "metadata": {
        "id": "C02AflfXgEUP",
        "colab_type": "code",
        "colab": {}
      },
      "source": [
        "import pandas as pd\n",
        "import numpy as np\n",
        "import matplotlib.pyplot as plt\n",
        "%matplotlib inline\n",
        "import pickle\n",
        "import tensorflow as tf\n",
        "import os\n",
        "from tensorflow.python.keras.layers import Layer\n",
        "from tensorflow.python.keras import backend as K"
      ],
      "execution_count": 0,
      "outputs": []
    },
    {
      "cell_type": "code",
      "metadata": {
        "id": "kRSV-QlqT6eC",
        "colab_type": "code",
        "colab": {}
      },
      "source": [
        "# !pip3 install keras-self-attention"
      ],
      "execution_count": 0,
      "outputs": []
    },
    {
      "cell_type": "markdown",
      "metadata": {
        "id": "IDH7zDPp8wgU",
        "colab_type": "text"
      },
      "source": [
        "# Attention Layer"
      ]
    },
    {
      "cell_type": "code",
      "metadata": {
        "id": "ratVBBpp8yNT",
        "colab_type": "code",
        "colab": {}
      },
      "source": [
        "class BahdanauAttention(tf.keras.layers.Layer):\n",
        "  def __init__(self, units):\n",
        "    super(BahdanauAttention, self).__init__()\n",
        "    self.W1 = tf.keras.layers.Dense(units)\n",
        "    self.W2 = tf.keras.layers.Dense(units)\n",
        "    self.V = tf.keras.layers.Dense(1)\n",
        "  \n",
        "  def call(self,input, query, values):\n",
        "    # hidden shape == (batch_size, hidden size)\n",
        "    # hidden_with_time_axis shape == (batch_size, 1, hidden size)\n",
        "    # we are doing this to perform addition to calculate the score\n",
        "    input = None\n",
        "    hidden_with_time_axis = tf.expand_dims(query, 1)\n",
        "\n",
        "    # score shape == (batch_size, max_length, 1)\n",
        "    # we get 1 at the last axis because we are applying score to self.V\n",
        "    # the shape of the tensor before applying self.V is (batch_size, max_length, units)\n",
        "    score = self.V(tf.nn.tanh(\n",
        "        self.W1(values) + self.W2(hidden_with_time_axis)))\n",
        "\n",
        "    # attention_weights shape == (batch_size, max_length, 1)\n",
        "    attention_weights = tf.nn.softmax(score, axis=1)\n",
        "\n",
        "    # context_vector shape after sum == (batch_size, hidden_size)\n",
        "    context_vector = attention_weights * values\n",
        "    context_vector = tf.reduce_sum(context_vector, axis=1)\n",
        "\n",
        "    return context_vector, attention_weightst"
      ],
      "execution_count": 0,
      "outputs": []
    },
    {
      "cell_type": "markdown",
      "metadata": {
        "id": "6DWZSzjLHzu2",
        "colab_type": "text"
      },
      "source": [
        "# Reading the data"
      ]
    },
    {
      "cell_type": "code",
      "metadata": {
        "id": "iwEkTdfTBXdN",
        "colab_type": "code",
        "outputId": "1259b7d9-2256-45ab-fc40-925fb4acd88e",
        "colab": {
          "base_uri": "https://localhost:8080/",
          "height": 122
        }
      },
      "source": [
        "# Load the Drive helper and mount\n",
        "from google.colab import drive\n",
        "# This will prompt for authorization.\n",
        "drive.mount('/content/drive')"
      ],
      "execution_count": 0,
      "outputs": [
        {
          "output_type": "stream",
          "text": [
            "Go to this URL in a browser: https://accounts.google.com/o/oauth2/auth?client_id=947318989803-6bn6qk8qdgf4n4g3pfee6491hc0brc4i.apps.googleusercontent.com&redirect_uri=urn%3aietf%3awg%3aoauth%3a2.0%3aoob&response_type=code&scope=email%20https%3a%2f%2fwww.googleapis.com%2fauth%2fdocs.test%20https%3a%2f%2fwww.googleapis.com%2fauth%2fdrive%20https%3a%2f%2fwww.googleapis.com%2fauth%2fdrive.photos.readonly%20https%3a%2f%2fwww.googleapis.com%2fauth%2fpeopleapi.readonly\n",
            "\n",
            "Enter your authorization code:\n",
            "··········\n",
            "Mounted at /content/drive\n"
          ],
          "name": "stdout"
        }
      ]
    },
    {
      "cell_type": "code",
      "metadata": {
        "id": "VFP4CLF-HvE7",
        "colab_type": "code",
        "colab": {}
      },
      "source": [
        "import json\n",
        "arr = []\n",
        "question = []\n",
        "answer = []\n",
        "with open(\"drive/My Drive/JSON_data/train_data.txt\",\"rb\") as json_file:\n",
        "    data = json.load(json_file)\n",
        "    for data_ in data['data']:\n",
        "        for j,para in enumerate(data_['paragraphs']):\n",
        "          for k,qas in enumerate(para['qas']):\n",
        "            for ans in qas['answers']:\n",
        "              answer.append(ans['text'])\n",
        "              question.append(qas['question'])  \n",
        "              break\n",
        "        \n"
      ],
      "execution_count": 0,
      "outputs": []
    },
    {
      "cell_type": "code",
      "metadata": {
        "id": "GuEbrS23pkIq",
        "colab_type": "code",
        "colab": {}
      },
      "source": [
        "df = pd.DataFrame(list(zip(question, answer)), \n",
        "               columns =['question', 'reply']) "
      ],
      "execution_count": 0,
      "outputs": []
    },
    {
      "cell_type": "code",
      "metadata": {
        "id": "lnwOPia1p5k1",
        "colab_type": "code",
        "outputId": "5b24db01-5e7e-4152-ef4b-7537e1ced7c2",
        "colab": {
          "base_uri": "https://localhost:8080/",
          "height": 142
        }
      },
      "source": [
        "df.tail(3)"
      ],
      "execution_count": 0,
      "outputs": [
        {
          "output_type": "execute_result",
          "data": {
            "text/html": [
              "<div>\n",
              "<style scoped>\n",
              "    .dataframe tbody tr th:only-of-type {\n",
              "        vertical-align: middle;\n",
              "    }\n",
              "\n",
              "    .dataframe tbody tr th {\n",
              "        vertical-align: top;\n",
              "    }\n",
              "\n",
              "    .dataframe thead th {\n",
              "        text-align: right;\n",
              "    }\n",
              "</style>\n",
              "<table border=\"1\" class=\"dataframe\">\n",
              "  <thead>\n",
              "    <tr style=\"text-align: right;\">\n",
              "      <th></th>\n",
              "      <th>question</th>\n",
              "      <th>reply</th>\n",
              "    </tr>\n",
              "  </thead>\n",
              "  <tbody>\n",
              "    <tr>\n",
              "      <th>86818</th>\n",
              "      <td>With what Belorussian city does Kathmandu have...</td>\n",
              "      <td>Minsk</td>\n",
              "    </tr>\n",
              "    <tr>\n",
              "      <th>86819</th>\n",
              "      <td>In what year did Kathmandu create its initial ...</td>\n",
              "      <td>1975</td>\n",
              "    </tr>\n",
              "    <tr>\n",
              "      <th>86820</th>\n",
              "      <td>What is KMC an initialism of?</td>\n",
              "      <td>Kathmandu Metropolitan City</td>\n",
              "    </tr>\n",
              "  </tbody>\n",
              "</table>\n",
              "</div>"
            ],
            "text/plain": [
              "                                                question                        reply\n",
              "86818  With what Belorussian city does Kathmandu have...                        Minsk\n",
              "86819  In what year did Kathmandu create its initial ...                         1975\n",
              "86820                      What is KMC an initialism of?  Kathmandu Metropolitan City"
            ]
          },
          "metadata": {
            "tags": []
          },
          "execution_count": 199
        }
      ]
    },
    {
      "cell_type": "code",
      "metadata": {
        "id": "NBdqNWapqFMj",
        "colab_type": "code",
        "colab": {}
      },
      "source": [
        "#Add more data to the above data \n",
        "df2 = pd.read_csv(\"drive/My Drive/JSON_data/qa_dataset.csv\", encoding = \"ISO-8859-1\", low_memory=False)"
      ],
      "execution_count": 0,
      "outputs": []
    },
    {
      "cell_type": "code",
      "metadata": {
        "id": "qqAdoJoxsRy1",
        "colab_type": "code",
        "outputId": "9ea99420-1ead-4d8b-ed6c-e76768b209d9",
        "colab": {
          "base_uri": "https://localhost:8080/",
          "height": 128
        }
      },
      "source": [
        "df2.head(2)"
      ],
      "execution_count": 0,
      "outputs": [
        {
          "output_type": "execute_result",
          "data": {
            "text/html": [
              "<div>\n",
              "<style scoped>\n",
              "    .dataframe tbody tr th:only-of-type {\n",
              "        vertical-align: middle;\n",
              "    }\n",
              "\n",
              "    .dataframe tbody tr th {\n",
              "        vertical-align: top;\n",
              "    }\n",
              "\n",
              "    .dataframe thead th {\n",
              "        text-align: right;\n",
              "    }\n",
              "</style>\n",
              "<table border=\"1\" class=\"dataframe\">\n",
              "  <thead>\n",
              "    <tr style=\"text-align: right;\">\n",
              "      <th></th>\n",
              "      <th>ArticleTitle</th>\n",
              "      <th>Question</th>\n",
              "      <th>Answer</th>\n",
              "      <th>DifficultyFromQuestioner</th>\n",
              "      <th>DifficultyFromAnswerer</th>\n",
              "      <th>ArticleFile</th>\n",
              "    </tr>\n",
              "  </thead>\n",
              "  <tbody>\n",
              "    <tr>\n",
              "      <th>0</th>\n",
              "      <td>Alessandro_Volta</td>\n",
              "      <td>Was Volta an Italian physicist?</td>\n",
              "      <td>yes</td>\n",
              "      <td>easy</td>\n",
              "      <td>easy</td>\n",
              "      <td>data/set4/a10</td>\n",
              "    </tr>\n",
              "    <tr>\n",
              "      <th>1</th>\n",
              "      <td>Alessandro_Volta</td>\n",
              "      <td>Is Volta buried in the city of Pittsburgh?</td>\n",
              "      <td>no</td>\n",
              "      <td>easy</td>\n",
              "      <td>easy</td>\n",
              "      <td>data/set4/a10</td>\n",
              "    </tr>\n",
              "  </tbody>\n",
              "</table>\n",
              "</div>"
            ],
            "text/plain": [
              "       ArticleTitle  ...    ArticleFile\n",
              "0  Alessandro_Volta  ...  data/set4/a10\n",
              "1  Alessandro_Volta  ...  data/set4/a10\n",
              "\n",
              "[2 rows x 6 columns]"
            ]
          },
          "metadata": {
            "tags": []
          },
          "execution_count": 201
        }
      ]
    },
    {
      "cell_type": "code",
      "metadata": {
        "id": "tE0YSEe4sThm",
        "colab_type": "code",
        "colab": {}
      },
      "source": [
        "#Drop the columns which we don' need \n",
        "df2 = df2.drop(['ArticleTitle','DifficultyFromQuestioner','DifficultyFromAnswerer','ArticleFile'],axis =1 ) \n",
        "df2.columns = ['question', 'reply']"
      ],
      "execution_count": 0,
      "outputs": []
    },
    {
      "cell_type": "code",
      "metadata": {
        "id": "mzaWi3EZZLz_",
        "colab_type": "code",
        "outputId": "dbe4666a-d200-45f5-fcde-57c2242da243",
        "colab": {
          "base_uri": "https://localhost:8080/",
          "height": 111
        }
      },
      "source": [
        "df3 = pd.read_csv(\"drive/My Drive/JSON_data/music_questions.csv\")\n",
        "df3.columns = ['q','question', 'reply']\n",
        "df3.drop(['q'],axis = 1).head(2)"
      ],
      "execution_count": 0,
      "outputs": [
        {
          "output_type": "execute_result",
          "data": {
            "text/html": [
              "<div>\n",
              "<style scoped>\n",
              "    .dataframe tbody tr th:only-of-type {\n",
              "        vertical-align: middle;\n",
              "    }\n",
              "\n",
              "    .dataframe tbody tr th {\n",
              "        vertical-align: top;\n",
              "    }\n",
              "\n",
              "    .dataframe thead th {\n",
              "        text-align: right;\n",
              "    }\n",
              "</style>\n",
              "<table border=\"1\" class=\"dataframe\">\n",
              "  <thead>\n",
              "    <tr style=\"text-align: right;\">\n",
              "      <th></th>\n",
              "      <th>question</th>\n",
              "      <th>reply</th>\n",
              "    </tr>\n",
              "  </thead>\n",
              "  <tbody>\n",
              "    <tr>\n",
              "      <th>0</th>\n",
              "      <td>how long is this cord? the pictures looks like...</td>\n",
              "      <td>I took a photo: &lt;http://imgur.com/G48f1C4&gt;I bo...</td>\n",
              "    </tr>\n",
              "    <tr>\n",
              "      <th>1</th>\n",
              "      <td>Has anyone used this to split a stereo signal?...</td>\n",
              "      <td>I believe this adapter yields a mono split and...</td>\n",
              "    </tr>\n",
              "  </tbody>\n",
              "</table>\n",
              "</div>"
            ],
            "text/plain": [
              "                                            question                                              reply\n",
              "0  how long is this cord? the pictures looks like...  I took a photo: <http://imgur.com/G48f1C4>I bo...\n",
              "1  Has anyone used this to split a stereo signal?...  I believe this adapter yields a mono split and..."
            ]
          },
          "metadata": {
            "tags": []
          },
          "execution_count": 203
        }
      ]
    },
    {
      "cell_type": "code",
      "metadata": {
        "id": "x6aEwo6JZMAG",
        "colab_type": "code",
        "outputId": "3ba10dc4-28fd-4d36-e1e3-c1473e9e28e8",
        "colab": {
          "base_uri": "https://localhost:8080/",
          "height": 111
        }
      },
      "source": [
        "df4 = pd.read_csv(\"drive/My Drive/JSON_data/grocery_questions.csv\")\n",
        "df4.columns = ['q','question', 'reply']\n",
        "df4.drop(['q'],axis = 1).head(2)"
      ],
      "execution_count": 0,
      "outputs": [
        {
          "output_type": "execute_result",
          "data": {
            "text/html": [
              "<div>\n",
              "<style scoped>\n",
              "    .dataframe tbody tr th:only-of-type {\n",
              "        vertical-align: middle;\n",
              "    }\n",
              "\n",
              "    .dataframe tbody tr th {\n",
              "        vertical-align: top;\n",
              "    }\n",
              "\n",
              "    .dataframe thead th {\n",
              "        text-align: right;\n",
              "    }\n",
              "</style>\n",
              "<table border=\"1\" class=\"dataframe\">\n",
              "  <thead>\n",
              "    <tr style=\"text-align: right;\">\n",
              "      <th></th>\n",
              "      <th>question</th>\n",
              "      <th>reply</th>\n",
              "    </tr>\n",
              "  </thead>\n",
              "  <tbody>\n",
              "    <tr>\n",
              "      <th>0</th>\n",
              "      <td>what are the colors that come in the package?</td>\n",
              "      <td>All colors seen on box plus Teal, Burgundy, Bl...</td>\n",
              "    </tr>\n",
              "    <tr>\n",
              "      <th>1</th>\n",
              "      <td>difference between meat cure and pickling salt</td>\n",
              "      <td>Pickling salt is a very pure form of salt. A m...</td>\n",
              "    </tr>\n",
              "  </tbody>\n",
              "</table>\n",
              "</div>"
            ],
            "text/plain": [
              "                                         question                                              reply\n",
              "0   what are the colors that come in the package?  All colors seen on box plus Teal, Burgundy, Bl...\n",
              "1  difference between meat cure and pickling salt  Pickling salt is a very pure form of salt. A m..."
            ]
          },
          "metadata": {
            "tags": []
          },
          "execution_count": 204
        }
      ]
    },
    {
      "cell_type": "code",
      "metadata": {
        "id": "A7SIqTqvz0Q8",
        "colab_type": "code",
        "colab": {}
      },
      "source": [
        ""
      ],
      "execution_count": 0,
      "outputs": []
    },
    {
      "cell_type": "code",
      "metadata": {
        "id": "wWU5QWcXZL8e",
        "colab_type": "code",
        "outputId": "f198d51a-90ce-43b8-8fdb-e637a8c04631",
        "colab": {
          "base_uri": "https://localhost:8080/",
          "height": 111
        }
      },
      "source": [
        "df5 = pd.read_csv(\"drive/My Drive/JSON_data/video_game_qa.csv\")\n",
        "df5.columns = ['q','question', 'reply']\n",
        "df5.drop(['q'],axis = 1).head(2)"
      ],
      "execution_count": 0,
      "outputs": [
        {
          "output_type": "execute_result",
          "data": {
            "text/html": [
              "<div>\n",
              "<style scoped>\n",
              "    .dataframe tbody tr th:only-of-type {\n",
              "        vertical-align: middle;\n",
              "    }\n",
              "\n",
              "    .dataframe tbody tr th {\n",
              "        vertical-align: top;\n",
              "    }\n",
              "\n",
              "    .dataframe thead th {\n",
              "        text-align: right;\n",
              "    }\n",
              "</style>\n",
              "<table border=\"1\" class=\"dataframe\">\n",
              "  <thead>\n",
              "    <tr style=\"text-align: right;\">\n",
              "      <th></th>\n",
              "      <th>question</th>\n",
              "      <th>reply</th>\n",
              "    </tr>\n",
              "  </thead>\n",
              "  <tbody>\n",
              "    <tr>\n",
              "      <th>0</th>\n",
              "      <td>Yes, you will need to go to their website to d...</td>\n",
              "      <td>Yes, you will need to go to their website to d...</td>\n",
              "    </tr>\n",
              "    <tr>\n",
              "      <th>1</th>\n",
              "      <td>As long as it has a USB port it should work fi...</td>\n",
              "      <td>As long as it has a USB port it should work fi...</td>\n",
              "    </tr>\n",
              "  </tbody>\n",
              "</table>\n",
              "</div>"
            ],
            "text/plain": [
              "                                            question                                              reply\n",
              "0  Yes, you will need to go to their website to d...  Yes, you will need to go to their website to d...\n",
              "1  As long as it has a USB port it should work fi...  As long as it has a USB port it should work fi..."
            ]
          },
          "metadata": {
            "tags": []
          },
          "execution_count": 205
        }
      ]
    },
    {
      "cell_type": "code",
      "metadata": {
        "id": "aH-rhfx5zv2x",
        "colab_type": "code",
        "outputId": "b5abd3c9-fb80-43db-858d-40f8abb26cac",
        "colab": {
          "base_uri": "https://localhost:8080/",
          "height": 34
        }
      },
      "source": [
        "df2.shape"
      ],
      "execution_count": 0,
      "outputs": [
        {
          "output_type": "execute_result",
          "data": {
            "text/plain": [
              "(2917, 2)"
            ]
          },
          "metadata": {
            "tags": []
          },
          "execution_count": 206
        }
      ]
    },
    {
      "cell_type": "code",
      "metadata": {
        "id": "ucrubYE5zo8c",
        "colab_type": "code",
        "outputId": "cefbe317-8317-4228-8df6-20b1bbb4a0db",
        "colab": {
          "base_uri": "https://localhost:8080/",
          "height": 34
        }
      },
      "source": [
        "df.shape"
      ],
      "execution_count": 0,
      "outputs": [
        {
          "output_type": "execute_result",
          "data": {
            "text/plain": [
              "(86821, 2)"
            ]
          },
          "metadata": {
            "tags": []
          },
          "execution_count": 207
        }
      ]
    },
    {
      "cell_type": "code",
      "metadata": {
        "id": "VFUxKIoBzx76",
        "colab_type": "code",
        "outputId": "ef3f7087-4829-447e-ef17-70a275feb3e3",
        "colab": {
          "base_uri": "https://localhost:8080/",
          "height": 34
        }
      },
      "source": [
        "df3.shape"
      ],
      "execution_count": 0,
      "outputs": [
        {
          "output_type": "execute_result",
          "data": {
            "text/plain": [
              "(2976, 3)"
            ]
          },
          "metadata": {
            "tags": []
          },
          "execution_count": 208
        }
      ]
    },
    {
      "cell_type": "code",
      "metadata": {
        "id": "RCgU4bO0z1Rd",
        "colab_type": "code",
        "outputId": "478c755f-621e-48aa-cff2-bb4c3d44b75f",
        "colab": {
          "base_uri": "https://localhost:8080/",
          "height": 34
        }
      },
      "source": [
        "df4.shape"
      ],
      "execution_count": 0,
      "outputs": [
        {
          "output_type": "execute_result",
          "data": {
            "text/plain": [
              "(2997, 3)"
            ]
          },
          "metadata": {
            "tags": []
          },
          "execution_count": 209
        }
      ]
    },
    {
      "cell_type": "code",
      "metadata": {
        "id": "gpVTzea8z331",
        "colab_type": "code",
        "outputId": "fb74b01c-2479-4314-8852-715bcc8928f7",
        "colab": {
          "base_uri": "https://localhost:8080/",
          "height": 34
        }
      },
      "source": [
        "df5.shape"
      ],
      "execution_count": 0,
      "outputs": [
        {
          "output_type": "execute_result",
          "data": {
            "text/plain": [
              "(1183, 3)"
            ]
          },
          "metadata": {
            "tags": []
          },
          "execution_count": 210
        }
      ]
    },
    {
      "cell_type": "code",
      "metadata": {
        "id": "RkTwuBtOsbd1",
        "colab_type": "code",
        "outputId": "e54193ef-829b-4be0-ad50-7a5e4745e909",
        "colab": {
          "base_uri": "https://localhost:8080/",
          "height": 173
        }
      },
      "source": [
        "#Append both the dataset\n",
        "\n",
        "frames = [df, df2,df3,df4,df5]\n",
        "data = pd.concat(frames)"
      ],
      "execution_count": 0,
      "outputs": [
        {
          "output_type": "stream",
          "text": [
            "/usr/local/lib/python3.6/dist-packages/ipykernel_launcher.py:3: FutureWarning: Sorting because non-concatenation axis is not aligned. A future version\n",
            "of pandas will change to not sort by default.\n",
            "\n",
            "To accept the future behavior, pass 'sort=False'.\n",
            "\n",
            "To retain the current behavior and silence the warning, pass 'sort=True'.\n",
            "\n",
            "  This is separate from the ipykernel package so we can avoid doing imports until\n"
          ],
          "name": "stderr"
        }
      ]
    },
    {
      "cell_type": "code",
      "metadata": {
        "id": "3Q_E3Tr9Elm-",
        "colab_type": "code",
        "colab": {}
      },
      "source": [
        "# data = pd.read_csv('qa_dataset.csv', encoding = \"ISO-8859-1\", low_memory=False) "
      ],
      "execution_count": 0,
      "outputs": []
    },
    {
      "cell_type": "code",
      "metadata": {
        "id": "XAmSgysK0MQA",
        "colab_type": "code",
        "outputId": "505e33b0-4fe4-4c27-be4c-4f2398444279",
        "colab": {
          "base_uri": "https://localhost:8080/",
          "height": 111
        }
      },
      "source": [
        "# data.head(2)"
      ],
      "execution_count": 0,
      "outputs": [
        {
          "output_type": "execute_result",
          "data": {
            "text/html": [
              "<div>\n",
              "<style scoped>\n",
              "    .dataframe tbody tr th:only-of-type {\n",
              "        vertical-align: middle;\n",
              "    }\n",
              "\n",
              "    .dataframe tbody tr th {\n",
              "        vertical-align: top;\n",
              "    }\n",
              "\n",
              "    .dataframe thead th {\n",
              "        text-align: right;\n",
              "    }\n",
              "</style>\n",
              "<table border=\"1\" class=\"dataframe\">\n",
              "  <thead>\n",
              "    <tr style=\"text-align: right;\">\n",
              "      <th></th>\n",
              "      <th>ArticleTitle</th>\n",
              "      <th>Question</th>\n",
              "      <th>Answer</th>\n",
              "      <th>DifficultyFromQuestioner</th>\n",
              "      <th>DifficultyFromAnswerer</th>\n",
              "      <th>ArticleFile</th>\n",
              "    </tr>\n",
              "  </thead>\n",
              "  <tbody>\n",
              "    <tr>\n",
              "      <th>0</th>\n",
              "      <td>Alessandro_Volta</td>\n",
              "      <td>Was Volta an Italian physicist?</td>\n",
              "      <td>yes</td>\n",
              "      <td>easy</td>\n",
              "      <td>easy</td>\n",
              "      <td>data/set4/a10</td>\n",
              "    </tr>\n",
              "    <tr>\n",
              "      <th>1</th>\n",
              "      <td>Alessandro_Volta</td>\n",
              "      <td>Is Volta buried in the city of Pittsburgh?</td>\n",
              "      <td>no</td>\n",
              "      <td>easy</td>\n",
              "      <td>easy</td>\n",
              "      <td>data/set4/a10</td>\n",
              "    </tr>\n",
              "  </tbody>\n",
              "</table>\n",
              "</div>"
            ],
            "text/plain": [
              "       ArticleTitle  ...    ArticleFile\n",
              "0  Alessandro_Volta  ...  data/set4/a10\n",
              "1  Alessandro_Volta  ...  data/set4/a10\n",
              "\n",
              "[2 rows x 6 columns]"
            ]
          },
          "metadata": {
            "tags": []
          },
          "execution_count": 7
        }
      ]
    },
    {
      "cell_type": "code",
      "metadata": {
        "id": "3Rt7bWgDb0wz",
        "colab_type": "code",
        "colab": {}
      },
      "source": [
        "# data = data.drop(['ArticleTitle','DifficultyFromQuestioner','DifficultyFromAnswerer','ArticleFile'],axis = 1)"
      ],
      "execution_count": 0,
      "outputs": []
    },
    {
      "cell_type": "code",
      "metadata": {
        "id": "nYz7vVbk0Ooj",
        "colab_type": "code",
        "colab": {}
      },
      "source": [
        "# data.columns = ['question','reply']"
      ],
      "execution_count": 0,
      "outputs": []
    },
    {
      "cell_type": "code",
      "metadata": {
        "id": "ZzfwTmtsE8_3",
        "colab_type": "code",
        "outputId": "eae7c22a-bcfe-4cde-9338-eba2754d4bed",
        "colab": {
          "base_uri": "https://localhost:8080/",
          "height": 323
        }
      },
      "source": [
        "# Columns\n",
        "# Description of the data frame\n",
        "print(\"=\"*25 + \" Data Overview \" + \"=\"*25)\n",
        "print(\"\\n\", data.info(), \"\\n\")\n",
        "print(\"=\"*25 + \" Sample Data \" + \"=\"*25)\n",
        "print(data.head(5))"
      ],
      "execution_count": 0,
      "outputs": [
        {
          "output_type": "stream",
          "text": [
            "========================= Data Overview =========================\n",
            "<class 'pandas.core.frame.DataFrame'>\n",
            "RangeIndex: 2917 entries, 0 to 2916\n",
            "Data columns (total 2 columns):\n",
            "question    2917 non-null object\n",
            "reply       2917 non-null object\n",
            "dtypes: object(2)\n",
            "memory usage: 45.7+ KB\n",
            "\n",
            " None \n",
            "\n",
            "========================= Sample Data =========================\n",
            "                                            question           reply\n",
            "0                    Was Volta an Italian physicist?             yes\n",
            "1         Is Volta buried in the city of Pittsburgh?              no\n",
            "2  Did Volta have a passion for the study of elec...             yes\n",
            "3  What is the battery made by Volta credited to be?  the first cell\n",
            "4  What important electrical unit was named in ho...        the volt\n"
          ],
          "name": "stdout"
        }
      ]
    },
    {
      "cell_type": "markdown",
      "metadata": {
        "id": "pECRLhTzU804",
        "colab_type": "text"
      },
      "source": [
        "### Preprocessing"
      ]
    },
    {
      "cell_type": "code",
      "metadata": {
        "id": "IsWUBd8RmE0a",
        "colab_type": "code",
        "outputId": "841587cb-3be5-4ff1-b2ab-de6cc6eb7411",
        "colab": {
          "base_uri": "https://localhost:8080/",
          "height": 173
        }
      },
      "source": [
        "# Convert data into lower case\n",
        "data = data.apply(lambda x: x.astype(str).str.lower())\n",
        "data.head(4)"
      ],
      "execution_count": 0,
      "outputs": [
        {
          "output_type": "execute_result",
          "data": {
            "text/html": [
              "<div>\n",
              "<style scoped>\n",
              "    .dataframe tbody tr th:only-of-type {\n",
              "        vertical-align: middle;\n",
              "    }\n",
              "\n",
              "    .dataframe tbody tr th {\n",
              "        vertical-align: top;\n",
              "    }\n",
              "\n",
              "    .dataframe thead th {\n",
              "        text-align: right;\n",
              "    }\n",
              "</style>\n",
              "<table border=\"1\" class=\"dataframe\">\n",
              "  <thead>\n",
              "    <tr style=\"text-align: right;\">\n",
              "      <th></th>\n",
              "      <th>question</th>\n",
              "      <th>reply</th>\n",
              "    </tr>\n",
              "  </thead>\n",
              "  <tbody>\n",
              "    <tr>\n",
              "      <th>0</th>\n",
              "      <td>was volta an italian physicist?</td>\n",
              "      <td>yes</td>\n",
              "    </tr>\n",
              "    <tr>\n",
              "      <th>1</th>\n",
              "      <td>is volta buried in the city of pittsburgh?</td>\n",
              "      <td>no</td>\n",
              "    </tr>\n",
              "    <tr>\n",
              "      <th>2</th>\n",
              "      <td>did volta have a passion for the study of elec...</td>\n",
              "      <td>yes</td>\n",
              "    </tr>\n",
              "    <tr>\n",
              "      <th>3</th>\n",
              "      <td>what is the battery made by volta credited to be?</td>\n",
              "      <td>the first cell</td>\n",
              "    </tr>\n",
              "  </tbody>\n",
              "</table>\n",
              "</div>"
            ],
            "text/plain": [
              "                                            question           reply\n",
              "0                    was volta an italian physicist?             yes\n",
              "1         is volta buried in the city of pittsburgh?              no\n",
              "2  did volta have a passion for the study of elec...             yes\n",
              "3  what is the battery made by volta credited to be?  the first cell"
            ]
          },
          "metadata": {
            "tags": []
          },
          "execution_count": 11
        }
      ]
    },
    {
      "cell_type": "code",
      "metadata": {
        "id": "lVmM1qX39uA4",
        "colab_type": "code",
        "outputId": "38598fff-0dcf-4703-9805-600032a1c5af",
        "colab": {
          "base_uri": "https://localhost:8080/",
          "height": 204
        }
      },
      "source": [
        "data.head()"
      ],
      "execution_count": 0,
      "outputs": [
        {
          "output_type": "execute_result",
          "data": {
            "text/html": [
              "<div>\n",
              "<style scoped>\n",
              "    .dataframe tbody tr th:only-of-type {\n",
              "        vertical-align: middle;\n",
              "    }\n",
              "\n",
              "    .dataframe tbody tr th {\n",
              "        vertical-align: top;\n",
              "    }\n",
              "\n",
              "    .dataframe thead th {\n",
              "        text-align: right;\n",
              "    }\n",
              "</style>\n",
              "<table border=\"1\" class=\"dataframe\">\n",
              "  <thead>\n",
              "    <tr style=\"text-align: right;\">\n",
              "      <th></th>\n",
              "      <th>question</th>\n",
              "      <th>reply</th>\n",
              "    </tr>\n",
              "  </thead>\n",
              "  <tbody>\n",
              "    <tr>\n",
              "      <th>0</th>\n",
              "      <td>was volta an italian physicist?</td>\n",
              "      <td>yes</td>\n",
              "    </tr>\n",
              "    <tr>\n",
              "      <th>1</th>\n",
              "      <td>is volta buried in the city of pittsburgh?</td>\n",
              "      <td>no</td>\n",
              "    </tr>\n",
              "    <tr>\n",
              "      <th>2</th>\n",
              "      <td>did volta have a passion for the study of elec...</td>\n",
              "      <td>yes</td>\n",
              "    </tr>\n",
              "    <tr>\n",
              "      <th>3</th>\n",
              "      <td>what is the battery made by volta credited to be?</td>\n",
              "      <td>the first cell</td>\n",
              "    </tr>\n",
              "    <tr>\n",
              "      <th>4</th>\n",
              "      <td>what important electrical unit was named in ho...</td>\n",
              "      <td>the volt</td>\n",
              "    </tr>\n",
              "  </tbody>\n",
              "</table>\n",
              "</div>"
            ],
            "text/plain": [
              "                                            question           reply\n",
              "0                    was volta an italian physicist?             yes\n",
              "1         is volta buried in the city of pittsburgh?              no\n",
              "2  did volta have a passion for the study of elec...             yes\n",
              "3  what is the battery made by volta credited to be?  the first cell\n",
              "4  what important electrical unit was named in ho...        the volt"
            ]
          },
          "metadata": {
            "tags": []
          },
          "execution_count": 12
        }
      ]
    },
    {
      "cell_type": "code",
      "metadata": {
        "id": "a_7COAUfwHcU",
        "colab_type": "code",
        "colab": {}
      },
      "source": [
        "#counting length of each sentence in target \n",
        "sentences = data['reply'].values\n",
        "len_arr = []\n",
        "for sent in sentences:\n",
        "  count = 0\n",
        "  for words in sent:\n",
        "    count += 1\n",
        "  len_arr.append(count)\n",
        "  \n"
      ],
      "execution_count": 0,
      "outputs": []
    },
    {
      "cell_type": "code",
      "metadata": {
        "id": "oqG-XN4uxWCY",
        "colab_type": "code",
        "colab": {}
      },
      "source": [
        "data['reply_length'] = len_arr"
      ],
      "execution_count": 0,
      "outputs": []
    },
    {
      "cell_type": "code",
      "metadata": {
        "id": "0BneA8az-rKJ",
        "colab_type": "code",
        "outputId": "4a722a3d-53b0-473c-b11d-1d32707f6bcc",
        "colab": {
          "base_uri": "https://localhost:8080/",
          "height": 34
        }
      },
      "source": [
        "#Calculating average length of th target sentences\n",
        "avg_length = sum(len_arr)/len(len_arr)\n",
        "print('average length',avg_length)"
      ],
      "execution_count": 0,
      "outputs": [
        {
          "output_type": "stream",
          "text": [
            "average length 25.082961947206034\n"
          ],
          "name": "stdout"
        }
      ]
    },
    {
      "cell_type": "code",
      "metadata": {
        "id": "JVhmUWFlxeWR",
        "colab_type": "code",
        "outputId": "73c1539d-e3b5-4321-c0f5-290e4965fd85",
        "colab": {
          "base_uri": "https://localhost:8080/",
          "height": 111
        }
      },
      "source": [
        "data.tail(2)"
      ],
      "execution_count": 0,
      "outputs": [
        {
          "output_type": "execute_result",
          "data": {
            "text/html": [
              "<div>\n",
              "<style scoped>\n",
              "    .dataframe tbody tr th:only-of-type {\n",
              "        vertical-align: middle;\n",
              "    }\n",
              "\n",
              "    .dataframe tbody tr th {\n",
              "        vertical-align: top;\n",
              "    }\n",
              "\n",
              "    .dataframe thead th {\n",
              "        text-align: right;\n",
              "    }\n",
              "</style>\n",
              "<table border=\"1\" class=\"dataframe\">\n",
              "  <thead>\n",
              "    <tr style=\"text-align: right;\">\n",
              "      <th></th>\n",
              "      <th>question</th>\n",
              "      <th>reply</th>\n",
              "      <th>reply_length</th>\n",
              "    </tr>\n",
              "  </thead>\n",
              "  <tbody>\n",
              "    <tr>\n",
              "      <th>2915</th>\n",
              "      <td>was wilson , a staunch opponent of antisemitis...</td>\n",
              "      <td>yes</td>\n",
              "      <td>3</td>\n",
              "    </tr>\n",
              "    <tr>\n",
              "      <th>2916</th>\n",
              "      <td>what happened in 1917?</td>\n",
              "      <td>raised billions through liberty loans, imposed...</td>\n",
              "      <td>259</td>\n",
              "    </tr>\n",
              "  </tbody>\n",
              "</table>\n",
              "</div>"
            ],
            "text/plain": [
              "                                               question  ... reply_length\n",
              "2915  was wilson , a staunch opponent of antisemitis...  ...            3\n",
              "2916                             what happened in 1917?  ...          259\n",
              "\n",
              "[2 rows x 3 columns]"
            ]
          },
          "metadata": {
            "tags": []
          },
          "execution_count": 16
        }
      ]
    },
    {
      "cell_type": "code",
      "metadata": {
        "id": "w98pHMKvmFGP",
        "colab_type": "code",
        "colab": {}
      },
      "source": [
        "# Remove the full stops from the dataframe reply\n",
        "bad_chars = [';', ':', '!', \"*\",'.',')','(','?']\n",
        "preprocessed_reply = []\n",
        "\n",
        "for reply in data['reply'].values:\n",
        "  for i in bad_chars : \n",
        "    reply = reply.replace(i, '')\n",
        "  preprocessed_reply.append(reply)\n",
        "\n",
        "data['reply'] = preprocessed_reply\n",
        "data['reply'] = 'start_ ' + data['reply'] + ' _end'"
      ],
      "execution_count": 0,
      "outputs": []
    },
    {
      "cell_type": "code",
      "metadata": {
        "id": "-wRHxbSH5Q77",
        "colab_type": "code",
        "colab": {}
      },
      "source": [
        "# trim the string the dataframe  \n",
        "data = data.applymap(lambda x: x.strip() if isinstance(x, str) else x)"
      ],
      "execution_count": 0,
      "outputs": []
    },
    {
      "cell_type": "code",
      "metadata": {
        "id": "7qYQ4x4p3xYj",
        "colab_type": "code",
        "outputId": "ca876c55-6a64-4348-e172-7f3ac430576d",
        "colab": {
          "base_uri": "https://localhost:8080/",
          "height": 111
        }
      },
      "source": [
        "data.head(2)"
      ],
      "execution_count": 0,
      "outputs": [
        {
          "output_type": "execute_result",
          "data": {
            "text/html": [
              "<div>\n",
              "<style scoped>\n",
              "    .dataframe tbody tr th:only-of-type {\n",
              "        vertical-align: middle;\n",
              "    }\n",
              "\n",
              "    .dataframe tbody tr th {\n",
              "        vertical-align: top;\n",
              "    }\n",
              "\n",
              "    .dataframe thead th {\n",
              "        text-align: right;\n",
              "    }\n",
              "</style>\n",
              "<table border=\"1\" class=\"dataframe\">\n",
              "  <thead>\n",
              "    <tr style=\"text-align: right;\">\n",
              "      <th></th>\n",
              "      <th>question</th>\n",
              "      <th>reply</th>\n",
              "      <th>reply_length</th>\n",
              "    </tr>\n",
              "  </thead>\n",
              "  <tbody>\n",
              "    <tr>\n",
              "      <th>0</th>\n",
              "      <td>was volta an italian physicist?</td>\n",
              "      <td>start_ yes _end</td>\n",
              "      <td>3</td>\n",
              "    </tr>\n",
              "    <tr>\n",
              "      <th>1</th>\n",
              "      <td>is volta buried in the city of pittsburgh?</td>\n",
              "      <td>start_ no _end</td>\n",
              "      <td>2</td>\n",
              "    </tr>\n",
              "  </tbody>\n",
              "</table>\n",
              "</div>"
            ],
            "text/plain": [
              "                                     question            reply  reply_length\n",
              "0             was volta an italian physicist?  start_ yes _end             3\n",
              "1  is volta buried in the city of pittsburgh?   start_ no _end             2"
            ]
          },
          "metadata": {
            "tags": []
          },
          "execution_count": 19
        }
      ]
    },
    {
      "cell_type": "code",
      "metadata": {
        "colab_type": "code",
        "id": "aVDO3G8X2DjP",
        "colab": {}
      },
      "source": [
        "reply_list = list(data['reply'].values)\n",
        "reply_dict = {i:reply_list.count(i) for i in reply_list}"
      ],
      "execution_count": 0,
      "outputs": []
    },
    {
      "cell_type": "code",
      "metadata": {
        "colab_type": "code",
        "id": "yNfvv1i12DjY",
        "colab": {}
      },
      "source": [
        "from collections import OrderedDict\n",
        "reply_dict_sorted = OrderedDict(sorted(reply_dict.items(), key=lambda x: x[1]))"
      ],
      "execution_count": 0,
      "outputs": []
    },
    {
      "cell_type": "code",
      "metadata": {
        "id": "d32EpOzEmE7t",
        "colab_type": "code",
        "colab": {}
      },
      "source": [
        "reply = []\n",
        "keys = []\n",
        "for item in reply_dict_sorted.items():\n",
        "  reply.append(item[0])\n",
        "  keys.append(item[1])"
      ],
      "execution_count": 0,
      "outputs": []
    },
    {
      "cell_type": "code",
      "metadata": {
        "id": "2oVVC9oqja57",
        "colab_type": "code",
        "colab": {}
      },
      "source": [
        "reply.reverse()\n",
        "keys.reverse()"
      ],
      "execution_count": 0,
      "outputs": []
    },
    {
      "cell_type": "code",
      "metadata": {
        "id": "S_Ad6vx_8LhB",
        "colab_type": "code",
        "colab": {}
      },
      "source": [
        "#top 10 reply\n",
        "top_5_reply = reply[:5]\n",
        "top_5_keys = keys[:5]"
      ],
      "execution_count": 0,
      "outputs": []
    },
    {
      "cell_type": "code",
      "metadata": {
        "id": "kmMETsW6-q8U",
        "colab_type": "code",
        "colab": {}
      },
      "source": [
        "temp_reply_list = []\n",
        "i = 0\n",
        "for key in top_5_keys:\n",
        "  for _ in range(0,key):\n",
        "    temp_reply_list.append(top_5_reply[i])\n",
        "  i += 1"
      ],
      "execution_count": 0,
      "outputs": []
    },
    {
      "cell_type": "markdown",
      "metadata": {
        "id": "sxzR9Cj8FhBF",
        "colab_type": "text"
      },
      "source": [
        "<b>\n",
        "Article title can be used while giving the sentence for tokenizing later \n",
        "question do we need to preprocess the data\n",
        "reply mai kitne repeated h\n",
        "</b>\n"
      ]
    },
    {
      "cell_type": "code",
      "metadata": {
        "id": "iGGxT8LNFgjE",
        "colab_type": "code",
        "outputId": "a915b925-5cd8-4f78-d03f-774e79e6b297",
        "colab": {
          "base_uri": "https://localhost:8080/",
          "height": 266
        }
      },
      "source": [
        "plt.hist(temp_reply_list, 10,\n",
        "         histtype='bar',\n",
        "         facecolor='b',\n",
        "         alpha=0.5)\n",
        "plt.show()"
      ],
      "execution_count": 0,
      "outputs": [
        {
          "output_type": "display_data",
          "data": {
            "image/png": "[encoded data removed]",
            "text/plain": [
              "<Figure size 432x288 with 1 Axes>"
            ]
          },
          "metadata": {
            "tags": []
          }
        }
      ]
    },
    {
      "cell_type": "markdown",
      "metadata": {
        "id": "X3t4K_gaAT8t",
        "colab_type": "text"
      },
      "source": [
        "From the above graph we can observe that \n",
        "<b>yes</b> and <b>no</b> reply are the most common reply in the mails which is making data very unbalanced and later will force model to predict mostly yes"
      ]
    },
    {
      "cell_type": "markdown",
      "metadata": {
        "id": "x26rmalQbyAw",
        "colab_type": "text"
      },
      "source": [
        "To overcome above problem we need to remove some of the data which is having yes and no as response"
      ]
    },
    {
      "cell_type": "code",
      "metadata": {
        "id": "aLmfIVnmbwqJ",
        "colab_type": "code",
        "colab": {}
      },
      "source": [
        "#drop the yes/no response from \n",
        "temp_df_wo_yes = data[data['reply'] != 'start_ yes _end']\n",
        "temp_df_wo_no_yes = temp_df_wo_yes[temp_df_wo_yes['reply'] != 'start_ no _end']\n"
      ],
      "execution_count": 0,
      "outputs": []
    },
    {
      "cell_type": "code",
      "metadata": {
        "id": "kvfMe6tUbjzj",
        "colab_type": "code",
        "colab": {}
      },
      "source": [
        "temp_df_w_yes = data[data['reply'] == 'start_ yes _end']\n",
        "temp_df_w_no = data[data['reply'] == 'start_ no _end']"
      ],
      "execution_count": 0,
      "outputs": []
    },
    {
      "cell_type": "code",
      "metadata": {
        "id": "U0aFmj-nk9v5",
        "colab_type": "code",
        "outputId": "d0e4529f-beb9-481a-9b5e-30db17b037b7",
        "colab": {
          "base_uri": "https://localhost:8080/",
          "height": 51
        }
      },
      "source": [
        "#calcuating data with yes and no replies\n",
        "print('yes replies length',len(temp_df_w_yes))\n",
        "print('no replies length',len(temp_df_w_no))"
      ],
      "execution_count": 0,
      "outputs": [
        {
          "output_type": "stream",
          "text": [
            "yes replies length 872\n",
            "no replies length 206\n"
          ],
          "name": "stdout"
        }
      ]
    },
    {
      "cell_type": "code",
      "metadata": {
        "id": "iJYA5SEclcwy",
        "colab_type": "code",
        "colab": {}
      },
      "source": [
        "#We'll taek only 100 responses with yes and 100 with no\n",
        "yes_df = temp_df_w_yes[:100]\n",
        "no_df = temp_df_w_no[:100]"
      ],
      "execution_count": 0,
      "outputs": []
    },
    {
      "cell_type": "code",
      "metadata": {
        "id": "lpWGJGRTl_sW",
        "colab_type": "code",
        "colab": {}
      },
      "source": [
        "#Appending 100 yes and 100 no replies data\n",
        "temp_df_wo_no_yes.append(yes_df, ignore_index=True)\n",
        "temp_df_wo_no_yes.append(no_df, ignore_index=True)\n",
        "data = temp_df_wo_no_yes"
      ],
      "execution_count": 0,
      "outputs": []
    },
    {
      "cell_type": "code",
      "metadata": {
        "id": "nVgGcj5jmtQf",
        "colab_type": "code",
        "outputId": "3ac36e4f-79a5-4d8a-ea52-77030256007f",
        "colab": {
          "base_uri": "https://localhost:8080/",
          "height": 204
        }
      },
      "source": [
        "data.head()"
      ],
      "execution_count": 0,
      "outputs": [
        {
          "output_type": "execute_result",
          "data": {
            "text/html": [
              "<div>\n",
              "<style scoped>\n",
              "    .dataframe tbody tr th:only-of-type {\n",
              "        vertical-align: middle;\n",
              "    }\n",
              "\n",
              "    .dataframe tbody tr th {\n",
              "        vertical-align: top;\n",
              "    }\n",
              "\n",
              "    .dataframe thead th {\n",
              "        text-align: right;\n",
              "    }\n",
              "</style>\n",
              "<table border=\"1\" class=\"dataframe\">\n",
              "  <thead>\n",
              "    <tr style=\"text-align: right;\">\n",
              "      <th></th>\n",
              "      <th>question</th>\n",
              "      <th>reply</th>\n",
              "      <th>reply_length</th>\n",
              "    </tr>\n",
              "  </thead>\n",
              "  <tbody>\n",
              "    <tr>\n",
              "      <th>3</th>\n",
              "      <td>what is the battery made by volta credited to be?</td>\n",
              "      <td>start_ the first cell _end</td>\n",
              "      <td>14</td>\n",
              "    </tr>\n",
              "    <tr>\n",
              "      <th>4</th>\n",
              "      <td>what important electrical unit was named in ho...</td>\n",
              "      <td>start_ the volt _end</td>\n",
              "      <td>8</td>\n",
              "    </tr>\n",
              "    <tr>\n",
              "      <th>5</th>\n",
              "      <td>what important electrical unit was named in ho...</td>\n",
              "      <td>start_ volt _end</td>\n",
              "      <td>4</td>\n",
              "    </tr>\n",
              "    <tr>\n",
              "      <th>6</th>\n",
              "      <td>where did volta enter retirement?</td>\n",
              "      <td>start_ spain _end</td>\n",
              "      <td>5</td>\n",
              "    </tr>\n",
              "    <tr>\n",
              "      <th>10</th>\n",
              "      <td>for how many years did alessandro volta live?</td>\n",
              "      <td>start_ 53 _end</td>\n",
              "      <td>2</td>\n",
              "    </tr>\n",
              "  </tbody>\n",
              "</table>\n",
              "</div>"
            ],
            "text/plain": [
              "                                             question  ... reply_length\n",
              "3   what is the battery made by volta credited to be?  ...           14\n",
              "4   what important electrical unit was named in ho...  ...            8\n",
              "5   what important electrical unit was named in ho...  ...            4\n",
              "6                   where did volta enter retirement?  ...            5\n",
              "10      for how many years did alessandro volta live?  ...            2\n",
              "\n",
              "[5 rows x 3 columns]"
            ]
          },
          "metadata": {
            "tags": []
          },
          "execution_count": 32
        }
      ]
    },
    {
      "cell_type": "code",
      "metadata": {
        "id": "Sg-JhYeCYAhe",
        "colab_type": "code",
        "outputId": "ee0f2e3a-9dab-4a5f-a325-bfd03193ca33",
        "colab": {
          "base_uri": "https://localhost:8080/",
          "height": 663
        }
      },
      "source": [
        "import matplotlib\n",
        "matplotlib.rc('figure', figsize=[50,5])\n",
        "#Getting the length of each reply\n",
        "data[\"reply Length\"]= data[\"reply\"].str.len()\n",
        "len_reply = data[\"reply Length\"].values\n",
        "\n",
        "#converting datatype to string\n",
        "len_str_arr = []\n",
        "for num in len_reply:\n",
        "  len_str_arr.append(str(num)) \n",
        "\n",
        "no_reply_counter = 0\n",
        "for num in len_reply:\n",
        "  if num == 0:\n",
        "    no_reply_counter += 1\n",
        "\n",
        "temp_arr = []\n",
        "for indx in len_reply:\n",
        "  if indx == 0:\n",
        "    continue\n",
        "  else:\n",
        "    temp_arr.append(indx)\n",
        "    \n",
        "print(\"number of email don' have any reply\", end = ' : ')\n",
        "print(no_reply_counter)\n",
        "print('*' * 50)\n",
        "\n",
        "print('Max length', end = ' : ')\n",
        "print(max(list(len_reply)))\n",
        "print('*' * 50)\n",
        "\n",
        "print('Min Length', end = ' : ')\n",
        "print(min(list(temp_arr)))\n",
        "print('*' * 50)\n",
        "\n",
        "print(\"Average Length\", end = ' : ')\n",
        "print((sum(list(len_reply)))/(len(list(len_reply))))\n",
        "print('*' * 50)\n",
        "\n",
        "print(\"No of unique reply\", end = ' : ')\n",
        "print(len(list(set(len_reply))))\n",
        "print('*' * 50)\n",
        "\n",
        "\n",
        "print('-' * 50)\n",
        "print(\"Distribution of the words\")\n",
        "print('-' * 50)\n",
        "\n",
        "plt.hist(len_str_arr, 200,\n",
        "         histtype='bar',\n",
        "         facecolor='r',\n",
        "         alpha=0.5)\n",
        "plt.show()"
      ],
      "execution_count": 0,
      "outputs": [
        {
          "output_type": "stream",
          "text": [
            "number of email don' have any reply : 0\n",
            "**************************************************\n",
            "Max length : 932\n",
            "**************************************************\n",
            "Min Length : 12\n",
            "**************************************************\n",
            "Average Length : 49.566612289287654\n",
            "**************************************************\n",
            "No of unique reply : 168\n",
            "**************************************************\n",
            "--------------------------------------------------\n",
            "Distribution of the words\n",
            "--------------------------------------------------\n"
          ],
          "name": "stdout"
        },
        {
          "output_type": "stream",
          "text": [
            "/usr/local/lib/python3.6/dist-packages/ipykernel_launcher.py:4: SettingWithCopyWarning: \n",
            "A value is trying to be set on a copy of a slice from a DataFrame.\n",
            "Try using .loc[row_indexer,col_indexer] = value instead\n",
            "\n",
            "See the caveats in the documentation: http://pandas.pydata.org/pandas-docs/stable/user_guide/indexing.html#returning-a-view-versus-a-copy\n",
            "  after removing the cwd from sys.path.\n"
          ],
          "name": "stderr"
        },
        {
          "output_type": "display_data",
          "data": {
            "image/png": "[encoded data removed]",
            "text/plain": [
              "<Figure size 3600x360 with 1 Axes>"
            ]
          },
          "metadata": {
            "tags": []
          }
        }
      ]
    },
    {
      "cell_type": "code",
      "metadata": {
        "id": "0UC7RlKAx52W",
        "colab_type": "code",
        "outputId": "1889509d-1888-451c-f327-e2164b583da2",
        "colab": {
          "base_uri": "https://localhost:8080/",
          "height": 340
        }
      },
      "source": [
        "import numpy as np\n",
        "import scipy\n",
        "import matplotlib.pyplot as plt\n",
        "import seaborn as sns\n",
        "\n",
        "x = len_arr # generate samples from normal distribution (discrete data)\n",
        "norm_cdf = scipy.stats.norm.pdf(x) # calculate the cdf - also discrete\n",
        "\n",
        "# plot the cdf\n",
        "sns.lineplot(x=x, y=norm_cdf)\n",
        "plt.show()"
      ],
      "execution_count": 0,
      "outputs": [
        {
          "output_type": "display_data",
          "data": {
            "image/png": "[encoded data removed]",
            "text/plain": [
              "<Figure size 3600x360 with 1 Axes>"
            ]
          },
          "metadata": {
            "tags": []
          }
        }
      ]
    },
    {
      "cell_type": "code",
      "metadata": {
        "id": "EP1M2Gf_yvY-",
        "colab_type": "code",
        "outputId": "2b89af07-4ae7-4b9a-c409-4833a0153c9f",
        "colab": {
          "base_uri": "https://localhost:8080/",
          "height": 865
        }
      },
      "source": [
        "import seaborn as sns\n",
        "import matplotlib.pyplot as plt\n",
        "#lets zoom into it\n",
        "copy_len_arr = (len_arr).copy()\n",
        "\n",
        "copy_len_arr.sort()\n",
        "\n",
        "#take only top 200\n",
        "temp_len_arr = []\n",
        "for len in copy_len_arr:\n",
        "  if len > 200:\n",
        "    break\n",
        "  else:\n",
        "    temp_len_arr.append(len)\n",
        "\n",
        "temp_df = pd.DataFrame(temp_len_arr) \n",
        "temp_df.columns = ['length']\n",
        "\n",
        "sns.FacetGrid(temp_df, hue=\"length\", height=10).map(sns.distplot, \"length\")\n",
        "plt.show();"
      ],
      "execution_count": 0,
      "outputs": [
        {
          "output_type": "stream",
          "text": [
            "/usr/local/lib/python3.6/dist-packages/statsmodels/nonparametric/kde.py:487: RuntimeWarning: invalid value encountered in true_divide\n",
            "  binned = fast_linbin(X, a, b, gridsize) / (delta * nobs)\n",
            "/usr/local/lib/python3.6/dist-packages/statsmodels/nonparametric/kdetools.py:34: RuntimeWarning: invalid value encountered in double_scalars\n",
            "  FAC1 = 2*(np.pi*bw/RANGE)**2\n",
            "/usr/local/lib/python3.6/dist-packages/numpy/core/_methods.py:217: RuntimeWarning: Degrees of freedom <= 0 for slice\n",
            "  keepdims=keepdims)\n",
            "/usr/local/lib/python3.6/dist-packages/numpy/core/_methods.py:209: RuntimeWarning: invalid value encountered in double_scalars\n",
            "  ret = ret.dtype.type(ret / rcount)\n"
          ],
          "name": "stderr"
        },
        {
          "output_type": "display_data",
          "data": {
            "image/png": "[encoded data removed]",
            "text/plain": [
              "<Figure size 720x720 with 1 Axes>"
            ]
          },
          "metadata": {
            "tags": []
          }
        }
      ]
    },
    {
      "cell_type": "markdown",
      "metadata": {
        "id": "OLFeIs7M4Owm",
        "colab_type": "text"
      },
      "source": [
        "<h3> From the above graph and average off all reply we'll take 20 as the maximum limit for a reply to exist </h3>"
      ]
    },
    {
      "cell_type": "code",
      "metadata": {
        "id": "b3D9QgRn5t0b",
        "colab_type": "code",
        "outputId": "862dd108-0e3d-49fc-c46d-f6e6a6651483",
        "colab": {
          "base_uri": "https://localhost:8080/",
          "height": 111
        }
      },
      "source": [
        "data.head(2)"
      ],
      "execution_count": 0,
      "outputs": [
        {
          "output_type": "execute_result",
          "data": {
            "text/html": [
              "<div>\n",
              "<style scoped>\n",
              "    .dataframe tbody tr th:only-of-type {\n",
              "        vertical-align: middle;\n",
              "    }\n",
              "\n",
              "    .dataframe tbody tr th {\n",
              "        vertical-align: top;\n",
              "    }\n",
              "\n",
              "    .dataframe thead th {\n",
              "        text-align: right;\n",
              "    }\n",
              "</style>\n",
              "<table border=\"1\" class=\"dataframe\">\n",
              "  <thead>\n",
              "    <tr style=\"text-align: right;\">\n",
              "      <th></th>\n",
              "      <th>question</th>\n",
              "      <th>reply</th>\n",
              "      <th>reply_length</th>\n",
              "      <th>reply Length</th>\n",
              "    </tr>\n",
              "  </thead>\n",
              "  <tbody>\n",
              "    <tr>\n",
              "      <th>3</th>\n",
              "      <td>what is the battery made by volta credited to be?</td>\n",
              "      <td>start_ the first cell _end</td>\n",
              "      <td>14</td>\n",
              "      <td>26</td>\n",
              "    </tr>\n",
              "    <tr>\n",
              "      <th>4</th>\n",
              "      <td>what important electrical unit was named in ho...</td>\n",
              "      <td>start_ the volt _end</td>\n",
              "      <td>8</td>\n",
              "      <td>20</td>\n",
              "    </tr>\n",
              "  </tbody>\n",
              "</table>\n",
              "</div>"
            ],
            "text/plain": [
              "                                            question  ... reply Length\n",
              "3  what is the battery made by volta credited to be?  ...           26\n",
              "4  what important electrical unit was named in ho...  ...           20\n",
              "\n",
              "[2 rows x 4 columns]"
            ]
          },
          "metadata": {
            "tags": []
          },
          "execution_count": 36
        }
      ]
    },
    {
      "cell_type": "code",
      "metadata": {
        "id": "4nN84ge15Ng7",
        "colab_type": "code",
        "colab": {}
      },
      "source": [
        "data = data.sample(frac=1)"
      ],
      "execution_count": 0,
      "outputs": []
    },
    {
      "cell_type": "code",
      "metadata": {
        "id": "-9cI1crmqxhn",
        "colab_type": "code",
        "outputId": "b83c7765-77d1-41b9-8c87-476af0338e72",
        "colab": {
          "base_uri": "https://localhost:8080/",
          "height": 204
        }
      },
      "source": [
        "data.head()"
      ],
      "execution_count": 0,
      "outputs": [
        {
          "output_type": "execute_result",
          "data": {
            "text/html": [
              "<div>\n",
              "<style scoped>\n",
              "    .dataframe tbody tr th:only-of-type {\n",
              "        vertical-align: middle;\n",
              "    }\n",
              "\n",
              "    .dataframe tbody tr th {\n",
              "        vertical-align: top;\n",
              "    }\n",
              "\n",
              "    .dataframe thead th {\n",
              "        text-align: right;\n",
              "    }\n",
              "</style>\n",
              "<table border=\"1\" class=\"dataframe\">\n",
              "  <thead>\n",
              "    <tr style=\"text-align: right;\">\n",
              "      <th></th>\n",
              "      <th>question</th>\n",
              "      <th>reply</th>\n",
              "      <th>reply_length</th>\n",
              "      <th>reply Length</th>\n",
              "    </tr>\n",
              "  </thead>\n",
              "  <tbody>\n",
              "    <tr>\n",
              "      <th>1085</th>\n",
              "      <td>how is the climate in the city?</td>\n",
              "      <td>start_ the city is hot and humid _end</td>\n",
              "      <td>26</td>\n",
              "      <td>37</td>\n",
              "    </tr>\n",
              "    <tr>\n",
              "      <th>579</th>\n",
              "      <td>where is harvesting wild turtles legal?</td>\n",
              "      <td>start_ florida _end</td>\n",
              "      <td>7</td>\n",
              "      <td>19</td>\n",
              "    </tr>\n",
              "    <tr>\n",
              "      <th>2238</th>\n",
              "      <td>what expired on march?</td>\n",
              "      <td>start_ monroe's presidency _end</td>\n",
              "      <td>19</td>\n",
              "      <td>31</td>\n",
              "    </tr>\n",
              "    <tr>\n",
              "      <th>693</th>\n",
              "      <td>what are the three segments of an ant?</td>\n",
              "      <td>start_ the head, mesosoma and metasoma are the...</td>\n",
              "      <td>69</td>\n",
              "      <td>80</td>\n",
              "    </tr>\n",
              "    <tr>\n",
              "      <th>2080</th>\n",
              "      <td>who is the head of state of ghana?</td>\n",
              "      <td>start_ john agyekum kufuor _end</td>\n",
              "      <td>19</td>\n",
              "      <td>31</td>\n",
              "    </tr>\n",
              "  </tbody>\n",
              "</table>\n",
              "</div>"
            ],
            "text/plain": [
              "                                     question  ... reply Length\n",
              "1085          how is the climate in the city?  ...           37\n",
              "579   where is harvesting wild turtles legal?  ...           19\n",
              "2238                   what expired on march?  ...           31\n",
              "693    what are the three segments of an ant?  ...           80\n",
              "2080       who is the head of state of ghana?  ...           31\n",
              "\n",
              "[5 rows x 4 columns]"
            ]
          },
          "metadata": {
            "tags": []
          },
          "execution_count": 38
        }
      ]
    },
    {
      "cell_type": "markdown",
      "metadata": {
        "id": "oZLHjHWArFA6",
        "colab_type": "text"
      },
      "source": [
        "From above graphs and data we observed that <b>maximun reply have less words. </b><br><br>\n",
        "and <b>average length</b> if reply is nearly <b>25</b> words<br><br>\n",
        "We have <b>169</b> unique reply\n"
      ]
    },
    {
      "cell_type": "markdown",
      "metadata": {
        "id": "QujyL73prseT",
        "colab_type": "text"
      },
      "source": [
        "<h2> Check for emails </h2>"
      ]
    },
    {
      "cell_type": "code",
      "metadata": {
        "id": "rtqw89lviMMr",
        "colab_type": "code",
        "colab": {}
      },
      "source": [
        "all_questions = data['question'].values"
      ],
      "execution_count": 0,
      "outputs": []
    },
    {
      "cell_type": "code",
      "metadata": {
        "id": "O6l_1hStAynl",
        "colab_type": "code",
        "colab": {}
      },
      "source": [
        "#Preprocessing questions \n",
        "#Remove the full stops from the dataframe replys\n",
        "\n",
        "bad_chars = [';', ':', '!', \"*\",'.',')','(','?','-','--']\n",
        "\n",
        "preprocessed_question = []\n",
        "for question in all_questions:\n",
        "  for i in bad_chars : \n",
        "    question = question.replace(i, '')\n",
        "  preprocessed_question.append(question)\n",
        "\n"
      ],
      "execution_count": 0,
      "outputs": []
    },
    {
      "cell_type": "code",
      "metadata": {
        "id": "kv2PnAApgZK5",
        "colab_type": "code",
        "colab": {}
      },
      "source": [
        "data['question'] = preprocessed_question"
      ],
      "execution_count": 0,
      "outputs": []
    },
    {
      "cell_type": "markdown",
      "metadata": {
        "id": "17OJ8r9UbMbe",
        "colab_type": "text"
      },
      "source": [
        "<h3> Words stemming </h3>"
      ]
    },
    {
      "cell_type": "code",
      "metadata": {
        "id": "wTp7oYSKYVH2",
        "colab_type": "code",
        "colab": {}
      },
      "source": [
        "#We'll not use Word steemming here as it can create problem in understanding grammar.\n",
        "# #Performing stammering here\n",
        "# # We are having less data\n",
        "# from nltk.stem import PorterStemmer\n",
        "# porter = PorterStemmer()\n",
        "# stemmed_sent = []\n",
        "# for sent in preprocessed_question:\n",
        "#   word_arr = []\n",
        "#   for word in sent.split():\n",
        "#     word_arr.append(porter.stem(word))\n",
        "#   temp_str = \"\"\n",
        "#   for words in word_arr:\n",
        "#     temp_str += words + \" \"\n",
        "#   stemmed_sent.append(temp_str)"
      ],
      "execution_count": 0,
      "outputs": []
    },
    {
      "cell_type": "code",
      "metadata": {
        "id": "zrlzs4y1Ay5g",
        "colab_type": "code",
        "colab": {}
      },
      "source": [
        "# data['question'] = stemmed_sent"
      ],
      "execution_count": 0,
      "outputs": []
    },
    {
      "cell_type": "code",
      "metadata": {
        "id": "ir4gNpv7bmW3",
        "colab_type": "code",
        "colab": {}
      },
      "source": [
        "#trimming the string the dataframe  \n",
        "#because after removal of the special character trimming might have lost\n",
        "data = data.applymap(lambda x: x.strip() if isinstance(x, str) else x)\n"
      ],
      "execution_count": 0,
      "outputs": []
    },
    {
      "cell_type": "code",
      "metadata": {
        "id": "tcn-iMOP9eeJ",
        "colab_type": "code",
        "outputId": "91a5e7c4-e562-4b93-fe96-28da3879a33c",
        "colab": {
          "base_uri": "https://localhost:8080/",
          "height": 204
        }
      },
      "source": [
        "data.head()"
      ],
      "execution_count": 0,
      "outputs": [
        {
          "output_type": "execute_result",
          "data": {
            "text/html": [
              "<div>\n",
              "<style scoped>\n",
              "    .dataframe tbody tr th:only-of-type {\n",
              "        vertical-align: middle;\n",
              "    }\n",
              "\n",
              "    .dataframe tbody tr th {\n",
              "        vertical-align: top;\n",
              "    }\n",
              "\n",
              "    .dataframe thead th {\n",
              "        text-align: right;\n",
              "    }\n",
              "</style>\n",
              "<table border=\"1\" class=\"dataframe\">\n",
              "  <thead>\n",
              "    <tr style=\"text-align: right;\">\n",
              "      <th></th>\n",
              "      <th>question</th>\n",
              "      <th>reply</th>\n",
              "      <th>reply_length</th>\n",
              "      <th>reply Length</th>\n",
              "    </tr>\n",
              "  </thead>\n",
              "  <tbody>\n",
              "    <tr>\n",
              "      <th>1085</th>\n",
              "      <td>how is the climate in the city</td>\n",
              "      <td>start_ the city is hot and humid _end</td>\n",
              "      <td>26</td>\n",
              "      <td>37</td>\n",
              "    </tr>\n",
              "    <tr>\n",
              "      <th>579</th>\n",
              "      <td>where is harvesting wild turtles legal</td>\n",
              "      <td>start_ florida _end</td>\n",
              "      <td>7</td>\n",
              "      <td>19</td>\n",
              "    </tr>\n",
              "    <tr>\n",
              "      <th>2238</th>\n",
              "      <td>what expired on march</td>\n",
              "      <td>start_ monroe's presidency _end</td>\n",
              "      <td>19</td>\n",
              "      <td>31</td>\n",
              "    </tr>\n",
              "    <tr>\n",
              "      <th>693</th>\n",
              "      <td>what are the three segments of an ant</td>\n",
              "      <td>start_ the head, mesosoma and metasoma are the...</td>\n",
              "      <td>69</td>\n",
              "      <td>80</td>\n",
              "    </tr>\n",
              "    <tr>\n",
              "      <th>2080</th>\n",
              "      <td>who is the head of state of ghana</td>\n",
              "      <td>start_ john agyekum kufuor _end</td>\n",
              "      <td>19</td>\n",
              "      <td>31</td>\n",
              "    </tr>\n",
              "  </tbody>\n",
              "</table>\n",
              "</div>"
            ],
            "text/plain": [
              "                                    question  ... reply Length\n",
              "1085          how is the climate in the city  ...           37\n",
              "579   where is harvesting wild turtles legal  ...           19\n",
              "2238                   what expired on march  ...           31\n",
              "693    what are the three segments of an ant  ...           80\n",
              "2080       who is the head of state of ghana  ...           31\n",
              "\n",
              "[5 rows x 4 columns]"
            ]
          },
          "metadata": {
            "tags": []
          },
          "execution_count": 45
        }
      ]
    },
    {
      "cell_type": "code",
      "metadata": {
        "id": "IsKwpzUk_2Yg",
        "colab_type": "code",
        "colab": {}
      },
      "source": [
        "del len"
      ],
      "execution_count": 0,
      "outputs": []
    },
    {
      "cell_type": "code",
      "metadata": {
        "id": "bHv6ShjNiMSf",
        "colab_type": "code",
        "outputId": "bf4f40de-b7b3-4ec5-8bac-24a6fe3eb987",
        "colab": {
          "base_uri": "https://localhost:8080/",
          "height": 561
        }
      },
      "source": [
        "import matplotlib\n",
        "matplotlib.rc('figure', figsize=[50,5])\n",
        "#Getting the length of each reply\n",
        "data[\"question_length\"]= data[\"question\"].str.len()\n",
        "len_questions = data[\"question_length\"].values\n",
        "\n",
        "#converting datatype to string\n",
        "len_str_arr = []\n",
        "for num in len_questions:\n",
        "  len_str_arr.append(str(num)) \n",
        "\n",
        "no_reply_counter = 0\n",
        "for num in len_questions:\n",
        "  if num == 0:\n",
        "    no_reply_counter += 1\n",
        "\n",
        "temp_arr = []\n",
        "for indx in len_questions:\n",
        "  if indx == 0:\n",
        "    continue\n",
        "  else:\n",
        "    temp_arr.append(indx)\n",
        "    \n",
        "print(\"number of email don' have any reply\", end = ' : ')\n",
        "print(no_reply_counter)\n",
        "print('*' * 50)\n",
        "\n",
        "print('Max length', end = ' : ')\n",
        "print(max(list(len_questions)))\n",
        "print('*' * 50)\n",
        "\n",
        "print('Min Length', end = ' : ')\n",
        "print(min(list(temp_arr)))\n",
        "print('*' * 50)\n",
        "\n",
        "print(\"Average Length\", end = ' : ')\n",
        "print((sum(list(len_questions)))/(len(list(len_questions))))\n",
        "print('*' * 50)\n",
        "\n",
        "print(\"No of unique reply\", end = ' : ')\n",
        "print(len(list(set(len_questions))))\n",
        "print('*' * 50)\n",
        "\n",
        "\n",
        "print('-' * 50)\n",
        "print(\"Distribution of the words\")\n",
        "print('-' * 50)\n",
        "\n",
        "plt.hist(len_str_arr, 200,\n",
        "         histtype='bar',\n",
        "         facecolor='r',\n",
        "         alpha=0.5)\n",
        "plt.show()"
      ],
      "execution_count": 0,
      "outputs": [
        {
          "output_type": "stream",
          "text": [
            "number of email don' have any reply : 0\n",
            "**************************************************\n",
            "Max length : 246\n",
            "**************************************************\n",
            "Min Length : 4\n",
            "**************************************************\n",
            "Average Length : 48.07340946166395\n",
            "**************************************************\n",
            "No of unique reply : 119\n",
            "**************************************************\n",
            "--------------------------------------------------\n",
            "Distribution of the words\n",
            "--------------------------------------------------\n"
          ],
          "name": "stdout"
        },
        {
          "output_type": "display_data",
          "data": {
            "image/png": "[encoded data removed]",
            "text/plain": [
              "<Figure size 3600x360 with 1 Axes>"
            ]
          },
          "metadata": {
            "tags": []
          }
        }
      ]
    },
    {
      "cell_type": "markdown",
      "metadata": {
        "id": "PC-6hJeos4lk",
        "colab_type": "text"
      },
      "source": [
        "From the above graph we can observe that we have minimum of <b>4</b> character in the email<br><br>\n",
        "maximum length of the questions is <b>270</b><br><br>\n",
        "and we have unique distribution of <b>156</b> questions."
      ]
    },
    {
      "cell_type": "markdown",
      "metadata": {
        "id": "AX-JCQQyCL0Q",
        "colab_type": "text"
      },
      "source": [
        "Top Unique distribution of questions in dataset"
      ]
    },
    {
      "cell_type": "code",
      "metadata": {
        "colab_type": "code",
        "id": "5SSTC69ECtAC",
        "colab": {}
      },
      "source": [
        "question_list = list(data['question'].values)\n",
        "questions_dict = {i:question_list.count(i) for i in question_list}"
      ],
      "execution_count": 0,
      "outputs": []
    },
    {
      "cell_type": "code",
      "metadata": {
        "colab_type": "code",
        "id": "MQMpPIG6CtAD",
        "colab": {}
      },
      "source": [
        "from collections import OrderedDict\n",
        "questions_dict_sorted = OrderedDict(sorted(questions_dict.items(), key=lambda x: x[1]))"
      ],
      "execution_count": 0,
      "outputs": []
    },
    {
      "cell_type": "code",
      "metadata": {
        "colab_type": "code",
        "id": "zfBW6l0kCtAF",
        "colab": {}
      },
      "source": [
        "questions = []\n",
        "keys = []\n",
        "for item in questions_dict_sorted.items():\n",
        "  questions.append(item[0])\n",
        "  keys.append(item[1])"
      ],
      "execution_count": 0,
      "outputs": []
    },
    {
      "cell_type": "code",
      "metadata": {
        "colab_type": "code",
        "id": "Ly-dFxnXCtAH",
        "colab": {}
      },
      "source": [
        "questions.reverse()\n",
        "keys.reverse()"
      ],
      "execution_count": 0,
      "outputs": []
    },
    {
      "cell_type": "code",
      "metadata": {
        "colab_type": "code",
        "id": "kEZ2na2FCtAL",
        "colab": {}
      },
      "source": [
        "#top 10 reply\n",
        "top_5_questions = questions[:5]\n",
        "top_5_keys = keys[:5]"
      ],
      "execution_count": 0,
      "outputs": []
    },
    {
      "cell_type": "code",
      "metadata": {
        "colab_type": "code",
        "id": "XJtdgsG4CtAO",
        "colab": {}
      },
      "source": [
        "temp_questions_list = []\n",
        "i = 0\n",
        "for key in top_5_keys:\n",
        "  for _ in range(0,key):\n",
        "    temp_questions_list.append(top_5_questions[i])\n",
        "  i += 1"
      ],
      "execution_count": 0,
      "outputs": []
    },
    {
      "cell_type": "code",
      "metadata": {
        "colab_type": "code",
        "outputId": "e4fd2468-6567-4aec-c3dc-5316f50c037c",
        "id": "E2sCoPEpCtAQ",
        "colab": {
          "base_uri": "https://localhost:8080/",
          "height": 265
        }
      },
      "source": [
        "import matplotlib\n",
        "matplotlib.rc('figure', figsize=[20,4])\n",
        "plt.hist(temp_questions_list, 50,\n",
        "         histtype='bar',\n",
        "         facecolor='g',\n",
        "         alpha=0.5)\n",
        "plt.show()"
      ],
      "execution_count": 0,
      "outputs": [
        {
          "output_type": "display_data",
          "data": {
            "image/png": "[encoded data removed]",
            "text/plain": [
              "<Figure size 1440x288 with 1 Axes>"
            ]
          },
          "metadata": {
            "tags": []
          }
        }
      ]
    },
    {
      "cell_type": "markdown",
      "metadata": {
        "id": "3ilQK6LLEAB-",
        "colab_type": "text"
      },
      "source": [
        "Here we can see the top 5 repeated questions,<br>\n",
        "&nbsp;&nbsp;&nbsp;&nbsp;&nbsp;&nbsp;&nbsp;&nbsp; It's not looking usefull for any interpretation"
      ]
    },
    {
      "cell_type": "code",
      "metadata": {
        "id": "zIpAzHbDDfoD",
        "colab_type": "code",
        "outputId": "b79002e4-518e-4b0f-bf49-492d07494745",
        "colab": {
          "base_uri": "https://localhost:8080/",
          "height": 289
        }
      },
      "source": [
        "print(data.head(5))\n",
        "print(data.tail(5))"
      ],
      "execution_count": 0,
      "outputs": [
        {
          "output_type": "stream",
          "text": [
            "                                    question  ... question_length\n",
            "1085          how is the climate in the city  ...              30\n",
            "579   where is harvesting wild turtles legal  ...              38\n",
            "2238                   what expired on march  ...              21\n",
            "693    what are the three segments of an ant  ...              37\n",
            "2080       who is the head of state of ghana  ...              33\n",
            "\n",
            "[5 rows x 5 columns]\n",
            "                                               question  ... question_length\n",
            "3      what is the battery made by volta credited to be  ...              48\n",
            "260                 what is the smallest species of fox  ...              35\n",
            "105   what is the name of a university or similar in...  ...              97\n",
            "1459  where do most people in urban saint petersburg...  ...              51\n",
            "1600            what is the official language of turkey  ...              39\n",
            "\n",
            "[5 rows x 5 columns]\n"
          ],
          "name": "stdout"
        }
      ]
    },
    {
      "cell_type": "markdown",
      "metadata": {
        "id": "djx94dfPFEJ3",
        "colab_type": "text"
      },
      "source": [
        "Here we can <b>combine the Article Title with the question</b> which can help in getting better suggestions."
      ]
    },
    {
      "cell_type": "markdown",
      "metadata": {
        "id": "BL3OxMkpGfs7",
        "colab_type": "text"
      },
      "source": [
        "<b>Modelling Approaches:<br><i>\n",
        "# here before modeling we can stammer the sentences : Playing ko play\n",
        "* Seq2seq model\n",
        "* Bi-Directional LSTM\n",
        "* Attention Layer\n",
        "* Beam Search</b></i>"
      ]
    },
    {
      "cell_type": "markdown",
      "metadata": {
        "id": "jGNqb5y9gO3U",
        "colab_type": "text"
      },
      "source": [
        "# Modeling"
      ]
    },
    {
      "cell_type": "code",
      "metadata": {
        "id": "hDi0U_l1XtIk",
        "colab_type": "code",
        "colab": {}
      },
      "source": [
        "# Vocabulary of question\n",
        "all_email_words=[]\n",
        "for quest in data.question:\n",
        "    for word in quest.split():\n",
        "        if word not in all_email_words:\n",
        "            all_email_words.append(word)\n",
        "\n",
        "# Vocabulary of reply \n",
        "all_reply_words=[]\n",
        "for mar in data.reply:\n",
        "    for word in mar.split():\n",
        "        if word not in all_reply_words:\n",
        "            all_reply_words.append(word)"
      ],
      "execution_count": 0,
      "outputs": []
    },
    {
      "cell_type": "code",
      "metadata": {
        "id": "5rCX0FObZ4JN",
        "colab_type": "code",
        "colab": {}
      },
      "source": [
        "all_email_words = list(set(all_email_words))"
      ],
      "execution_count": 0,
      "outputs": []
    },
    {
      "cell_type": "code",
      "metadata": {
        "id": "qIa4hS2ua-3n",
        "colab_type": "code",
        "colab": {}
      },
      "source": [
        "all_reply_words = list(set(all_reply_words))"
      ],
      "execution_count": 0,
      "outputs": []
    },
    {
      "cell_type": "code",
      "metadata": {
        "id": "DKSfiCM57Uip",
        "colab_type": "code",
        "outputId": "9cff3063-dc32-4878-e1f6-614e0b88c907",
        "colab": {
          "base_uri": "https://localhost:8080/",
          "height": 204
        }
      },
      "source": [
        "data.head()"
      ],
      "execution_count": 0,
      "outputs": [
        {
          "output_type": "execute_result",
          "data": {
            "text/html": [
              "<div>\n",
              "<style scoped>\n",
              "    .dataframe tbody tr th:only-of-type {\n",
              "        vertical-align: middle;\n",
              "    }\n",
              "\n",
              "    .dataframe tbody tr th {\n",
              "        vertical-align: top;\n",
              "    }\n",
              "\n",
              "    .dataframe thead th {\n",
              "        text-align: right;\n",
              "    }\n",
              "</style>\n",
              "<table border=\"1\" class=\"dataframe\">\n",
              "  <thead>\n",
              "    <tr style=\"text-align: right;\">\n",
              "      <th></th>\n",
              "      <th>question</th>\n",
              "      <th>reply</th>\n",
              "      <th>reply_length</th>\n",
              "      <th>reply Length</th>\n",
              "      <th>question_length</th>\n",
              "    </tr>\n",
              "  </thead>\n",
              "  <tbody>\n",
              "    <tr>\n",
              "      <th>1085</th>\n",
              "      <td>how is the climate in the city</td>\n",
              "      <td>start_ the city is hot and humid _end</td>\n",
              "      <td>26</td>\n",
              "      <td>37</td>\n",
              "      <td>30</td>\n",
              "    </tr>\n",
              "    <tr>\n",
              "      <th>579</th>\n",
              "      <td>where is harvesting wild turtles legal</td>\n",
              "      <td>start_ florida _end</td>\n",
              "      <td>7</td>\n",
              "      <td>19</td>\n",
              "      <td>38</td>\n",
              "    </tr>\n",
              "    <tr>\n",
              "      <th>2238</th>\n",
              "      <td>what expired on march</td>\n",
              "      <td>start_ monroe's presidency _end</td>\n",
              "      <td>19</td>\n",
              "      <td>31</td>\n",
              "      <td>21</td>\n",
              "    </tr>\n",
              "    <tr>\n",
              "      <th>693</th>\n",
              "      <td>what are the three segments of an ant</td>\n",
              "      <td>start_ the head, mesosoma and metasoma are the...</td>\n",
              "      <td>69</td>\n",
              "      <td>80</td>\n",
              "      <td>37</td>\n",
              "    </tr>\n",
              "    <tr>\n",
              "      <th>2080</th>\n",
              "      <td>who is the head of state of ghana</td>\n",
              "      <td>start_ john agyekum kufuor _end</td>\n",
              "      <td>19</td>\n",
              "      <td>31</td>\n",
              "      <td>33</td>\n",
              "    </tr>\n",
              "  </tbody>\n",
              "</table>\n",
              "</div>"
            ],
            "text/plain": [
              "                                    question  ... question_length\n",
              "1085          how is the climate in the city  ...              30\n",
              "579   where is harvesting wild turtles legal  ...              38\n",
              "2238                   what expired on march  ...              21\n",
              "693    what are the three segments of an ant  ...              37\n",
              "2080       who is the head of state of ghana  ...              33\n",
              "\n",
              "[5 rows x 5 columns]"
            ]
          },
          "metadata": {
            "tags": []
          },
          "execution_count": 59
        }
      ]
    },
    {
      "cell_type": "code",
      "metadata": {
        "id": "efgferF-7jmO",
        "colab_type": "code",
        "outputId": "63cc3308-561e-488a-a4ff-694f48fc5bb8",
        "colab": {
          "base_uri": "https://localhost:8080/",
          "height": 34
        }
      },
      "source": [
        "len(\"hello\")"
      ],
      "execution_count": 0,
      "outputs": [
        {
          "output_type": "execute_result",
          "data": {
            "text/plain": [
              "5"
            ]
          },
          "metadata": {
            "tags": []
          },
          "execution_count": 60
        }
      ]
    },
    {
      "cell_type": "code",
      "metadata": {
        "id": "eX0dl2XPNpd2",
        "colab_type": "code",
        "outputId": "6a66e787-095f-41b7-dea5-4a973f9424f5",
        "colab": {
          "base_uri": "https://localhost:8080/",
          "height": 34
        }
      },
      "source": [
        "import numpy as np\n",
        "lenght_list=[]\n",
        "for l in data.question.values:\n",
        "    lenght_list.append(len(l.split(' ')))\n",
        "max_length_src = max(lenght_list)\n",
        "max_length_src"
      ],
      "execution_count": 0,
      "outputs": [
        {
          "output_type": "execute_result",
          "data": {
            "text/plain": [
              "46"
            ]
          },
          "metadata": {
            "tags": []
          },
          "execution_count": 61
        }
      ]
    },
    {
      "cell_type": "code",
      "metadata": {
        "id": "gsOifdDLninm",
        "colab_type": "code",
        "outputId": "5f77e28c-d869-4409-d37d-bcbf38cceb24",
        "colab": {
          "base_uri": "https://localhost:8080/",
          "height": 34
        }
      },
      "source": [
        "#getting the max length of the list\n",
        "lenght_list=[]\n",
        "for l in data.reply.values:\n",
        "    lenght_list.append(len(l.split(' ')))\n",
        "max_length_tar = np.max(lenght_list)\n",
        "max_length_tar"
      ],
      "execution_count": 0,
      "outputs": [
        {
          "output_type": "execute_result",
          "data": {
            "text/plain": [
              "158"
            ]
          },
          "metadata": {
            "tags": []
          },
          "execution_count": 62
        }
      ]
    },
    {
      "cell_type": "code",
      "metadata": {
        "id": "cO6NAiNCNpb0",
        "colab_type": "code",
        "outputId": "0d0a7708-836d-48fd-a471-c678315eaf33",
        "colab": {
          "base_uri": "https://localhost:8080/",
          "height": 34
        }
      },
      "source": [
        "\n",
        "#All input words\n",
        "input_words = sorted(list(all_email_words))\n",
        "target_words = sorted(list(all_reply_words))\n",
        "\n",
        "# get the length of the vocabalary // Kitne words // this will help while performing embedding layer\n",
        "num_encoder_tokens = len(all_email_words) + 1\n",
        "num_decoder_tokens = len(all_reply_words) + 1\n",
        "\n",
        "num_encoder_tokens, num_decoder_tokens"
      ],
      "execution_count": 0,
      "outputs": [
        {
          "output_type": "execute_result",
          "data": {
            "text/plain": [
              "(2889, 3776)"
            ]
          },
          "metadata": {
            "tags": []
          },
          "execution_count": 63
        }
      ]
    },
    {
      "cell_type": "code",
      "metadata": {
        "id": "ffcT8tnQc-iP",
        "colab_type": "code",
        "colab": {}
      },
      "source": [
        "# from word to token we can get\n",
        "input_token_index = dict([(word, i+1) for i, word in enumerate(input_words)])\n",
        "target_token_index = dict([(word, i+1) for i, word in enumerate(target_words)])"
      ],
      "execution_count": 0,
      "outputs": []
    },
    {
      "cell_type": "code",
      "metadata": {
        "id": "fGKBhRWUltVL",
        "colab_type": "code",
        "outputId": "c61261b6-ebcf-4d2f-f60f-2f50ceb94c7c",
        "colab": {
          "base_uri": "https://localhost:8080/",
          "height": 34
        }
      },
      "source": [
        "input_token_index['three']"
      ],
      "execution_count": 0,
      "outputs": [
        {
          "output_type": "execute_result",
          "data": {
            "text/plain": [
              "2597"
            ]
          },
          "metadata": {
            "tags": []
          },
          "execution_count": 65
        }
      ]
    },
    {
      "cell_type": "code",
      "metadata": {
        "id": "96-7OL3dAoTJ",
        "colab_type": "code",
        "colab": {}
      },
      "source": [
        "# from token to word we can get\n",
        "reverse_input_char_index = dict((i, word) for word, i in input_token_index.items())\n",
        "reverse_target_char_index = dict((i, word) for word, i in target_token_index.items())"
      ],
      "execution_count": 0,
      "outputs": []
    },
    {
      "cell_type": "code",
      "metadata": {
        "id": "j9qWgLSgl24s",
        "colab_type": "code",
        "colab": {}
      },
      "source": [
        "# reverse_input_char_index[3940]"
      ],
      "execution_count": 0,
      "outputs": []
    },
    {
      "cell_type": "code",
      "metadata": {
        "id": "o9hXENXBhBTe",
        "colab_type": "code",
        "outputId": "b6d974ae-5dc6-4ce5-ad6d-807d5db34a37",
        "colab": {
          "base_uri": "https://localhost:8080/",
          "height": 111
        }
      },
      "source": [
        "from sklearn.utils import shuffle\n",
        "data = shuffle(data)\n",
        "data.head(2)"
      ],
      "execution_count": 0,
      "outputs": [
        {
          "output_type": "execute_result",
          "data": {
            "text/html": [
              "<div>\n",
              "<style scoped>\n",
              "    .dataframe tbody tr th:only-of-type {\n",
              "        vertical-align: middle;\n",
              "    }\n",
              "\n",
              "    .dataframe tbody tr th {\n",
              "        vertical-align: top;\n",
              "    }\n",
              "\n",
              "    .dataframe thead th {\n",
              "        text-align: right;\n",
              "    }\n",
              "</style>\n",
              "<table border=\"1\" class=\"dataframe\">\n",
              "  <thead>\n",
              "    <tr style=\"text-align: right;\">\n",
              "      <th></th>\n",
              "      <th>question</th>\n",
              "      <th>reply</th>\n",
              "      <th>reply_length</th>\n",
              "      <th>reply Length</th>\n",
              "      <th>question_length</th>\n",
              "    </tr>\n",
              "  </thead>\n",
              "  <tbody>\n",
              "    <tr>\n",
              "      <th>1309</th>\n",
              "      <td>how many civilians died in the 1998 us embassy...</td>\n",
              "      <td>start_ over two hundred _end</td>\n",
              "      <td>16</td>\n",
              "      <td>28</td>\n",
              "      <td>54</td>\n",
              "    </tr>\n",
              "    <tr>\n",
              "      <th>492</th>\n",
              "      <td>what is the order of santiago</td>\n",
              "      <td>start_ a spanish knightly order _end</td>\n",
              "      <td>24</td>\n",
              "      <td>36</td>\n",
              "      <td>29</td>\n",
              "    </tr>\n",
              "  </tbody>\n",
              "</table>\n",
              "</div>"
            ],
            "text/plain": [
              "                                               question  ... question_length\n",
              "1309  how many civilians died in the 1998 us embassy...  ...              54\n",
              "492                       what is the order of santiago  ...              29\n",
              "\n",
              "[2 rows x 5 columns]"
            ]
          },
          "metadata": {
            "tags": []
          },
          "execution_count": 68
        }
      ]
    },
    {
      "cell_type": "code",
      "metadata": {
        "id": "h5Wuj1cAhBXx",
        "colab_type": "code",
        "outputId": "a80c7036-fcc7-4d95-f18f-af1ee8757631",
        "colab": {
          "base_uri": "https://localhost:8080/",
          "height": 34
        }
      },
      "source": [
        "# Train - Test Split\n",
        "from sklearn.model_selection import train_test_split\n",
        "X, y = data.question, data.reply\n",
        "X_train, X_test, y_train, y_test = train_test_split(X, y, test_size = 0.1)\n",
        "X_train.shape, X_test.shape"
      ],
      "execution_count": 0,
      "outputs": [
        {
          "output_type": "execute_result",
          "data": {
            "text/plain": [
              "((1655,), (184,))"
            ]
          },
          "metadata": {
            "tags": []
          },
          "execution_count": 69
        }
      ]
    },
    {
      "cell_type": "code",
      "metadata": {
        "id": "eshPk3xlmFwY",
        "colab_type": "code",
        "outputId": "9de19123-c4b3-4a14-d76f-8de832365d13",
        "colab": {
          "base_uri": "https://localhost:8080/",
          "height": 119
        }
      },
      "source": [
        "y_train.head()"
      ],
      "execution_count": 0,
      "outputs": [
        {
          "output_type": "execute_result",
          "data": {
            "text/plain": [
              "631                                  start_ napoleon _end\n",
              "2695    start_ in 1990, goh chok tong succeeded lee as...\n",
              "1100    start_ it lies on a plain, approximately eight...\n",
              "2727    start_ that his children had been educated wit...\n",
              "753     start_ yes, the gendarmenmarkt borders the fre...\n",
              "Name: reply, dtype: object"
            ]
          },
          "metadata": {
            "tags": []
          },
          "execution_count": 70
        }
      ]
    },
    {
      "cell_type": "code",
      "metadata": {
        "id": "l7CIF_mb-wWA",
        "colab_type": "code",
        "outputId": "c5af46fe-23e2-47ec-d517-209dc9836553",
        "colab": {
          "base_uri": "https://localhost:8080/",
          "height": 119
        }
      },
      "source": [
        "X_train.head()"
      ],
      "execution_count": 0,
      "outputs": [
        {
          "output_type": "execute_result",
          "data": {
            "text/plain": [
              "631                                who made volta a count\n",
              "2695    when did goh chok tong succeed lee as prime mi...\n",
              "1100     what contributes to frequent flooding in jakarta\n",
              "2727    what was roosevelt's justification for support...\n",
              "753     does the gendarmenmarkt border the french cath...\n",
              "Name: question, dtype: object"
            ]
          },
          "metadata": {
            "tags": []
          },
          "execution_count": 71
        }
      ]
    },
    {
      "cell_type": "code",
      "metadata": {
        "id": "8jNrN6Lqh5uB",
        "colab_type": "code",
        "colab": {}
      },
      "source": [
        "questions = X.values\n",
        "replies =  y.values\n",
        "\n",
        "all_txt_data = questions + replies"
      ],
      "execution_count": 0,
      "outputs": []
    },
    {
      "cell_type": "code",
      "metadata": {
        "id": "yBY2ykCS43VK",
        "colab_type": "code",
        "colab": {}
      },
      "source": [
        "all_words = list(set(all_email_words + all_reply_words))\n",
        "eng_words = list(set(all_email_words))"
      ],
      "execution_count": 0,
      "outputs": []
    },
    {
      "cell_type": "code",
      "metadata": {
        "id": "S9eI61yzA4xF",
        "colab_type": "code",
        "colab": {}
      },
      "source": [
        "vocab_len = len(eng_words)\n",
        "latent_dim = 300"
      ],
      "execution_count": 0,
      "outputs": []
    },
    {
      "cell_type": "code",
      "metadata": {
        "id": "PS73zr_1_Phf",
        "colab_type": "code",
        "colab": {}
      },
      "source": [
        "import pickle\n",
        "glove_pickel = open(\"drive/My Drive/DonarChoose/glove_vectors\",\"rb\")\n",
        "glove_ = pickle.load(glove_pickel)"
      ],
      "execution_count": 0,
      "outputs": []
    },
    {
      "cell_type": "code",
      "metadata": {
        "id": "VCP8iwnkCoKG",
        "colab_type": "code",
        "colab": {}
      },
      "source": [
        "vector = glove_.get(word)"
      ],
      "execution_count": 0,
      "outputs": []
    },
    {
      "cell_type": "code",
      "metadata": {
        "id": "sYEugvIM_QOX",
        "colab_type": "code",
        "outputId": "b7907182-0189-47c5-9c35-4aa009b6f94a",
        "colab": {
          "base_uri": "https://localhost:8080/",
          "height": 34
        }
      },
      "source": [
        "embedded_matrix = np.zeros((vocab_len, latent_dim))\n",
        "for word, i in input_token_index.items():\n",
        "    vector = glove_.get(word)\n",
        "    if vector is not None:\n",
        "      embedded_matrix[i] = vector\n",
        "print(embedded_matrix.shape)"
      ],
      "execution_count": 0,
      "outputs": [
        {
          "output_type": "stream",
          "text": [
            "(2888, 300)\n"
          ],
          "name": "stdout"
        }
      ]
    },
    {
      "cell_type": "code",
      "metadata": {
        "id": "QWCmkE25lFYV",
        "colab_type": "code",
        "colab": {}
      },
      "source": [
        "def generate_batch(X, y, batch_size=1):\n",
        "    while True:\n",
        "      # in every batch we are sending (batch_size) of sentences\n",
        "        for j in range(0, len(X), batch_size):\n",
        "            encoder_input_data = np.zeros((batch_size, max_length_src),\n",
        "                    dtype='float32')\n",
        "            decoder_input_data = np.zeros((batch_size, max_length_tar),\n",
        "                    dtype='float32')\n",
        "            decoder_target_data = np.zeros((batch_size, max_length_tar,\n",
        "                    num_decoder_tokens), dtype='float32')\n",
        "\n",
        "            # for all the sentences in the batch\n",
        "            for (i, (input_text, target_text)) in enumerate(zip(X[j:j+ batch_size], y[j:j + batch_size])):\n",
        "\n",
        "                # for words in each sentence //question\n",
        "                for (t, word) in enumerate(input_text.split()):  # question wale text ko tokenize kiya gaya\n",
        "                    encoder_input_data[i,t] = input_token_index[word]  # encoder input seq\n",
        "\n",
        "                # for each word in   Sentence\n",
        "                for (t, word) in enumerate(target_text.split()):  # t is the length of the sentence\n",
        "                    if t < len(target_text.split()) -1:\n",
        "                        decoder_input_data[i,t] = target_token_index[word]  # decoder input seq\n",
        "                    if t > 0: #>0 cz we have to remove word start_\n",
        "                        #one-hot encoding \n",
        "                        #and making it to the output shape from decoder\n",
        "                        decoder_target_data[i, t - 1,\n",
        "                                target_token_index[word]] = 1.\n",
        "                                                       \n",
        "            return ([encoder_input_data, decoder_input_data],\n",
        "                   decoder_target_data)  # this will help multiple return// like closure in swift\n"
      ],
      "execution_count": 0,
      "outputs": []
    },
    {
      "cell_type": "code",
      "metadata": {
        "id": "OMu2eK6okd73",
        "colab_type": "code",
        "colab": {}
      },
      "source": [
        ""
      ],
      "execution_count": 0,
      "outputs": []
    },
    {
      "cell_type": "code",
      "metadata": {
        "id": "z1LMZ-WfQU2O",
        "colab_type": "code",
        "colab": {}
      },
      "source": [
        "#https://stackoverflow.com/questions/56097089/how-to-fix-name-embedding-is-not-defined-in-keras\n",
        "from keras.layers import Dense, Dropout, BatchNormalization, Input, Flatten, concatenate,Embedding,RepeatVector\n",
        "embedded_layer = Embedding(vocab_len,latent_dim,weights=[embedded_matrix],input_length=1500,trainable=False) # we are using the embedded matrix to get the weights which we initialize randomly in embedded layer"
      ],
      "execution_count": 0,
      "outputs": []
    },
    {
      "cell_type": "code",
      "metadata": {
        "id": "7FoiNbNiOkAk",
        "colab_type": "code",
        "colab": {}
      },
      "source": [
        "from keras.layers import Dense, Dropout, Embedding, LSTM, Bidirectional,Concatenate,TimeDistributed\n",
        "from keras.layers import Input, LSTM, Embedding, Dense\n",
        "from keras.models import Model\n",
        "\n",
        "# Encoder\n",
        "latent_dim = 300 # how much dimension of output we want form the embedding layer\n",
        "encoder_inputs = Input(shape=(None,)) # mentioning the input shape row and collumns are still null\n",
        "\n",
        "# **num_encoder_tokens** vocabulary size we are having\n",
        "\n",
        "# enc_emb =  Embedding(num_encoder_tokens, latent_dim, mask_zero = True)(encoder_inputs) #Embedding layer # this layer will make it 3D\n",
        "enc_emb = embedded_layer(encoder_inputs)\n",
        "\n",
        "\n",
        "#training the LSTM on encoder\n",
        "encoder_lstm = Bidirectional(LSTM(128, return_sequences=True, return_state=True))\n",
        "encoder_output, forward_h, forward_c, backward_h, backward_c = encoder_lstm(enc_emb)\n",
        "state_h = Concatenate()([forward_h, backward_h])\n",
        "state_c = Concatenate()([forward_c, backward_c])\n",
        "\n",
        "\n",
        "encoder_states = [state_h, state_c] #output and the cell state"
      ],
      "execution_count": 0,
      "outputs": []
    },
    {
      "cell_type": "code",
      "metadata": {
        "id": "fcHktf9JCITa",
        "colab_type": "code",
        "outputId": "e367be26-a3f4-4200-83f7-66e532a349d7",
        "colab": {
          "base_uri": "https://localhost:8080/",
          "height": 34
        }
      },
      "source": [
        "num_decoder_tokens"
      ],
      "execution_count": 0,
      "outputs": [
        {
          "output_type": "execute_result",
          "data": {
            "text/plain": [
              "3776"
            ]
          },
          "metadata": {
            "tags": []
          },
          "execution_count": 95
        }
      ]
    },
    {
      "cell_type": "code",
      "metadata": {
        "colab_type": "code",
        "id": "0kGblmsY80Rd",
        "colab": {}
      },
      "source": [
        "import tensorflow as tf\n",
        "from tensorflow.keras import layers, models\n",
        "#  Set up the decoder, using `encoder_states` as initial state.\n",
        "decoder_inputs = Input(shape=(None,)) #Reply's input\n",
        "dec_emb_layer = Embedding(num_decoder_tokens, latent_dim, mask_zero = True) \n",
        "dec_emb = dec_emb_layer(decoder_inputs) # Reply sikhaye hum Embedding layer ko\n",
        "\n",
        "# We set up our decoder to return full output sequences,\n",
        "# and to return internal states as well. We don't use the\n",
        "# return states in the training model, but we will use them in inference.\n",
        "\n",
        "\n",
        "decoder_lstm = LSTM(256, return_sequences=True, return_state=True)\n",
        "decoder_output, decoder_h, decoder_c = decoder_lstm(dec_emb,initial_state=encoder_states)\n",
        "decoder_states = [decoder_h, decoder_c]\n",
        "\n",
        "# logits = Dense(num_decoder_tokens, name='logits')(drop_layer)\n",
        "# logits = Lambda(lambda x: x / temperature, name='Temperature')(logits) # this layer brings the predicted probabilitties near to each other, eg dog and cow prob will be near.\n",
        "\n",
        "\n",
        "decoder_dense = (Dense(num_decoder_tokens, activation='softmax'))\n",
        "decoder_outputs = decoder_dense(decoder_output)\n",
        "\n",
        "# Define the model that will turn\n",
        "# `encoder_input_data` & `decoder_input_data` into `decoder_target_data`\n",
        "model = Model([encoder_inputs, decoder_inputs], decoder_outputs)"
      ],
      "execution_count": 0,
      "outputs": []
    },
    {
      "cell_type": "code",
      "metadata": {
        "id": "Yf_PYG_th-T9",
        "colab_type": "code",
        "colab": {}
      },
      "source": [
        "model.compile(optimizer='rmsprop', loss='categorical_crossentropy', metrics=['acc'])"
      ],
      "execution_count": 0,
      "outputs": []
    },
    {
      "cell_type": "code",
      "metadata": {
        "id": "G4WsxOpo79bC",
        "colab_type": "code",
        "outputId": "5f6ffeb7-18ba-43a8-a696-4659247d71ba",
        "colab": {
          "base_uri": "https://localhost:8080/",
          "height": 544
        }
      },
      "source": [
        "print(model.summary())"
      ],
      "execution_count": 0,
      "outputs": [
        {
          "output_type": "stream",
          "text": [
            "Model: \"model_2\"\n",
            "__________________________________________________________________________________________________\n",
            "Layer (type)                    Output Shape         Param #     Connected to                     \n",
            "==================================================================================================\n",
            "input_3 (InputLayer)            (None, None)         0                                            \n",
            "__________________________________________________________________________________________________\n",
            "embedding_3 (Embedding)         (None, 1500, 300)    866400      input_3[0][0]                    \n",
            "__________________________________________________________________________________________________\n",
            "input_4 (InputLayer)            (None, None)         0                                            \n",
            "__________________________________________________________________________________________________\n",
            "bidirectional_2 (Bidirectional) [(None, 1500, 256),  439296      embedding_3[0][0]                \n",
            "__________________________________________________________________________________________________\n",
            "embedding_4 (Embedding)         (None, None, 300)    1132800     input_4[0][0]                    \n",
            "__________________________________________________________________________________________________\n",
            "concatenate_3 (Concatenate)     (None, 256)          0           bidirectional_2[0][1]            \n",
            "                                                                 bidirectional_2[0][3]            \n",
            "__________________________________________________________________________________________________\n",
            "concatenate_4 (Concatenate)     (None, 256)          0           bidirectional_2[0][2]            \n",
            "                                                                 bidirectional_2[0][4]            \n",
            "__________________________________________________________________________________________________\n",
            "lstm_4 (LSTM)                   [(None, None, 256),  570368      embedding_4[0][0]                \n",
            "                                                                 concatenate_3[0][0]              \n",
            "                                                                 concatenate_4[0][0]              \n",
            "__________________________________________________________________________________________________\n",
            "dense_2 (Dense)                 (None, None, 3776)   970432      lstm_4[0][0]                     \n",
            "==================================================================================================\n",
            "Total params: 3,979,296\n",
            "Trainable params: 3,112,896\n",
            "Non-trainable params: 866,400\n",
            "__________________________________________________________________________________________________\n",
            "None\n"
          ],
          "name": "stdout"
        }
      ]
    },
    {
      "cell_type": "code",
      "metadata": {
        "id": "dVXgCsmaCuBN",
        "colab_type": "code",
        "outputId": "20204b90-45f2-4be7-811e-5360c2bab4f6",
        "colab": {
          "base_uri": "https://localhost:8080/",
          "height": 564
        }
      },
      "source": [
        "from keras.utils import plot_model\n",
        "plot_model(model, to_file='multilayer_perceptron_graph.png')"
      ],
      "execution_count": 0,
      "outputs": [
        {
          "output_type": "execute_result",
          "data": {
            "image/png": "[encoded data removed]",
            "text/plain": [
              "<IPython.core.display.Image object>"
            ]
          },
          "metadata": {
            "tags": []
          },
          "execution_count": 99
        }
      ]
    },
    {
      "cell_type": "code",
      "metadata": {
        "id": "vFfY_Z9LqaI7",
        "colab_type": "code",
        "outputId": "f443bbd1-2ca4-4bc8-d761-eebcce5f752d",
        "colab": {
          "base_uri": "https://localhost:8080/",
          "height": 119
        }
      },
      "source": [
        "y_train.head()"
      ],
      "execution_count": 0,
      "outputs": [
        {
          "output_type": "execute_result",
          "data": {
            "text/plain": [
              "631                                  start_ napoleon _end\n",
              "2695    start_ in 1990, goh chok tong succeeded lee as...\n",
              "1100    start_ it lies on a plain, approximately eight...\n",
              "2727    start_ that his children had been educated wit...\n",
              "753     start_ yes, the gendarmenmarkt borders the fre...\n",
              "Name: reply, dtype: object"
            ]
          },
          "metadata": {
            "tags": []
          },
          "execution_count": 100
        }
      ]
    },
    {
      "cell_type": "code",
      "metadata": {
        "id": "GS89eGeIARKS",
        "colab_type": "code",
        "colab": {}
      },
      "source": [
        "#Will Crash if data is very big,because we have given batch size as len(X_train) which will create very big matrix \n",
        "enc_dcd_inp_data, decdr_trgt_data = generate_batch(X_train,y_train,batch_size = len(X_train))"
      ],
      "execution_count": 0,
      "outputs": []
    },
    {
      "cell_type": "code",
      "metadata": {
        "id": "EGAZXC6bA5mG",
        "colab_type": "code",
        "outputId": "39cda481-d79d-4ef4-c1a7-b820ffaf7bce",
        "colab": {
          "base_uri": "https://localhost:8080/",
          "height": 1000
        }
      },
      "source": [
        "model.fit(enc_dcd_inp_data,decdr_trgt_data,batch_size=100,epochs=50,verbose=1) # model.fit is much faster than model.fit_generator function "
      ],
      "execution_count": 0,
      "outputs": [
        {
          "output_type": "stream",
          "text": [
            "Epoch 1/50\n",
            "1655/1655 [==============================] - 14s 8ms/step - loss: 7.0074 - acc: 0.1299\n",
            "Epoch 2/50\n",
            "1655/1655 [==============================] - 12s 7ms/step - loss: 6.3962 - acc: 0.1542\n",
            "Epoch 3/50\n",
            "1655/1655 [==============================] - 12s 7ms/step - loss: 6.2579 - acc: 0.1559\n",
            "Epoch 4/50\n",
            "1655/1655 [==============================] - 12s 7ms/step - loss: 6.1234 - acc: 0.1562\n",
            "Epoch 5/50\n",
            "1655/1655 [==============================] - 12s 7ms/step - loss: 5.9971 - acc: 0.1660\n",
            "Epoch 6/50\n",
            "1655/1655 [==============================] - 12s 7ms/step - loss: 5.8673 - acc: 0.1794\n",
            "Epoch 7/50\n",
            "1655/1655 [==============================] - 11s 7ms/step - loss: 5.7430 - acc: 0.1837\n",
            "Epoch 8/50\n",
            "1655/1655 [==============================] - 12s 7ms/step - loss: 5.6226 - acc: 0.1869\n",
            "Epoch 9/50\n",
            "1655/1655 [==============================] - 12s 7ms/step - loss: 5.5110 - acc: 0.1883\n",
            "Epoch 10/50\n",
            "1655/1655 [==============================] - 12s 7ms/step - loss: 5.3809 - acc: 0.1917\n",
            "Epoch 11/50\n",
            "1655/1655 [==============================] - 12s 7ms/step - loss: 5.2556 - acc: 0.1966\n",
            "Epoch 12/50\n",
            "1655/1655 [==============================] - 12s 7ms/step - loss: 5.1298 - acc: 0.2010\n",
            "Epoch 13/50\n",
            "1655/1655 [==============================] - 12s 7ms/step - loss: 5.0032 - acc: 0.2061\n",
            "Epoch 14/50\n",
            "1655/1655 [==============================] - 12s 7ms/step - loss: 4.8718 - acc: 0.2135\n",
            "Epoch 15/50\n",
            "1655/1655 [==============================] - 11s 7ms/step - loss: 4.7430 - acc: 0.2207\n",
            "Epoch 16/50\n",
            "1655/1655 [==============================] - 12s 7ms/step - loss: 4.6127 - acc: 0.2277\n",
            "Epoch 17/50\n",
            "1655/1655 [==============================] - 12s 7ms/step - loss: 4.4863 - acc: 0.2346\n",
            "Epoch 18/50\n",
            "1655/1655 [==============================] - 12s 7ms/step - loss: 4.3651 - acc: 0.2404\n",
            "Epoch 19/50\n",
            "1655/1655 [==============================] - 12s 7ms/step - loss: 4.2369 - acc: 0.2517\n",
            "Epoch 20/50\n",
            "1655/1655 [==============================] - 11s 7ms/step - loss: 4.1084 - acc: 0.2615\n",
            "Epoch 21/50\n",
            "1655/1655 [==============================] - 12s 7ms/step - loss: 3.9880 - acc: 0.2735\n",
            "Epoch 22/50\n",
            "1655/1655 [==============================] - 12s 7ms/step - loss: 3.8711 - acc: 0.2832\n",
            "Epoch 23/50\n",
            "1655/1655 [==============================] - 12s 7ms/step - loss: 3.7462 - acc: 0.2935\n",
            "Epoch 24/50\n",
            "1655/1655 [==============================] - 12s 7ms/step - loss: 3.6304 - acc: 0.3082\n",
            "Epoch 25/50\n",
            "1655/1655 [==============================] - 12s 7ms/step - loss: 3.4962 - acc: 0.3322\n",
            "Epoch 26/50\n",
            "1655/1655 [==============================] - 11s 7ms/step - loss: 3.3877 - acc: 0.3432\n",
            "Epoch 27/50\n",
            "1655/1655 [==============================] - 12s 7ms/step - loss: 3.2621 - acc: 0.3678\n",
            "Epoch 28/50\n",
            "1655/1655 [==============================] - 12s 7ms/step - loss: 3.1475 - acc: 0.3860\n",
            "Epoch 29/50\n",
            "1655/1655 [==============================] - 12s 7ms/step - loss: 3.0247 - acc: 0.4101\n",
            "Epoch 30/50\n",
            "1655/1655 [==============================] - 12s 7ms/step - loss: 2.9100 - acc: 0.4339\n",
            "Epoch 31/50\n",
            "1655/1655 [==============================] - 12s 7ms/step - loss: 2.7982 - acc: 0.4602\n",
            "Epoch 32/50\n",
            "1655/1655 [==============================] - 12s 7ms/step - loss: 2.6809 - acc: 0.4860\n",
            "Epoch 33/50\n",
            "1655/1655 [==============================] - 12s 7ms/step - loss: 2.5680 - acc: 0.5050\n",
            "Epoch 34/50\n",
            "1655/1655 [==============================] - 12s 7ms/step - loss: 2.4659 - acc: 0.5293\n",
            "Epoch 35/50\n",
            "1655/1655 [==============================] - 12s 7ms/step - loss: 2.3671 - acc: 0.5506\n",
            "Epoch 36/50\n",
            "1655/1655 [==============================] - 11s 7ms/step - loss: 2.2514 - acc: 0.5772\n",
            "Epoch 37/50\n",
            "1655/1655 [==============================] - 11s 7ms/step - loss: 2.1550 - acc: 0.5975\n",
            "Epoch 38/50\n",
            "1655/1655 [==============================] - 11s 7ms/step - loss: 2.0616 - acc: 0.6162\n",
            "Epoch 39/50\n",
            "1655/1655 [==============================] - 12s 7ms/step - loss: 1.9552 - acc: 0.6418\n",
            "Epoch 40/50\n",
            "1655/1655 [==============================] - 12s 7ms/step - loss: 1.8677 - acc: 0.6592\n",
            "Epoch 41/50\n",
            "1655/1655 [==============================] - 11s 7ms/step - loss: 1.7791 - acc: 0.6765\n",
            "Epoch 42/50\n",
            "1655/1655 [==============================] - 12s 7ms/step - loss: 1.6985 - acc: 0.6911\n",
            "Epoch 43/50\n",
            "1655/1655 [==============================] - 11s 7ms/step - loss: 1.6099 - acc: 0.7092\n",
            "Epoch 44/50\n",
            "1655/1655 [==============================] - 12s 7ms/step - loss: 1.5336 - acc: 0.7261\n",
            "Epoch 45/50\n",
            "1655/1655 [==============================] - 11s 7ms/step - loss: 1.4563 - acc: 0.7429\n",
            "Epoch 46/50\n",
            "1655/1655 [==============================] - 12s 7ms/step - loss: 1.3744 - acc: 0.7623\n",
            "Epoch 47/50\n",
            "1655/1655 [==============================] - 12s 7ms/step - loss: 1.3130 - acc: 0.7664\n",
            "Epoch 48/50\n",
            "1655/1655 [==============================] - 12s 7ms/step - loss: 1.2444 - acc: 0.7812\n",
            "Epoch 49/50\n",
            "1655/1655 [==============================] - 12s 7ms/step - loss: 1.1732 - acc: 0.8012\n",
            "Epoch 50/50\n",
            "1655/1655 [==============================] - 11s 7ms/step - loss: 1.1150 - acc: 0.8132\n"
          ],
          "name": "stdout"
        },
        {
          "output_type": "execute_result",
          "data": {
            "text/plain": [
              "<keras.callbacks.History at 0x7f837e724748>"
            ]
          },
          "metadata": {
            "tags": []
          },
          "execution_count": 105
        }
      ]
    },
    {
      "cell_type": "markdown",
      "metadata": {
        "id": "yYDo55JABo6W",
        "colab_type": "text"
      },
      "source": [
        "Observation: After removing recurrent yes and no replies trianing accuracy is slowly increasing else it was good and much accurate."
      ]
    },
    {
      "cell_type": "code",
      "metadata": {
        "id": "V1CutbrY1EH0",
        "colab_type": "code",
        "colab": {}
      },
      "source": [
        "# model.fit_generator(generator = generate_batch(X_train, y_train, batch_size = 50),\n",
        "#                     steps_per_epoch = 100,\n",
        "#                     epochs=5,\n",
        "#                     validation_data = generate_batch(X_test, y_test, batch_size = 50),\n",
        "#                     validation_steps = 100)"
      ],
      "execution_count": 0,
      "outputs": []
    },
    {
      "cell_type": "code",
      "metadata": {
        "id": "jH-KSONLMFjX",
        "colab_type": "code",
        "colab": {}
      },
      "source": [
        "#trying softmax layer with temperature\n",
        "\n",
        "# def softmax_with_temperature(logits, temperature=1):\n",
        "#   logits = logits / temperature\n",
        "#   return np.exp(logits) / np.sum(np.exp(logits))"
      ],
      "execution_count": 0,
      "outputs": []
    },
    {
      "cell_type": "code",
      "metadata": {
        "id": "Mhj6kqK5TF6w",
        "colab_type": "code",
        "colab": {}
      },
      "source": [
        "# import tensorflow as tf\n",
        "# from tensorflow.keras import layers, models\n",
        "# #  Set up the decoder, using `encoder_states` as initial state.\n",
        "# decoder_inputs = Input(shape=(None,)) #Reply's input\n",
        "# dec_emb_layer = Embedding(num_decoder_tokens, latent_dim, mask_zero = True) \n",
        "# dec_emb = dec_emb_layer(decoder_inputs) # Reply sikhaye hum Embedding layer ko\n",
        "\n",
        "# # We set up our decoder to return full output sequences,\n",
        "# # and to return internal states as well. We don't use the\n",
        "# # return states in the training model, but we will use them in inference.\n",
        "\n",
        "\n",
        "# decoder_lstm = LSTM(256, return_sequences=True, return_state=True)\n",
        "# decoder_output, decoder_h, decoder_c = decoder_lstm(dec_emb,initial_state=encoder_states)\n",
        "# decoder_states = [decoder_h, decoder_c]\n",
        "\n",
        "# logit_layer = Dense(698, name='logits')(decoder_output)\n",
        "\n",
        "# decoder_dense = TimeDistributed(Dense(num_decoder_tokens, activation='softmax'))\n",
        "# decoder_outputs = decoder_dense(logit_layer)\n",
        "\n",
        "# # Define the model that will turn\n",
        "# # `encoder_input_data` & `decoder_input_data` into `decoder_target_data`\n",
        "# model = Model([encoder_inputs, decoder_inputs], decoder_outputs)"
      ],
      "execution_count": 0,
      "outputs": []
    },
    {
      "cell_type": "code",
      "metadata": {
        "id": "h5UsISMbd-v3",
        "colab_type": "code",
        "colab": {}
      },
      "source": [
        "# model_sans_softmax = Model(inputs=model.input, outputs=model.get_layer(\"logits\").output)\n",
        "# model_logits = model_sans_softmax.predict(a)\n"
      ],
      "execution_count": 0,
      "outputs": []
    },
    {
      "cell_type": "code",
      "metadata": {
        "id": "QFOgI0PQQFg3",
        "colab_type": "code",
        "colab": {}
      },
      "source": [
        "# unsoftened_train_prob = softmax_with_temperature(model_logits, 1)"
      ],
      "execution_count": 0,
      "outputs": []
    },
    {
      "cell_type": "code",
      "metadata": {
        "id": "fZjk88tCQNkD",
        "colab_type": "code",
        "colab": {}
      },
      "source": [
        "# unsoftened_train_prob.shape"
      ],
      "execution_count": 0,
      "outputs": []
    },
    {
      "cell_type": "code",
      "metadata": {
        "id": "yaANJjftWQZ7",
        "colab_type": "code",
        "colab": {}
      },
      "source": [
        "decoder_outputs.shape"
      ],
      "execution_count": 0,
      "outputs": []
    },
    {
      "cell_type": "markdown",
      "metadata": {
        "id": "_JZ_O1EzJQfx",
        "colab_type": "text"
      },
      "source": [
        "# Inference"
      ]
    },
    {
      "cell_type": "code",
      "metadata": {
        "id": "2ShFI9RQqsVk",
        "colab_type": "code",
        "colab": {}
      },
      "source": [
        "#Making new model so that we can predict the output\n",
        "# taking all input and output of the encoder from the previous model to here\n",
        "    #encoder_inputs: It's the tokenized and padded words from the question\n",
        "encoder_model = Model(encoder_inputs, encoder_states) # this is not used for the input in the LSTM\n",
        "\n"
      ],
      "execution_count": 0,
      "outputs": []
    },
    {
      "cell_type": "code",
      "metadata": {
        "id": "J6b2dtuMqiY3",
        "colab_type": "code",
        "outputId": "084b013e-6e53-4f5d-b9f2-6e8f7b315700",
        "colab": {
          "base_uri": "https://localhost:8080/",
          "height": 369
        }
      },
      "source": [
        "from keras.utils import plot_model\n",
        "plot_model(encoder_model, to_file='multilayer_perceptron_graph.png')"
      ],
      "execution_count": 0,
      "outputs": [
        {
          "output_type": "execute_result",
          "data": {
            "image/png": "[encoded data removed]",
            "text/plain": [
              "<IPython.core.display.Image object>"
            ]
          },
          "metadata": {
            "tags": []
          },
          "execution_count": 107
        }
      ]
    },
    {
      "cell_type": "markdown",
      "metadata": {
        "id": "V-RL4UnnNrOD",
        "colab_type": "text"
      },
      "source": [
        "___"
      ]
    },
    {
      "cell_type": "code",
      "metadata": {
        "id": "lD9qWnX3sfKc",
        "colab_type": "code",
        "colab": {}
      },
      "source": [
        "#giving input to decoder\n",
        "decoder_state_input_h = Input(shape=(256,)) # this will be the input form the encoders # cz 256 is from the encoder after concatination \n",
        "decoder_state_input_c = Input(shape=(256,)) #cell state after the encoder\n",
        "\n",
        "decoder_states_inputs = [decoder_state_input_h, decoder_state_input_c]\n",
        "\n",
        "#Reply words tokenized\n",
        "dec_emb2= dec_emb_layer(decoder_inputs) #Get the embeddings of the decoder sequence\n",
        "\n",
        "#decoder ka output and cell state nikal liya \n",
        "    # decoder_lstm = LSTM(256, return_sequences=True, return_state=True)\n",
        "        # here dec_emb2 we passed the output from the embedding later which for trained on tokenized sentensed of Reply words\n",
        "decoder_outputs, state_h2, state_c2 = decoder_lstm(dec_emb2, initial_state=decoder_states_inputs)\n",
        "\n",
        "#added both states from the decoder \n",
        "decoder_states = [state_h2, state_c2]  \n",
        "\n",
        "# Passing the output from the decoder model to the dense layer\n",
        "decoder_output_dense = decoder_dense(decoder_outputs)\n",
        "\n",
        "\n",
        "\n",
        "\n",
        "# Final decoder model\n",
        "# decoder_inputs : Embedding layer ko Reply sentence tokenized\n",
        "# decoder_states_inputs : this is from the encoder\n",
        "# decoder_outputs2 : #ye decoder ka output he //predicted values from the decoder not the cellstate or output(h)\n",
        "# decoder_states2 : #ye output(h) & cell state h from decoder # not form LSTm this is coming after the dense layer\n",
        "\n",
        "\n",
        "decoder_model = Model(\n",
        "    [decoder_inputs] + decoder_states_inputs,\n",
        "    [decoder_output_dense] + decoder_states)"
      ],
      "execution_count": 0,
      "outputs": []
    },
    {
      "cell_type": "code",
      "metadata": {
        "id": "pBVnsk5sMxHC",
        "colab_type": "code",
        "outputId": "8ed76ad4-3315-409f-9e61-a22843d3c3f7",
        "colab": {
          "base_uri": "https://localhost:8080/",
          "height": 408
        }
      },
      "source": [
        "print(decoder_model.summary())"
      ],
      "execution_count": 0,
      "outputs": [
        {
          "output_type": "stream",
          "text": [
            "Model: \"model_4\"\n",
            "__________________________________________________________________________________________________\n",
            "Layer (type)                    Output Shape         Param #     Connected to                     \n",
            "==================================================================================================\n",
            "input_4 (InputLayer)            (None, None)         0                                            \n",
            "__________________________________________________________________________________________________\n",
            "embedding_4 (Embedding)         (None, None, 300)    1132800     input_4[0][0]                    \n",
            "__________________________________________________________________________________________________\n",
            "input_5 (InputLayer)            (None, 256)          0                                            \n",
            "__________________________________________________________________________________________________\n",
            "input_6 (InputLayer)            (None, 256)          0                                            \n",
            "__________________________________________________________________________________________________\n",
            "lstm_4 (LSTM)                   [(None, None, 256),  570368      embedding_4[1][0]                \n",
            "                                                                 input_5[0][0]                    \n",
            "                                                                 input_6[0][0]                    \n",
            "__________________________________________________________________________________________________\n",
            "dense_2 (Dense)                 (None, None, 3776)   970432      lstm_4[1][0]                     \n",
            "==================================================================================================\n",
            "Total params: 2,673,600\n",
            "Trainable params: 2,673,600\n",
            "Non-trainable params: 0\n",
            "__________________________________________________________________________________________________\n",
            "None\n"
          ],
          "name": "stdout"
        }
      ]
    },
    {
      "cell_type": "code",
      "metadata": {
        "id": "Dh77NQFZqdes",
        "colab_type": "code",
        "outputId": "91832e51-e783-48f4-bc2c-2be192b66fbe",
        "colab": {
          "base_uri": "https://localhost:8080/",
          "height": 369
        }
      },
      "source": [
        "from keras.utils import plot_model\n",
        "plot_model(decoder_model, to_file='multilayer_perceptron_graph.png')"
      ],
      "execution_count": 0,
      "outputs": [
        {
          "output_type": "execute_result",
          "data": {
            "image/png": "[encoded data removed]",
            "text/plain": [
              "<IPython.core.display.Image object>"
            ]
          },
          "metadata": {
            "tags": []
          },
          "execution_count": 110
        }
      ]
    },
    {
      "cell_type": "code",
      "metadata": {
        "id": "WBX4h23ODhui",
        "colab_type": "code",
        "colab": {}
      },
      "source": [
        "def decode_sequence(input_seq):\n",
        "    # Encode the input as state vectors.\n",
        "    states_value = encoder_model.predict(input_seq)\n",
        "    # Generate empty target sequence of length 1.\n",
        "    target_seq = np.zeros((1,1))\n",
        "    # Populate the first character of target sequence with the start character.\n",
        "    target_seq[0, 0] = target_token_index['start_']\n",
        "\n",
        "    # Sampling loop for a batch of sequences\n",
        "    # (to simplify, here we assume a batch of size 1).\n",
        "    stop_condition = False\n",
        "    decoded_sentence = ''\n",
        "    while not stop_condition:\n",
        "        output_tokens, h, c = decoder_model.predict([target_seq] + states_value)\n",
        "\n",
        "        # Sample a token\n",
        "        sampled_token_index = np.argmax(output_tokens[0, -1, :]) #need to check this logic \n",
        "        sampled_char = reverse_target_char_index[sampled_token_index]\n",
        "        decoded_sentence += ' '+sampled_char\n",
        "\n",
        "        # Exit condition: either hit max length\n",
        "        # or find stop character.\n",
        "        if (sampled_char == '_end' or\n",
        "           len(decoded_sentence) > 50):\n",
        "            stop_condition = True\n",
        "\n",
        "        # Update the target sequence (of length 1).\n",
        "        target_seq = np.zeros((1,1))\n",
        "        target_seq[0, 0] = sampled_token_index\n",
        "\n",
        "        # Update states\n",
        "        states_value = [h, c]\n",
        "\n",
        "    return decoded_sentence"
      ],
      "execution_count": 0,
      "outputs": []
    },
    {
      "cell_type": "code",
      "metadata": {
        "id": "hi7urs22o-Wz",
        "colab_type": "code",
        "colab": {}
      },
      "source": [
        "def generate_batch(X, y, batch_size):\n",
        "    while True:\n",
        "      # in every batch we are sending (batch_size) of sentences\n",
        "        for j in range(0, len(X), batch_size):\n",
        "            encoder_input_data = np.zeros((batch_size, max_length_src),\n",
        "                    dtype='float32')\n",
        "            decoder_input_data = np.zeros((batch_size, max_length_tar),\n",
        "                    dtype='float32')\n",
        "            decoder_target_data = np.zeros((batch_size, max_length_tar,\n",
        "                    num_decoder_tokens), dtype='float32')\n",
        "\n",
        "            # for all the sentences in the batch\n",
        "            for (i, (input_text, target_text)) in enumerate(zip(X[j:j\n",
        "                    + batch_size], y[j:j + batch_size])):\n",
        "\n",
        "                # for words in each sentence //question\n",
        "                for (t, word) in enumerate(input_text.split()):  # question wale text ko tokenize kiya gaya\n",
        "                    encoder_input_data[i,t] = input_token_index[word]  # encoder input seq\n",
        "\n",
        "                # for each word in   Sentence\n",
        "                for (t, word) in enumerate(target_text.split()):  # t is the length of the sentence\n",
        "                    if t < len(target_text.split()) - 1:\n",
        "                        decoder_input_data[i,t] = target_token_index[word]  # decoder input seq\n",
        "                    if t >=0 :\n",
        "                        #one-hot encoding \n",
        "                        #and making it to the output shape from decoder\n",
        "                        decoder_target_data[i, t,\n",
        "                                target_token_index[word]] = 1.\n",
        "                                                       \n",
        "            yield ([encoder_input_data, decoder_input_data],\n",
        "                   decoder_target_data)  # this will help multiple return// like closure in swift\n"
      ],
      "execution_count": 0,
      "outputs": []
    },
    {
      "cell_type": "code",
      "metadata": {
        "id": "fCTH9OmiELBk",
        "colab_type": "code",
        "outputId": "b2002155-e5d7-4f58-bdce-c7570b0df3ca",
        "colab": {
          "base_uri": "https://localhost:8080/",
          "height": 34
        }
      },
      "source": [
        "X_test.shape"
      ],
      "execution_count": 0,
      "outputs": [
        {
          "output_type": "execute_result",
          "data": {
            "text/plain": [
              "(184,)"
            ]
          },
          "metadata": {
            "tags": []
          },
          "execution_count": 117
        }
      ]
    },
    {
      "cell_type": "code",
      "metadata": {
        "id": "LzmrXlw86BIn",
        "colab_type": "code",
        "outputId": "24fd79ea-52b0-4c96-dd45-5bb858ffc9f4",
        "colab": {
          "base_uri": "https://localhost:8080/",
          "height": 1000
        }
      },
      "source": [
        "temp_arr = []\n",
        "for index in range(1,184):\n",
        "  x =index\n",
        "  train_gen = generate_batch([X_test.values[x]], [y_test.values[x]], batch_size = 10)\n",
        "\n",
        "  (input_seq, actual_output), end_temp = next(train_gen)\n",
        "\n",
        "  predicted_sentence = decode_sequence(input_seq)\n",
        "  print('question/email: ',X_train.values[x])\n",
        "  reply = y_train.values[x].replace('start_', '')\n",
        "  reply = reply.replace('_end','.')\n",
        "  print('original reply: ',reply)\n",
        "  predicted_txt = predicted_sentence.replace('_end','.')\n",
        "  print('predicted reply: ',predicted_txt)\n",
        "  temp_arr.append(predicted_txt)\n",
        "  print(\"\\n\")\n",
        "  print(\"*\"*50)\n",
        "  print(\"\\n\")"
      ],
      "execution_count": 0,
      "outputs": [
        {
          "output_type": "stream",
          "text": [
            "question/email:  when did goh chok tong succeed lee as prime minister\n",
            "original reply:   in 1990, goh chok tong succeeded lee as prime minister .\n",
            "predicted reply:   the three heaviest cats in the world are two are two\n",
            "\n",
            "\n",
            "**************************************************\n",
            "\n",
            "\n",
            "question/email:  what contributes to frequent flooding in jakarta\n",
            "original reply:   it lies on a plain, approximately eight meters above the sea level .\n",
            "predicted reply:   the reichstag building .\n",
            "\n",
            "\n",
            "**************************************************\n",
            "\n",
            "\n",
            "question/email:  what was roosevelt's justification for supporting desegregation of schools in new york\n",
            "original reply:   that his children had been educated with other races and there was nothing wrong with it .\n",
            "predicted reply:   the capital of the drum is an western part is the light\n",
            "\n",
            "\n",
            "**************************************************\n",
            "\n",
            "\n",
            "question/email:  does the gendarmenmarkt border the french cathedral\n",
            "original reply:   yes, the gendarmenmarkt borders the french cathedral .\n",
            "predicted reply:   loons or divers, grebes, gallinules, and coots .\n",
            "\n",
            "\n",
            "**************************************************\n",
            "\n",
            "\n",
            "question/email:  where is qatar's telecommunication system centered\n",
            "original reply:   doha .\n",
            "predicted reply:   the first novel in the white engine .\n",
            "\n",
            "\n",
            "**************************************************\n",
            "\n",
            "\n",
            "question/email:  how many swedish speakers were reported in canada in 2001\n",
            "original reply:   there are 16,915 reported swedish speakers in canada .\n",
            "predicted reply:   a holt .\n",
            "\n",
            "\n",
            "**************************************************\n",
            "\n",
            "\n",
            "question/email:  how many swedish speakers were reported in canada in 2001\n",
            "original reply:   16,91500 .\n",
            "predicted reply:   the reichstag building .\n",
            "\n",
            "\n",
            "**************************************************\n",
            "\n",
            "\n",
            "question/email:  what are deposited in holes dug into mud or sand\n",
            "original reply:   eggs .\n",
            "predicted reply:   the volt .\n",
            "\n",
            "\n",
            "**************************************************\n",
            "\n",
            "\n",
            "question/email:  is montreal's economy the third largest of all cities in canada\n",
            "original reply:   no, montreal's economy is the second largest of all cities in canada .\n",
            "predicted reply:   he did not attend .\n",
            "\n",
            "\n",
            "**************************************************\n",
            "\n",
            "\n",
            "question/email:  when did qatar become an independent state\n",
            "original reply:   september 3, 1971 .\n",
            "predicted reply:   by their hardened, often darkened head, the presence\n",
            "\n",
            "\n",
            "**************************************************\n",
            "\n",
            "\n",
            "question/email:  what was the name of james watt's mother\n",
            "original reply:   agnes muirhead .\n",
            "predicted reply:   a \"melburnian\" .\n",
            "\n",
            "\n",
            "**************************************************\n",
            "\n",
            "\n",
            "question/email:  what makes san francisco among the topten north american destinations for conventions and conferences\n",
            "original reply:   a large hotel infrastructure and a world-class convention facility in the moscone center .\n",
            "predicted reply:   3 .\n",
            "\n",
            "\n",
            "**************************************************\n",
            "\n",
            "\n",
            "question/email:  why did coolidge not attend law school\n",
            "original reply:   it was too expensive .\n",
            "predicted reply:   japan .\n",
            "\n",
            "\n",
            "**************************************************\n",
            "\n",
            "\n",
            "question/email:  how many noun classes does swahili have\n",
            "original reply:   swahili has sixteen noun classes .\n",
            "predicted reply:   78 million .\n",
            "\n",
            "\n",
            "**************************************************\n",
            "\n",
            "\n",
            "question/email:  is modern korean written in columns or rows\n",
            "original reply:   it is written in rows .\n",
            "predicted reply:   felicita mazz .\n",
            "\n",
            "\n",
            "**************************************************\n",
            "\n",
            "\n",
            "question/email:  what prompted the city to upgrade its building codes\n",
            "original reply:   the threat of major earthquakes .\n",
            "predicted reply:   in the battle of trenton .\n",
            "\n",
            "\n",
            "**************************************************\n",
            "\n",
            "\n",
            "question/email:  what is ottawa's junior ice hockey team\n",
            "original reply:   the ottawa 67's .\n",
            "predicted reply:   yes, there are more than more million .\n",
            "\n",
            "\n",
            "**************************************************\n",
            "\n",
            "\n",
            "question/email:  who took a hard line that reduced violence by groups like the ku klux klan\n",
            "original reply:   grant .\n",
            "predicted reply:   a adult volume can generally be increased by making\n",
            "\n",
            "\n",
            "**************************************************\n",
            "\n",
            "\n",
            "question/email:  where is irving berlin's piano located\n",
            "original reply:   in the smithsonian museum .\n",
            "predicted reply:   the celsius of david, completed called by the light\n",
            "\n",
            "\n",
            "**************************************************\n",
            "\n",
            "\n",
            "question/email:  what is \"tobogganing\"\n",
            "original reply:   tobogganing is when penguins slide on their bellies across the snow .\n",
            "predicted reply:   michael faraday .\n",
            "\n",
            "\n",
            "**************************************************\n",
            "\n",
            "\n",
            "question/email:  how many suborders are turtles divided into\n",
            "original reply:   three .\n",
            "predicted reply:   michael faraday .\n",
            "\n",
            "\n",
            "**************************************************\n",
            "\n",
            "\n",
            "question/email:  what does avogadro's law state\n",
            "original reply:   avogadro's law states that the relationship between the masses of the same volume of different gases at the same temperature and pressure corresponds to the relationship between their respective molecular weights .\n",
            "predicted reply:   the three are cats in the bass drum are an identical\n",
            "\n",
            "\n",
            "**************************************************\n",
            "\n",
            "\n",
            "question/email:  what suborder of turtles is extinct\n",
            "original reply:   paracryptodira .\n",
            "predicted reply:   the united states of the kangaroo .\n",
            "\n",
            "\n",
            "**************************************************\n",
            "\n",
            "\n",
            "question/email:  for how many years did charlesaugustin de coulomb live\n",
            "original reply:   70 .\n",
            "predicted reply:   176215 km©÷ .\n",
            "\n",
            "\n",
            "**************************************************\n",
            "\n",
            "\n",
            "question/email:  how long is an adult cougar's paw print\n",
            "original reply:   4 inches .\n",
            "predicted reply:   felicita mazz .\n",
            "\n",
            "\n",
            "**************************************************\n",
            "\n",
            "\n",
            "question/email:  what used singapore as a strategic trading post along the spice route\n",
            "original reply:   british .\n",
            "predicted reply:   the capital of queen nefertiti is in the altes museum\n",
            "\n",
            "\n",
            "**************************************************\n",
            "\n",
            "\n",
            "question/email:  when was the six day war\n",
            "original reply:   1967 .\n",
            "predicted reply:   chinese is not chinese .\n",
            "\n",
            "\n",
            "**************************************************\n",
            "\n",
            "\n",
            "question/email:  did nikola tesla use a technique called picture thinking\n",
            "original reply:   nikola tesla used a technique called picture thinking .\n",
            "predicted reply:   the leopard has rosettes rather than cheetah's simple\n",
            "\n",
            "\n",
            "**************************************************\n",
            "\n",
            "\n",
            "question/email:  when did canada have one of the largest armed forces in the world\n",
            "original reply:   world war ii .\n",
            "predicted reply:   in 1819 .\n",
            "\n",
            "\n",
            "**************************************************\n",
            "\n",
            "\n",
            "question/email:  when did charlesaugustin de coulomb retire to a small estate he possessed at blois\n",
            "original reply:   1789 .\n",
            "predicted reply:   the three population of asian china .\n",
            "\n",
            "\n",
            "**************************************************\n",
            "\n",
            "\n",
            "question/email:  about how many koreans speakers are there\n",
            "original reply:   78 million korean speakers .\n",
            "predicted reply:   in the 20th century .\n",
            "\n",
            "\n",
            "**************************************************\n",
            "\n",
            "\n",
            "question/email:  when was the first factory opened\n",
            "original reply:   1836 .\n",
            "predicted reply:   the largest primarily french-speaking city of the world,\n",
            "\n",
            "\n",
            "**************************************************\n",
            "\n",
            "\n",
            "question/email:  how much does a leopard weigh\n",
            "original reply:   males are considerably larger than females and weigh 37 to 90 kg compared to 28 to 60 kg for females  .\n",
            "predicted reply:   he was too expensive .\n",
            "\n",
            "\n",
            "**************************************************\n",
            "\n",
            "\n",
            "question/email:  what is the most common romanization standard for standard mandarin today\n",
            "original reply:   hanyu pinyin .\n",
            "predicted reply:   the first novel in the new settlement called lundenwic\n",
            "\n",
            "\n",
            "**************************************************\n",
            "\n",
            "\n",
            "question/email:  how many territories joined to form romania\n",
            "original reply:   2 .\n",
            "predicted reply:   the first records of settlement in the country in the\n",
            "\n",
            "\n",
            "**************************************************\n",
            "\n",
            "\n",
            "question/email:  what is the average life expectancy of a kangaroo\n",
            "original reply:   about 46 years .\n",
            "predicted reply:   the most trumpet .\n",
            "\n",
            "\n",
            "**************************************************\n",
            "\n",
            "\n",
            "question/email:  who did president lincoln promote of major general in the regular army, effective july 4\n",
            "original reply:   grant .\n",
            "predicted reply:   michael faraday .\n",
            "\n",
            "\n",
            "**************************************************\n",
            "\n",
            "\n",
            "question/email:  how do sea otters insulate themselves\n",
            "original reply:   as with other species of otter, they rely on a layer of air trapped in their fur, which they keep topped up by blowing into the fur from their mouths .\n",
            "predicted reply:   the capital city is the west of montreal is happened\n",
            "\n",
            "\n",
            "**************************************************\n",
            "\n",
            "\n",
            "question/email:  what is the cause of local earthquakes\n",
            "original reply:   it was the san andreas fault which slipped and caused the earthquakes in 1906 and 1989 .\n",
            "predicted reply:   the united states is at the largest coast of the light\n",
            "\n",
            "\n",
            "**************************************************\n",
            "\n",
            "\n",
            "question/email:  what is the primary domestic source of water supply\n",
            "original reply:   the primary domestic source of water supply in singapore is rainfall .\n",
            "predicted reply:   yes, a stream of a popular butterfly is an identical\n",
            "\n",
            "\n",
            "**************************************************\n",
            "\n",
            "\n",
            "question/email:  what does a citizen use to propose changes to the constitution\n",
            "original reply:   referendum .\n",
            "predicted reply:   the first statue of settlement at the coulomb, is named\n",
            "\n",
            "\n",
            "**************************************************\n",
            "\n",
            "\n",
            "question/email:  when was a 43acre mission bay campus opened\n",
            "original reply:   2003 .\n",
            "predicted reply:   in 1529 .\n",
            "\n",
            "\n",
            "**************************************************\n",
            "\n",
            "\n",
            "question/email:  what is the punishment for firstdegree murder\n",
            "original reply:   there are laws which allow capital punishment in singapore for first-degree murder and drug trafficking .\n",
            "predicted reply:   in the blue room in the new york city .\n",
            "\n",
            "\n",
            "**************************************************\n",
            "\n",
            "\n",
            "question/email:  qatar became an independent sovereign state in what year\n",
            "original reply:   on september 3, 1971 .\n",
            "predicted reply:   the dictionary of contemporary finnish .\n",
            "\n",
            "\n",
            "**************************************************\n",
            "\n",
            "\n",
            "question/email:  what is the name of a specialized species of duck adapted to catch large fish\n",
            "original reply:   the smew .\n",
            "predicted reply:   the capital of queen nefertiti is in the altes is 59%\n",
            "\n",
            "\n",
            "**************************************************\n",
            "\n",
            "\n",
            "question/email:  does the portuguese language have its roots in the latin language\n",
            "original reply:   yes, portuguese is derived from latin .\n",
            "predicted reply:   vietnamese adopts words from chinese as chinese as\n",
            "\n",
            "\n",
            "**************************************************\n",
            "\n",
            "\n",
            "question/email:  when did charlesaugustin de coulomb join his father's family in montpeillier\n",
            "original reply:   from 1757 to 1759 he joined his father's family in montpellier .\n",
            "predicted reply:   the koalas of south australia of largely exterminated\n",
            "\n",
            "\n",
            "**************************************************\n",
            "\n",
            "\n",
            "question/email:  what does \"era of good feelings\" refers to\n",
            "original reply:   monroe allowed his political base to decay, which reduced tensions and led to the naming of his era as the \"era of good feelings\" .\n",
            "predicted reply:   the percussion family .\n",
            "\n",
            "\n",
            "**************************************************\n",
            "\n",
            "\n",
            "question/email:  what do river otters eat\n",
            "original reply:   a variety of fish and shellfish, as well as small land mammals and birds .\n",
            "predicted reply:   the new kingdom c1550&#87221070 bc .\n",
            "\n",
            "\n",
            "**************************************************\n",
            "\n",
            "\n",
            "question/email:  how much do sea otters weigh\n",
            "original reply:   30 kg about 65 pounds .\n",
            "predicted reply:   the first settlement in new york city .\n",
            "\n",
            "\n",
            "**************************************************\n",
            "\n",
            "\n",
            "question/email:  what happens when mothers lose a chick\n",
            "original reply:   they sometimes attempt to \"steal\" another chick .\n",
            "predicted reply:   a octopus has four pairs of arms .\n",
            "\n",
            "\n",
            "**************************************************\n",
            "\n",
            "\n",
            "question/email:  who became adversaries with nikola tesla\n",
            "original reply:   nikola tesla became adversaries with edison .\n",
            "predicted reply:   the leopard of the country .\n",
            "\n",
            "\n",
            "**************************************************\n",
            "\n",
            "\n",
            "question/email:  what is a trumpet constructed of\n",
            "original reply:   brass tubing bent twice into an oblong shape .\n",
            "predicted reply:   the largest nights festival .\n",
            "\n",
            "\n",
            "**************************************************\n",
            "\n",
            "\n",
            "question/email:  where do joeys complete postnatal development\n",
            "original reply:   marsupium .\n",
            "predicted reply:   two .\n",
            "\n",
            "\n",
            "**************************************************\n",
            "\n",
            "\n",
            "question/email:  what is the smallest suborder of turtles\n",
            "original reply:   pleurodira .\n",
            "predicted reply:   john 'mad jack' fuller .\n",
            "\n",
            "\n",
            "**************************************************\n",
            "\n",
            "\n",
            "question/email:  what is the name of young swans\n",
            "original reply:   cygnets .\n",
            "predicted reply:   because of the way they withdraw their heads or prey\n",
            "\n",
            "\n",
            "**************************************************\n",
            "\n",
            "\n",
            "question/email:  who founded montevideo\n",
            "original reply:   by the spanish, in the early 18th century .\n",
            "predicted reply:   the principles of conservation of momentum and angular\n",
            "\n",
            "\n",
            "**************************************************\n",
            "\n",
            "\n",
            "question/email:  when did yuan shikai die\n",
            "original reply:   1916 .\n",
            "predicted reply:   there are 16,915 million in speech .\n",
            "\n",
            "\n",
            "**************************************************\n",
            "\n",
            "\n",
            "question/email:  was wilson an automobile enthusiast\n",
            "original reply:   ouai .\n",
            "predicted reply:   the maple leaf flag .\n",
            "\n",
            "\n",
            "**************************************************\n",
            "\n",
            "\n",
            "question/email:  where is old ghana in relation to present ghana\n",
            "original reply:   500 miles north of the present ghana, and occupied the area between rivers senegal and niger .\n",
            "predicted reply:   because of the way they withdraw their heads into their\n",
            "\n",
            "\n",
            "**************************************************\n",
            "\n",
            "\n",
            "question/email:  how did early naturalists distinguish between leopards and panthers\n",
            "original reply:   by the length of their tails .\n",
            "predicted reply:   by the age of three .\n",
            "\n",
            "\n",
            "**************************************************\n",
            "\n",
            "\n",
            "question/email:  different species of kangaroos eat what\n",
            "original reply:   different diets .\n",
            "predicted reply:   upon the death of the suharto era .\n",
            "\n",
            "\n",
            "**************************************************\n",
            "\n",
            "\n",
            "question/email:  what countries did james vi of scotland unite\n",
            "original reply:   james vi of scotland united scotland and england .\n",
            "predicted reply:   no, butterflies carry ants .\n",
            "\n",
            "\n",
            "**************************************************\n",
            "\n",
            "\n",
            "question/email:  how tall were the tallest prehistoric penguins\n",
            "original reply:   180 meters .\n",
            "predicted reply:   brass .\n",
            "\n",
            "\n",
            "**************************************************\n",
            "\n",
            "\n",
            "question/email:  give an example of the many sukarno era monuments in the city\n",
            "original reply:   the west irian liberation statue is one of the many sukarno era monuments in the city  .\n",
            "predicted reply:   the elephant is migratory .\n",
            "\n",
            "\n",
            "**************************************************\n",
            "\n",
            "\n",
            "question/email:  which building is the site of the german parliament\n",
            "original reply:   the reichstag building .\n",
            "predicted reply:   the most densely populated part of the remarkable part\n",
            "\n",
            "\n",
            "**************************************************\n",
            "\n",
            "\n",
            "question/email:  when becquerel discovered radioactivity, whose work did he investigate\n",
            "original reply:   wilhelm conrad rã¶ntgen .\n",
            "predicted reply:   british .\n",
            "\n",
            "\n",
            "**************************************************\n",
            "\n",
            "\n",
            "question/email:  when did lincoln begin his political career\n",
            "original reply:   1832 .\n",
            "predicted reply:   yes, volta was a count by napoleon .\n",
            "\n",
            "\n",
            "**************************************************\n",
            "\n",
            "\n",
            "question/email:  what is polar bear's skin color\n",
            "original reply:   white or cream .\n",
            "predicted reply:   most livable city, location ranking survey .\n",
            "\n",
            "\n",
            "**************************************************\n",
            "\n",
            "\n",
            "question/email:  was volta buried where he died or was he buried someplace else\n",
            "original reply:   where he died .\n",
            "predicted reply:   the leopard of cases in the octopus is a year of two\n",
            "\n",
            "\n",
            "**************************************************\n",
            "\n",
            "\n",
            "question/email:  what did ford receive on april 13, 1942\n",
            "original reply:   ford received a commission as ensign in the us naval reserve .\n",
            "predicted reply:   the becquerel of the drum .\n",
            "\n",
            "\n",
            "**************************************************\n",
            "\n",
            "\n",
            "question/email:  for how long has the classification of dialects spoken outside of finland been a controversial issue\n",
            "original reply:   the classification of dialects spoken outside of finland has been a controversial issue since finland's independence in 1917 .\n",
            "predicted reply:   cygnets .\n",
            "\n",
            "\n",
            "**************************************************\n",
            "\n",
            "\n",
            "question/email:  what european countries established states in ghana\n",
            "original reply:   portugual, france, britain, netherlands .\n",
            "predicted reply:   romanian .\n",
            "\n",
            "\n",
            "**************************************************\n",
            "\n",
            "\n",
            "question/email:  what was roosevelt's justification for supporting desegregation of schools in new york\n",
            "original reply:   noting that his children had been educated with other races and there was nothing wrong with it .\n",
            "predicted reply:   the federalist party .\n",
            "\n",
            "\n",
            "**************************************************\n",
            "\n",
            "\n",
            "question/email:  what is the si unit for radioactivity called\n",
            "original reply:   becquerel .\n",
            "predicted reply:   some shrubs, herbs, twigs, leaves, and bark .\n",
            "\n",
            "\n",
            "**************************************************\n",
            "\n",
            "\n",
            "question/email:  who was the victor of the \"war of currents\"\n",
            "original reply:   tesla .\n",
            "predicted reply:   the thylacine .\n",
            "\n",
            "\n",
            "**************************************************\n",
            "\n",
            "\n",
            "question/email:  what did the legal tender act of 1862 establish\n",
            "original reply:   the united states note, the first paper currency in united states history .\n",
            "predicted reply:   in the blue room in the new section of highgate york\n",
            "\n",
            "\n",
            "**************************************************\n",
            "\n",
            "\n",
            "question/email:  what does \"era of good feelings\" refers to\n",
            "original reply:   reduced tension .\n",
            "predicted reply:   a oblong shape .\n",
            "\n",
            "\n",
            "**************************************************\n",
            "\n",
            "\n",
            "question/email:  how does a trumpet produce sound\n",
            "original reply:   by blowing air through closed lips .\n",
            "predicted reply:   the xylophone .\n",
            "\n",
            "\n",
            "**************************************************\n",
            "\n",
            "\n",
            "question/email:  what expired on march\n",
            "original reply:   monroe's presidency .\n",
            "predicted reply:   yes, faraday .\n",
            "\n",
            "\n",
            "**************************************************\n",
            "\n",
            "\n",
            "question/email:  where did the expression \"a sitting duck\" come from\n",
            "original reply:   in many areas, wild duckof various species including ducks farmed and released into the wild are hunted for food or sport, by shooting, or formerly by decoys .\n",
            "predicted reply:   the polar bear diverged from a identical part .\n",
            "\n",
            "\n",
            "**************************************************\n",
            "\n",
            "\n",
            "question/email:  give an example of the best known symphony orchestras in the world under the leadership of conductors yevgeny mravinsky and yuri temirkanov\n",
            "original reply:   the leningrad philharmonic orchestra .\n",
            "predicted reply:   as a powerful kick .\n",
            "\n",
            "\n",
            "**************************************************\n",
            "\n",
            "\n",
            "question/email:  does exposure to air cause the larva to begin breathing\n",
            "original reply:   yes capitalization .\n",
            "predicted reply:   in 1944 .\n",
            "\n",
            "\n",
            "**************************************************\n",
            "\n",
            "\n",
            "question/email:  whom did he share the nobel prize with\n",
            "original reply:   pierre and marie curie .\n",
            "predicted reply:   no, a octopus is one of the number of the rest of the\n",
            "\n",
            "\n",
            "**************************************************\n",
            "\n",
            "\n",
            "question/email:  how do turtles chew food\n",
            "original reply:   turtles use their jaws to cut and chew food .\n",
            "predicted reply:   the three or cats in the bass drum are an identical\n",
            "\n",
            "\n",
            "**************************************************\n",
            "\n",
            "\n",
            "question/email:  what may happen to red fire ants if we use boiling water on the queen\n",
            "original reply:   nests of red fire ants may be destroyed .\n",
            "predicted reply:   yes, faraday was born in the article .\n",
            "\n",
            "\n",
            "**************************************************\n",
            "\n",
            "\n",
            "question/email:  what was from pennsylvania\n",
            "original reply:   his father .\n",
            "predicted reply:   as of the capital of foreign part and china .\n",
            "\n",
            "\n",
            "**************************************************\n",
            "\n",
            "\n",
            "question/email:  where was popkomm held before moving to berlin\n",
            "original reply:   popkomm was held in cologne before moving to berlin .\n",
            "predicted reply:   july 4, 1872 .\n",
            "\n",
            "\n",
            "**************************************************\n",
            "\n",
            "\n",
            "question/email:  is the long term viability of the koala therefore threatened by genetic weakness\n",
            "original reply:   the long term viability of the koala is therefore threatened by genetic weakness .\n",
            "predicted reply:   the suspended cymbal .\n",
            "\n",
            "\n",
            "**************************************************\n",
            "\n",
            "\n",
            "question/email:  when was the pan flute used in greece\n",
            "original reply:   7th century bc .\n",
            "predicted reply:   the leopard of the largest population of montreal is\n",
            "\n",
            "\n",
            "**************************************************\n",
            "\n",
            "\n",
            "question/email:  how many occupation zones was germany divided into after the war\n",
            "original reply:   germany was divided into four occupation zones after the war .\n",
            "predicted reply:   because of the language language of the identical part\n",
            "\n",
            "\n",
            "**************************************************\n",
            "\n",
            "\n",
            "question/email:  why are sea otters nearly extinct\n",
            "original reply:   sea otters have some 200,000 hairs per square cm of skin, a rich fur for which humans hunted them .\n",
            "predicted reply:   in the smithsonian museum .\n",
            "\n",
            "\n",
            "**************************************************\n",
            "\n",
            "\n",
            "question/email:  what is the battery made by alessandro volta credited as\n",
            "original reply:   the first electrochemical cell .\n",
            "predicted reply:   plains zebra equus quagga, formerly equus burchelli\n",
            "\n",
            "\n",
            "**************************************************\n",
            "\n",
            "\n",
            "question/email:  how many head entries for character definitions does the zhonghua zihai &#20013&#21326&#23383&#28023 1994 contain\n",
            "original reply:   85,568 head entries .\n",
            "predicted reply:   two .\n",
            "\n",
            "\n",
            "**************************************************\n",
            "\n",
            "\n",
            "question/email:  how long has the basic design of the drum remained unchanged\n",
            "original reply:   remained virtually unchanged for thousands of years .\n",
            "predicted reply:   a female turtle .\n",
            "\n",
            "\n",
            "**************************************************\n",
            "\n",
            "\n",
            "question/email:  who did james monroe marry\n",
            "original reply:   elizabeth kortright .\n",
            "predicted reply:   cantegriles .\n",
            "\n",
            "\n",
            "**************************************************\n",
            "\n",
            "\n",
            "question/email:  what countries did james vi of scotland unite\n",
            "original reply:   england and scotland .\n",
            "predicted reply:   there are not spoken in macau .\n",
            "\n",
            "\n",
            "**************************************************\n",
            "\n",
            "\n",
            "question/email:  how do elephants communicate over long distances\n",
            "original reply:   by producing and receiving low-frequency sound infrasound .\n",
            "predicted reply:   the orkhon inscriptions of robert r livingston and\n",
            "\n",
            "\n",
            "**************************************************\n",
            "\n",
            "\n",
            "question/email:  what company administers leichtenstein's railways\n",
            "original reply:   austrian federal railways .\n",
            "predicted reply:   the orkhon inscriptions were erected in honour of the\n",
            "\n",
            "\n",
            "**************************************************\n",
            "\n",
            "\n",
            "question/email:  like many larger where cities, san francisco is a minoritymajority city, as nonhispanic whites comprise less than half of the population\n",
            "original reply:   us .\n",
            "predicted reply:   because of the instrument of their fur .\n",
            "\n",
            "\n",
            "**************************************************\n",
            "\n",
            "\n",
            "question/email:  what is ottawa's population\n",
            "original reply:   1,190,982 .\n",
            "predicted reply:   yes, butterflies have their pollen or underwater .\n",
            "\n",
            "\n",
            "**************************************************\n",
            "\n",
            "\n",
            "question/email:  who constructed a kit using diatonic and chromatically tuned drums\n",
            "original reply:   terry bozzio .\n",
            "predicted reply:   grace bedell .\n",
            "\n",
            "\n",
            "**************************************************\n",
            "\n",
            "\n",
            "question/email:  did he not die at the age of 55 in le croisic\n",
            "original reply:   yes he died at the age of 55 .\n",
            "predicted reply:   the mayor is gã©rald tremblay .\n",
            "\n",
            "\n",
            "**************************************************\n",
            "\n",
            "\n",
            "question/email:  what are some common predators of ducks\n",
            "original reply:   pike, crocodilians, and other aquatic hunters .\n",
            "predicted reply:   partido colorado and partido blanco .\n",
            "\n",
            "\n",
            "**************************************************\n",
            "\n",
            "\n",
            "question/email:  what land animal has the largest brain\n",
            "original reply:   the elephant .\n",
            "predicted reply:   he was coulomb was a father's family of 1647 .\n",
            "\n",
            "\n",
            "**************************************************\n",
            "\n",
            "\n",
            "question/email:  when was the 7th symphony premiered\n",
            "original reply:   1942 .\n",
            "predicted reply:   the octopus was a octopus was an identical by napoleon\n",
            "\n",
            "\n",
            "**************************************************\n",
            "\n",
            "\n",
            "question/email:  what is charlesaugustin de coulomb best known for\n",
            "original reply:   he is best known for developing coulomb's law .\n",
            "predicted reply:   roman catholic, protestant, jewish .\n",
            "\n",
            "\n",
            "**************************************************\n",
            "\n",
            "\n",
            "question/email:  how is the climate in the city\n",
            "original reply:   jakarta has a hot and humid equatorial/tropical climate  .\n",
            "predicted reply:   he was born in angoulãªme, france, to the article .\n",
            "\n",
            "\n",
            "**************************************************\n",
            "\n",
            "\n",
            "question/email:  where is the kven language spoken\n",
            "original reply:   norway .\n",
            "predicted reply:   the first date of two .\n",
            "\n",
            "\n",
            "**************************************************\n",
            "\n",
            "\n",
            "question/email:  what is henri becquerel\n",
            "original reply:   henri becquerel was a famous physicist .\n",
            "predicted reply:   the orkhon inscriptions were erected in the prince\n",
            "\n",
            "\n",
            "**************************************************\n",
            "\n",
            "\n",
            "question/email:  when was coolidge born\n",
            "original reply:   july 4 1872 .\n",
            "predicted reply:   the world penguin aptenodytes forsteri .\n",
            "\n",
            "\n",
            "**************************************************\n",
            "\n",
            "\n",
            "question/email:  what has been discovered about turtles organs\n",
            "original reply:   they do not gradually break down or become less efficient over time .\n",
            "predicted reply:   vowel harmony and an agglutinative morphology .\n",
            "\n",
            "\n",
            "**************************************************\n",
            "\n",
            "\n",
            "question/email:  what is the biggest city in finland\n",
            "original reply:   the cities of the greater helsinki metropolitan area .\n",
            "predicted reply:   the government of the history of science .\n",
            "\n",
            "\n",
            "**************************************************\n",
            "\n",
            "\n",
            "question/email:  what notable people have been named santiago\n",
            "original reply:   benito, hugo, and others .\n",
            "predicted reply:   the capital of queen nefertiti is an pen .\n",
            "\n",
            "\n",
            "**************************************************\n",
            "\n",
            "\n",
            "question/email:  how many species of beetles are there\n",
            "original reply:   about 350,000 .\n",
            "predicted reply:   he went to northampton, massachusetts to his conversion\n",
            "\n",
            "\n",
            "**************************************************\n",
            "\n",
            "\n",
            "question/email:  how did the supporters of henry clay feel about fillmore in 1848\n",
            "original reply:   they were ok with him .\n",
            "predicted reply:   the word \"otter\" derives from the old english word\n",
            "\n",
            "\n",
            "**************************************************\n",
            "\n",
            "\n",
            "question/email:  what body of water lies to the south of finland\n",
            "original reply:   the gulf of finland .\n",
            "predicted reply:   yes, there are not ants .\n",
            "\n",
            "\n",
            "**************************************************\n",
            "\n",
            "\n",
            "question/email:  how does poverty in san francisco compare to the nationwide average\n",
            "original reply:   the city's poverty rate is 118% and the number of families in poverty stands at 74%, both lower than the national average .\n",
            "predicted reply:   a variety of fish and shellfish, as well as small land\n",
            "\n",
            "\n",
            "**************************************************\n",
            "\n",
            "\n",
            "question/email:  what do leptocephali eat\n",
            "original reply:   leptocephali eat small particles called marine snow .\n",
            "predicted reply:   they otters have problems or wounded .\n",
            "\n",
            "\n",
            "**************************************************\n",
            "\n",
            "\n",
            "question/email:  these projections , called papillae , have what\n",
            "original reply:   a rich blood supply .\n",
            "predicted reply:   he was coulomb was a vegetarian .\n",
            "\n",
            "\n",
            "**************************************************\n",
            "\n",
            "\n",
            "question/email:  how do rock and roll drummers like their drumheads\n",
            "original reply:   rock and roll drummer may prefer drums that sound loud and deep .\n",
            "predicted reply:   189 .\n",
            "\n",
            "\n",
            "**************************************************\n",
            "\n",
            "\n",
            "question/email:  what is the smallest germanspeaking country in the world\n",
            "original reply:   liechtenstein .\n",
            "predicted reply:   no, chinese literature literature from an 14th in 11th\n",
            "\n",
            "\n",
            "**************************************************\n",
            "\n",
            "\n",
            "question/email:  which fruit inspired isaac newton's theory of gravitation\n",
            "original reply:   the apple .\n",
            "predicted reply:   he was coulomb was the university of turin by the new\n",
            "\n",
            "\n",
            "**************************************************\n",
            "\n",
            "\n",
            "question/email:  why did cleveland want to hide his cancer surgery from the public\n",
            "original reply:   to avoid further market panic .\n",
            "predicted reply:   by their hardened, often darkened head, the presence\n",
            "\n",
            "\n",
            "**************************************************\n",
            "\n",
            "\n",
            "question/email:  is mandarin spoken chinese distinguished by its high level\n",
            "original reply:   no, it's distinguished by diversity .\n",
            "predicted reply:   the liechtenstein .\n",
            "\n",
            "\n",
            "**************************************************\n",
            "\n",
            "\n",
            "question/email:  is avogadro's number used to compute the results of chemical reactions\n",
            "original reply:   yes, avagadro's number is used to compute the results of chemical reactions .\n",
            "predicted reply:   the most densely populated part of the remarkable part\n",
            "\n",
            "\n",
            "**************************************************\n",
            "\n",
            "\n",
            "question/email:  how long is polar bear's guard hair\n",
            "original reply:   5-15 cm .\n",
            "predicted reply:   the reichstag building .\n",
            "\n",
            "\n",
            "**************************************************\n",
            "\n",
            "\n",
            "question/email:  give an example of the most prominent cities in africa politically and financially\n",
            "original reply:   nairobi is now one of the most prominent cities in africa politically and financially .\n",
            "predicted reply:   the united states embassy .\n",
            "\n",
            "\n",
            "**************************************************\n",
            "\n",
            "\n",
            "question/email:  how many years after cleveland left office did the us win the spanishamerican war\n",
            "original reply:   one .\n",
            "predicted reply:   the hands .\n",
            "\n",
            "\n",
            "**************************************************\n",
            "\n",
            "\n",
            "question/email:  how old was pascal when he died\n",
            "original reply:   1662-08-19 .\n",
            "predicted reply:   by walking .\n",
            "\n",
            "\n",
            "**************************************************\n",
            "\n",
            "\n",
            "question/email:  what is the first number on the page\n",
            "original reply:   28 .\n",
            "predicted reply:   it's extremely long tongue .\n",
            "\n",
            "\n",
            "**************************************************\n",
            "\n",
            "\n",
            "question/email:  which came first, the xylophone or the vibraphone\n",
            "original reply:   the xylophone .\n",
            "predicted reply:   in the battle of new york city .\n",
            "\n",
            "\n",
            "**************************************************\n",
            "\n",
            "\n",
            "question/email:  why did roosevelt start boxing lessons\n",
            "original reply:   to deal with bullies .\n",
            "predicted reply:   they are their fur for their fur .\n",
            "\n",
            "\n",
            "**************************************************\n",
            "\n",
            "\n",
            "question/email:  who did cleveland run against in 1884\n",
            "original reply:   former senator james g blaine of maine .\n",
            "predicted reply:   13 species and 7 genera .\n",
            "\n",
            "\n",
            "**************************************************\n",
            "\n",
            "\n",
            "question/email:  what happened in 1860\n",
            "original reply:   vincent van gogh attended the zundert village school from 1860 .\n",
            "predicted reply:   bamboo .\n",
            "\n",
            "\n",
            "**************************************************\n",
            "\n",
            "\n",
            "question/email:  where are there craters named becquerel\n",
            "original reply:   moon and mars .\n",
            "predicted reply:   avogadro was a professor of turin .\n",
            "\n",
            "\n",
            "**************************************************\n",
            "\n",
            "\n",
            "question/email:  what is monroe doctrine\n",
            "original reply:   in it, monroe proclaimed the americas should be free from future european colonization and free from european interference in sovereign countries' affairs it further stated the united states' intention to stay neutral in european wars and wars between european powers and their colonies, but to consider any new colonies or interference with independent countries in the americas as hostile acts toward the united states  .\n",
            "predicted reply:   bamie .\n",
            "\n",
            "\n",
            "**************************************************\n",
            "\n",
            "\n",
            "question/email:  what percentage of the words in turkish vocabulary have turkish origins\n",
            "original reply:   86% of the turkish vocabulary have turkish origins .\n",
            "predicted reply:   the koalas of south australia was largely exterminated\n",
            "\n",
            "\n",
            "**************************************************\n",
            "\n",
            "\n",
            "question/email:  what became one of the most important commercial and military centres of the british empire\n",
            "original reply:   singapore .\n",
            "predicted reply:   the language language is spoken in the language language\n",
            "\n",
            "\n",
            "**************************************************\n",
            "\n",
            "\n",
            "question/email:  what is coulomb's law\n",
            "original reply:   the definition of the electrostatic force of attraction and repulsion .\n",
            "predicted reply:   sheep gut .\n",
            "\n",
            "\n",
            "**************************************************\n",
            "\n",
            "\n",
            "question/email:  what city in the uk has been subjected to bouts of terrorism\n",
            "original reply:   london .\n",
            "predicted reply:   spence .\n",
            "\n",
            "\n",
            "**************************************************\n",
            "\n",
            "\n",
            "question/email:  in addition to port royal, where else did samuel de champlain establish a settlement\n",
            "original reply:   quebec city .\n",
            "predicted reply:   yes, newton was the professor of the suharto era .\n",
            "\n",
            "\n",
            "**************************************************\n",
            "\n",
            "\n",
            "question/email:  what is jakarta\n",
            "original reply:   indonesia's special capital region .\n",
            "predicted reply:   one to birth years .\n",
            "\n",
            "\n",
            "**************************************************\n",
            "\n",
            "\n",
            "question/email:  what percentage of the korean language does jeong jaedo estimate to be sinokorean\n",
            "original reply:   sino-korean makes up 30% of the korean language .\n",
            "predicted reply:   the polar bear diverged from a identical part .\n",
            "\n",
            "\n",
            "**************************************************\n",
            "\n",
            "\n",
            "question/email:  what are the three sections of a beetle\n",
            "original reply:   the head, the thorax, and the abdomen .\n",
            "predicted reply:   a flute player, a identical part .\n",
            "\n",
            "\n",
            "**************************************************\n",
            "\n",
            "\n",
            "question/email:  where was michael faraday born\n",
            "original reply:   newington butts .\n",
            "predicted reply:   the construction of fort bourbon took place of martinique\n",
            "\n",
            "\n",
            "**************************************************\n",
            "\n",
            "\n",
            "question/email:  what do all turtles and tortoises breathe\n",
            "original reply:   air .\n",
            "predicted reply:   the koalas of south australia were largely exterminated\n",
            "\n",
            "\n",
            "**************************************************\n",
            "\n",
            "\n",
            "question/email:  how long have people been making instruments like violins\n",
            "original reply:   since 1555 .\n",
            "predicted reply:   beetles .\n",
            "\n",
            "\n",
            "**************************************************\n",
            "\n",
            "\n",
            "question/email:  is eel blood toxic to humans\n",
            "original reply:   yes, eel blood is toxic to humans .\n",
            "predicted reply:   hardin county .\n",
            "\n",
            "\n",
            "**************************************************\n",
            "\n",
            "\n",
            "question/email:  what is the official language of north korea\n",
            "original reply:   korean .\n",
            "predicted reply:   because it are small particles called marine snow .\n",
            "\n",
            "\n",
            "**************************************************\n",
            "\n",
            "\n",
            "question/email:  why polar bear is a special species\n",
            "original reply:   the world conservation union listed polar bears as a vulnerable species, one of three sub-categories of threatened status, in may 2006 their latest estimate is that 7 out of 19 subpopulations are declining or already severely reduced .\n",
            "predicted reply:   the three penguin aptenodytes forsteri .\n",
            "\n",
            "\n",
            "**************************************************\n",
            "\n",
            "\n",
            "question/email:  in 1602, the british east india company's first voyage, commanded by sir who, arrived in aceh and sailed on to banten where they were allowed to build a trading post\n",
            "original reply:   james lancaster .\n",
            "predicted reply:   knowledge of 2,000 characters .\n",
            "\n",
            "\n",
            "**************************************************\n",
            "\n",
            "\n",
            "question/email:  what happened in 1867\n",
            "original reply:   canada was formed as a federal, semi-autonomous polity .\n",
            "predicted reply:   john adams .\n",
            "\n",
            "\n",
            "**************************************************\n",
            "\n",
            "\n",
            "question/email:  what kinds of changes have larger kangaroos adapted much better to\n",
            "original reply:   changes wrought to the australian landscape by humans .\n",
            "predicted reply:   turtles use have their pounds .\n",
            "\n",
            "\n",
            "**************************************************\n",
            "\n",
            "\n",
            "question/email:  what is the study of beetles called\n",
            "original reply:   coleopterology .\n",
            "predicted reply:   many homes and business set up shrines .\n",
            "\n",
            "\n",
            "**************************************************\n",
            "\n",
            "\n",
            "question/email:  how many strings does a guitar typically have\n",
            "original reply:   six .\n",
            "predicted reply:   ursidae .\n",
            "\n",
            "\n",
            "**************************************************\n",
            "\n",
            "\n",
            "question/email:  when did watt retire\n",
            "original reply:   in 1800 .\n",
            "predicted reply:   a luthier .\n",
            "\n",
            "\n",
            "**************************************************\n",
            "\n",
            "\n",
            "question/email:  was vietnamese influenced by chinese\n",
            "original reply:   much vocabulary has been borrowed from chinese .\n",
            "predicted reply:   john electromagnetic .\n",
            "\n",
            "\n",
            "**************************************************\n",
            "\n",
            "\n",
            "question/email:  when was middle chinese used\n",
            "original reply:   middle chinese was the language used in the 6th through 1-th centuries ce .\n",
            "predicted reply:   in 1529 .\n",
            "\n",
            "\n",
            "**************************************************\n",
            "\n",
            "\n",
            "question/email:  who helped to fund roosevelt's african safari\n",
            "original reply:   andrew carnegie .\n",
            "predicted reply:   1908 .\n",
            "\n",
            "\n",
            "**************************************************\n",
            "\n",
            "\n",
            "question/email:  his passion been always the study of what\n",
            "original reply:   electricity .\n",
            "predicted reply:   a arena in uniondale, new york, usa .\n",
            "\n",
            "\n",
            "**************************************************\n",
            "\n",
            "\n",
            "question/email:  name an animal that is growing in number due to recent conservation efforts\n",
            "original reply:   golden eagle, brown bear, or eurasian lynx change imperative to interrogative .\n",
            "predicted reply:   the largest is held in the largest is in the use of\n",
            "\n",
            "\n",
            "**************************************************\n",
            "\n",
            "\n",
            "question/email:  what did cleveland's opponents say in 1884 to counter his innocent image\n",
            "original reply:   that he had fathered an illegitimate child .\n",
            "predicted reply:   the federalist party .\n",
            "\n",
            "\n",
            "**************************************************\n",
            "\n",
            "\n",
            "question/email:  what countries border egypt\n",
            "original reply:   libya, sudan, the gaza strip and israel .\n",
            "predicted reply:   faraday .\n",
            "\n",
            "\n",
            "**************************************************\n",
            "\n",
            "\n",
            "question/email:  what is the outer layer of the cuticle made of\n",
            "original reply:   the outer layer of the cuticle is made of of a mixture of chitin and specialized proteins .\n",
            "predicted reply:   because of the way they withdraw their heads into their\n",
            "\n",
            "\n",
            "**************************************************\n",
            "\n",
            "\n",
            "question/email:  is the spelling of turkish phonetic\n",
            "original reply:   yes, turkish now has an alphabet suited to the sounds of the language the spelling is largely phonetic, with one letter corresponding to each phoneme .\n",
            "predicted reply:   the celsius of three .\n",
            "\n",
            "\n",
            "**************************************************\n",
            "\n",
            "\n",
            "question/email:  how many of james watt's children did not live to adulthood\n",
            "original reply:   3 .\n",
            "predicted reply:   the publication of the cancioneiro geral of garcia\n",
            "\n",
            "\n",
            "**************************************************\n",
            "\n",
            "\n",
            "question/email:  what is the earliest extant transverse flute\n",
            "original reply:   chi .\n",
            "predicted reply:   the way of the water of water .\n",
            "\n",
            "\n",
            "**************************************************\n",
            "\n",
            "\n",
            "question/email:  when was a threeholed flute made from a mammoth tusk discovered\n",
            "original reply:   in 2004 .\n",
            "predicted reply:   7th century bc .\n",
            "\n",
            "\n",
            "**************************************************\n",
            "\n",
            "\n",
            "question/email:  what is along the city's western border\n",
            "original reply:   taipei has the danshui river along its western border .\n",
            "predicted reply:   libya, sudan, the gaza strip and israel .\n",
            "\n",
            "\n",
            "**************************************************\n",
            "\n",
            "\n",
            "question/email:  what drives sea otter almost to extinction\n",
            "original reply:   sea otters have some 200,000 hairs per square cm of skin, a rich fur for which humans hunted them almost to extinction  .\n",
            "predicted reply:   the leopard can made from a drum for an identical family\n",
            "\n",
            "\n",
            "**************************************************\n",
            "\n",
            "\n",
            "question/email:  why is a police whistle very wide for its pitch\n",
            "original reply:   it's volume is high either because of its larger resonator or larger tone holes .\n",
            "predicted reply:   by 2001, a ability to pull down prey substantially\n",
            "\n",
            "\n",
            "**************************************************\n",
            "\n",
            "\n",
            "question/email:  what position is used to play the cello\n",
            "original reply:   seated .\n",
            "predicted reply:   the 7th century association was founded in 1932 .\n",
            "\n",
            "\n",
            "**************************************************\n",
            "\n",
            "\n",
            "question/email:  do wolf pups tend to have darker fur than adults\n",
            "original reply:   yes, they do tend to have darker furs .\n",
            "predicted reply:   his father, ãtienne fuller .\n",
            "\n",
            "\n",
            "**************************************************\n",
            "\n",
            "\n",
            "question/email:  how many years ago did african people spread across 31 francophone african countries can speak french either as a first or second language\n",
            "original reply:   2 years ago .\n",
            "predicted reply:   japan .\n",
            "\n",
            "\n",
            "**************************************************\n",
            "\n",
            "\n",
            "question/email:  where do giant pandas live\n",
            "original reply:   sichuan province, shaanxi and gansu provinces .\n",
            "predicted reply:   amnoites .\n",
            "\n",
            "\n",
            "**************************************************\n",
            "\n",
            "\n",
            "question/email:  give an example of the ten beta world cities\n",
            "original reply:   san trancisco .\n",
            "predicted reply:   the reichstag building .\n",
            "\n",
            "\n",
            "**************************************************\n",
            "\n",
            "\n",
            "question/email:  why are sidenecked turtles called sidenecked turtles\n",
            "original reply:   because of the way they withdraw their heads into their shells .\n",
            "predicted reply:   because it is a common rainforest climate for an distinctive\n",
            "\n",
            "\n",
            "**************************************************\n",
            "\n",
            "\n",
            "question/email:  what part of an elephant is very important for temperature regulation\n",
            "original reply:   the large flapping ears of an elephant are also very important for temperature regulation .\n",
            "predicted reply:   the federalist party .\n",
            "\n",
            "\n",
            "**************************************************\n",
            "\n",
            "\n",
            "question/email:  did eucalypt forests grow in the place of rainforests\n",
            "original reply:   yes, the koala did not specialise in a diet of eucalyptus until the climate cooled and eucalypt forests grew in the place of rainforests .\n",
            "predicted reply:   they are not eating with females .\n",
            "\n",
            "\n",
            "**************************************************\n",
            "\n",
            "\n",
            "question/email:  what's the timber of ancient cimbals like disfluent\n",
            "original reply:   like that of small hand-bells or of the notes of the keyed harmonica .\n",
            "predicted reply:   4 years .\n",
            "\n",
            "\n",
            "**************************************************\n",
            "\n",
            "\n",
            "question/email:  what is an economic use of a duck\n",
            "original reply:   being farmed for their meat .\n",
            "predicted reply:   a flute's can only suppport one littler per year .\n",
            "\n",
            "\n",
            "**************************************************\n",
            "\n",
            "\n",
            "question/email:  what is the population of copenhagen\n",
            "original reply:   1,153,615 .\n",
            "predicted reply:   42 .\n",
            "\n",
            "\n",
            "**************************************************\n",
            "\n",
            "\n"
          ],
          "name": "stdout"
        }
      ]
    },
    {
      "cell_type": "code",
      "metadata": {
        "id": "qooA9ZgbmNg-",
        "colab_type": "code",
        "colab": {}
      },
      "source": [
        "temp_set = list(set(temp_arr))"
      ],
      "execution_count": 0,
      "outputs": []
    },
    {
      "cell_type": "code",
      "metadata": {
        "id": "juDXuhan2H9r",
        "colab_type": "code",
        "outputId": "24e2be7b-29ae-48db-d72c-5bb27702ed01",
        "colab": {
          "base_uri": "https://localhost:8080/",
          "height": 34
        }
      },
      "source": [
        "#number of unique predicitons \n",
        "len(temp_set)"
      ],
      "execution_count": 0,
      "outputs": [
        {
          "output_type": "execute_result",
          "data": {
            "text/plain": [
              "168"
            ]
          },
          "metadata": {
            "tags": []
          },
          "execution_count": 120
        }
      ]
    },
    {
      "cell_type": "code",
      "metadata": {
        "id": "6EA1n3bse2LJ",
        "colab_type": "code",
        "outputId": "866a6ebf-96da-4462-8e21-6e11d4cfea37",
        "colab": {
          "base_uri": "https://localhost:8080/",
          "height": 54
        }
      },
      "source": [
        "#All unique predictions\n",
        "print(temp_set)"
      ],
      "execution_count": 0,
      "outputs": [
        {
          "output_type": "stream",
          "text": [
            "[' they otters have problems or wounded .', ' the capital of queen nefertiti is in the altes museum', ' knowledge of 2,000 characters .', ' the leopard of the largest population of montreal is', ' the capital city is the west of montreal is happened', ' the largest primarily french-speaking city of the world,', ' two .', \" a flute's can only suppport one littler per year .\", ' japan .', ' a oblong shape .', ' because it are small particles called marine snow .', ' he was coulomb was a vegetarian .', ' ursidae .', ' amnoites .', ' 7th century bc .', ' he was too expensive .', ' a \"melburnian\" .', ' the volt .', \" the leopard has rosettes rather than cheetah's simple\", ' the largest is held in the largest is in the use of', ' sheep gut .', ' hardin county .', ' by 2001, a ability to pull down prey substantially', ' turtles use have their pounds .', ' the maple leaf flag .', ' yes, a stream of a popular butterfly is an identical', ' because of the language language of the identical part', ' a holt .', ' the reichstag building .', ' the celsius of three .', ' yes, faraday was born in the article .', ' beetles .', ' the leopard can made from a drum for an identical family', ' the celsius of david, completed called by the light', ' the united states is at the largest coast of the light', ' a female turtle .', ' because of the instrument of their fur .', ' yes, there are more than more million .', ' some shrubs, herbs, twigs, leaves, and bark .', ' 4 years .', \" john 'mad jack' fuller .\", ' no, chinese literature literature from an 14th in 11th', ' cygnets .', ' no, a octopus is one of the number of the rest of the', ' yes, faraday .', ' a variety of fish and shellfish, as well as small land', ' the capital of queen nefertiti is an pen .', ' in 1529 .', \" he was coulomb was a father's family of 1647 .\", ' the orkhon inscriptions were erected in honour of the', ' 3 .', ' the most trumpet .', ' the leopard of the country .', ' in the smithsonian museum .', ' the first statue of settlement at the coulomb, is named', ' the orkhon inscriptions of robert r livingston and', ' 78 million .', ' brass .', ' vowel harmony and an agglutinative morphology .', ' 189 .', ' spence .', ' the hands .', ' faraday .', ' the three population of asian china .', ' the first novel in the new settlement called lundenwic', ' yes, butterflies have their pollen or underwater .', ' bamboo .', ' he did not attend .', ' the capital of the drum is an western part is the light', ' avogadro was a professor of turin .', ' a octopus has four pairs of arms .', ' john adams .', ' the first settlement in new york city .', ' john electromagnetic .', ' july 4, 1872 .', ' cantegriles .', ' the united states of the kangaroo .', ' the thylacine .', ' chinese is not chinese .', ' yes, newton was the professor of the suharto era .', ' in the battle of new york city .', ' they are their fur for their fur .', ' his father, ã\\x89tienne fuller .', ' the koalas of south australia was largely exterminated', ' the polar bear diverged from a identical part .', ' a luthier .', ' they are not eating with females .', ' the leopard of cases in the octopus is a year of two', ' one to birth years .', ' many homes and business set up shrines .', ' there are 16,915 million in speech .', ' by their hardened, often darkened head, the presence', ' by the age of three .', ' he went to northampton, massachusetts to his conversion', ' in 1819 .', ' 13 species and 7 genera .', ' the federalist party .', ' in 1944 .', ' a arena in uniondale, new york, usa .', ' bamie .', ' the first novel in the white engine .', ' roman catholic, protestant, jewish .', ' a flute player, a identical part .', ' a adult volume can generally be increased by making', ' upon the death of the suharto era .', ' the koalas of south australia were largely exterminated', ' because it is a common rainforest climate for an distinctive', ' in the blue room in the new section of highgate york', ' the largest nights festival .', ' he was coulomb was the university of turin by the new', ' in the blue room in the new york city .', ' michael faraday .', ' as a powerful kick .', ' loons or divers, grebes, gallinules, and coots .', ' the octopus was a octopus was an identical by napoleon', ' the percussion family .', ' in the battle of trenton .', ' the mayor is gã©rald tremblay .', ' british .', ' the publication of the cancioneiro geral of garcia', ' the new kingdom c1550&#87221070 bc .', ' 176215 km©÷ .', ' the world penguin aptenodytes forsteri .', ' felicita mazz .', ' the construction of fort bourbon took place of martinique', ' the first records of settlement in the country in the', ' the three are cats in the bass drum are an identical', ' because of the way they withdraw their heads or prey', ' romanian .', \" it's extremely long tongue .\", ' the 7th century association was founded in 1932 .', ' vietnamese adopts words from chinese as chinese as', ' by walking .', ' the three penguin aptenodytes forsteri .', ' yes, volta was a count by napoleon .', ' the three heaviest cats in the world are two are two', ' the dictionary of contemporary finnish .', ' the capital of queen nefertiti is in the altes is 59%', ' the language language is spoken in the language language', ' the way of the water of water .', ' the most densely populated part of the remarkable part', ' the suspended cymbal .', ' he was born in angoulãªme, france, to the article .', ' as of the capital of foreign part and china .', ' most livable city, location ranking survey .', ' partido colorado and partido blanco .', ' the united states embassy .', ' the becquerel of the drum .', ' the orkhon inscriptions were erected in the prince', ' the liechtenstein .', ' the principles of conservation of momentum and angular', ' the xylophone .', ' because of the way they withdraw their heads into their', ' plains zebra equus quagga, formerly equus burchelli', ' the elephant is migratory .', ' there are not spoken in macau .', ' the word \"otter\" derives from the old english word', ' the government of the history of science .', ' the first date of two .', ' yes, there are not ants .', ' 1908 .', ' libya, sudan, the gaza strip and israel .', ' 42 .', ' in the 20th century .', ' the three or cats in the bass drum are an identical', ' grace bedell .', ' no, butterflies carry ants .', ' the koalas of south australia of largely exterminated']\n"
          ],
          "name": "stdout"
        }
      ]
    },
    {
      "cell_type": "code",
      "metadata": {
        "id": "aNKDsRWvmfjJ",
        "colab_type": "code",
        "colab": {}
      },
      "source": [
        "#Model is not predicting good reply"
      ],
      "execution_count": 0,
      "outputs": []
    },
    {
      "cell_type": "code",
      "metadata": {
        "id": "63yErO6bnO2p",
        "colab_type": "code",
        "colab": {}
      },
      "source": [
        "#Model is waster here"
      ],
      "execution_count": 0,
      "outputs": []
    },
    {
      "cell_type": "markdown",
      "metadata": {
        "id": "jD30s49ZoQsU",
        "colab_type": "text"
      },
      "source": [
        "Conclusion"
      ]
    },
    {
      "cell_type": "code",
      "metadata": {
        "id": "Am40NKzXoTB9",
        "colab_type": "code",
        "colab": {}
      },
      "source": [
        ""
      ],
      "execution_count": 0,
      "outputs": []
    },
    {
      "cell_type": "markdown",
      "metadata": {
        "id": "f-3FKqyJoT2c",
        "colab_type": "text"
      },
      "source": [
        "We used encoder decoder approach to predict the reply.\n",
        "\n",
        "1. We took the data \n",
        "2. Did EDA over it\n",
        "3. Took only the replies and question whose length is small\n",
        "4. Tokenized the questions\n",
        "5. pad the question\n",
        "6. encoder will take this as an input from embedding layer \n",
        "7. encoder is LSTM which passes the vectors to the decoder\n",
        "8. where decoder takes vector from encoder and words(real words) and get trained\n",
        "9. For inference we are using same weights from the learning model\n",
        "10. Used in inferencing encoder and decoder and this time decoder will get only the vectors from encoder \n",
        "11. it'll predict the reply till \"_end\" is predicted\n",
        "12. we'll de tokenize and will get the predicted reply"
      ]
    },
    {
      "cell_type": "markdown",
      "metadata": {
        "id": "AWQKfBCnn-XL",
        "colab_type": "text"
      },
      "source": [
        "\n",
        "</br> </br></br> </br></br> </br>\n",
        "<center> <h2>How LSTM Works </h2></b> </br></br>\n",
        "In LSTM \n",
        "we pass the input to layer 1 and it recur multiple times , with function time \n",
        "LSTM has 3 layers inside it</br> <b>\n",
        "Input ,output,forget</b>  </br></br>\n",
        "x and + are there which help me carring the data to further layer (like ResNet Skipping) so that original data can be preserved and if some data model didn' learn can be passed foward so that next time it may learn and can pass data to another layer without the loss \n",
        "\n",
        "</br></br>\n",
        "\n",
        "when we get the input as the output form previous interation or layer and the data as inout the we combine them and pass it throught sigmoid function which will (Ft) which tell how much to remember and forget it goes to (x)\n",
        "\n",
        "</br></br>\n",
        "\n",
        "and again now we thanwe take same input to previous sigmoid fucntiona  pass it to sigmoid and tanh and perform binary multiplication of output form sigmoid and tanh ( this tell how much input should impact the output of the layer)\n",
        "\n",
        "</br> </br>\n",
        "\n",
        "and the out put from previous layer is binary added to the output line \n",
        "</br></br>\n",
        "the again we put signoid layer which take (WiYt concated with w(Ot-1)) and goes to sigmoid layer and binary multiplied with the tanh of the ooutput line and give output as Yit which passes to another layer or to same with new iteration\n",
        "</br></br>\n",
        "\n",
        "\n",
        "\n",
        "Reference taken from https://cs224d.stanford.edu/reports/ZhouXu.pdf </center>\n",
        "\n",
        "\n",
        "\n",
        "in above models we tried multiple LSTM layers and neurons to train it better and get best output"
      ]
    },
    {
      "cell_type": "code",
      "metadata": {
        "id": "nKJMs11fn_SQ",
        "colab_type": "code",
        "colab": {}
      },
      "source": [
        ""
      ],
      "execution_count": 0,
      "outputs": []
    }
  ]
}