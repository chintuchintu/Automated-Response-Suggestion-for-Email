{
  "nbformat": 4,
  "nbformat_minor": 0,
  "metadata": {
    "colab": {
      "name": "Smart_email_reply_suggestion.ipynb",
      "provenance": [],
      "collapsed_sections": [],
      "include_colab_link": true
    },
    "kernelspec": {
      "name": "python3",
      "display_name": "Python 3"
    },
    "accelerator": "GPU"
  },
  "cells": [
    {
      "cell_type": "markdown",
      "metadata": {
        "id": "view-in-github",
        "colab_type": "text"
      },
      "source": [
        "<a href=\"https://colab.research.google.com/github/yatindma/Automated-Response-Suggestion-for-Email/blob/master/Smart_email_reply_suggestion.ipynb\" target=\"_parent\"><img src=\"https://colab.research.google.com/assets/colab-badge.svg\" alt=\"Open In Colab\"/></a>"
      ]
    },
    {
      "cell_type": "markdown",
      "metadata": {
        "id": "2c-6YuFhv-JH",
        "colab_type": "text"
      },
      "source": [
        "**Smart Email Reply Suggestion**"
      ]
    },
    {
      "cell_type": "markdown",
      "metadata": {
        "id": "Eob1MGEiJKb1",
        "colab_type": "text"
      },
      "source": [
        "In this case study,<br> we have to suggest 3 replies to the user,<br> so that user need not to type the reply"
      ]
    },
    {
      "cell_type": "code",
      "metadata": {
        "id": "4zq791T8qM4L",
        "colab_type": "code",
        "outputId": "38b9f8d1-bcdd-4d8c-9f84-dcdc61585ac9",
        "colab": {
          "base_uri": "https://localhost:8080/",
          "height": 80
        }
      },
      "source": [
        "%matplotlib inline\n",
        "import pandas as pd\n",
        "import numpy as np\n",
        "import matplotlib.pyplot as plt\n",
        "import pickle\n",
        "import tensorflow as tf\n",
        "import os\n",
        "from tensorflow.python.keras.layers import Layer\n",
        "from tensorflow.python.keras import backend as K"
      ],
      "execution_count": 1,
      "outputs": [
        {
          "output_type": "display_data",
          "data": {
            "text/html": [
              "<p style=\"color: red;\">\n",
              "The default version of TensorFlow in Colab will soon switch to TensorFlow 2.x.<br>\n",
              "We recommend you <a href=\"https://www.tensorflow.org/guide/migrate\" target=\"_blank\">upgrade</a> now \n",
              "or ensure your notebook will continue to use TensorFlow 1.x via the <code>%tensorflow_version 1.x</code> magic:\n",
              "<a href=\"https://colab.research.google.com/notebooks/tensorflow_version.ipynb\" target=\"_blank\">more info</a>.</p>\n"
            ],
            "text/plain": [
              "<IPython.core.display.HTML object>"
            ]
          },
          "metadata": {
            "tags": []
          }
        }
      ]
    },
    {
      "cell_type": "code",
      "metadata": {
        "id": "04fl9zoQWSMn",
        "colab_type": "code",
        "outputId": "840313bd-458f-4de9-ba88-b2c99f15d66c",
        "colab": {
          "base_uri": "https://localhost:8080/",
          "height": 54
        }
      },
      "source": [
        "# Load the Drive helper and mount\n",
        "from google.colab import drive\n",
        "# This will prompt for authorization.\n",
        "drive.mount('/content/drive')"
      ],
      "execution_count": 51,
      "outputs": [
        {
          "output_type": "stream",
          "text": [
            "Drive already mounted at /content/drive; to attempt to forcibly remount, call drive.mount(\"/content/drive\", force_remount=True).\n"
          ],
          "name": "stdout"
        }
      ]
    },
    {
      "cell_type": "markdown",
      "metadata": {
        "id": "lJ3o8wZwq-7-",
        "colab_type": "text"
      },
      "source": [
        "**Reading the data**"
      ]
    },
    {
      "cell_type": "code",
      "metadata": {
        "id": "aNW5nOAEq0vj",
        "colab_type": "code",
        "colab": {}
      },
      "source": [
        "\n",
        "#Reading email dataset\n",
        "data = pd.read_csv('qa_dataset.csv', encoding = \"ISO-8859-1\", low_memory=False)\n",
        "#Dropping unused data from the dataframe \n",
        "data = data.drop(['ArticleTitle','DifficultyFromQuestioner','DifficultyFromAnswerer','ArticleFile'],axis =1 ) \n",
        "#Changing teh name of teh collumns\n",
        "data.columns = ['question','reply']"
      ],
      "execution_count": 0,
      "outputs": []
    },
    {
      "cell_type": "code",
      "metadata": {
        "id": "X-rujaNTrCFq",
        "colab_type": "code",
        "outputId": "ca97d508-fc2e-46e4-9d2a-823e0291efe4",
        "colab": {
          "base_uri": "https://localhost:8080/",
          "height": 204
        }
      },
      "source": [
        "data.head()"
      ],
      "execution_count": 4,
      "outputs": [
        {
          "output_type": "execute_result",
          "data": {
            "text/html": [
              "<div>\n",
              "<style scoped>\n",
              "    .dataframe tbody tr th:only-of-type {\n",
              "        vertical-align: middle;\n",
              "    }\n",
              "\n",
              "    .dataframe tbody tr th {\n",
              "        vertical-align: top;\n",
              "    }\n",
              "\n",
              "    .dataframe thead th {\n",
              "        text-align: right;\n",
              "    }\n",
              "</style>\n",
              "<table border=\"1\" class=\"dataframe\">\n",
              "  <thead>\n",
              "    <tr style=\"text-align: right;\">\n",
              "      <th></th>\n",
              "      <th>question</th>\n",
              "      <th>reply</th>\n",
              "    </tr>\n",
              "  </thead>\n",
              "  <tbody>\n",
              "    <tr>\n",
              "      <th>0</th>\n",
              "      <td>Was Volta an Italian physicist?</td>\n",
              "      <td>yes</td>\n",
              "    </tr>\n",
              "    <tr>\n",
              "      <th>1</th>\n",
              "      <td>Is Volta buried in the city of Pittsburgh?</td>\n",
              "      <td>no</td>\n",
              "    </tr>\n",
              "    <tr>\n",
              "      <th>2</th>\n",
              "      <td>Did Volta have a passion for the study of elec...</td>\n",
              "      <td>yes</td>\n",
              "    </tr>\n",
              "    <tr>\n",
              "      <th>3</th>\n",
              "      <td>What is the battery made by Volta credited to be?</td>\n",
              "      <td>the first cell</td>\n",
              "    </tr>\n",
              "    <tr>\n",
              "      <th>4</th>\n",
              "      <td>What important electrical unit was named in ho...</td>\n",
              "      <td>the volt</td>\n",
              "    </tr>\n",
              "  </tbody>\n",
              "</table>\n",
              "</div>"
            ],
            "text/plain": [
              "                                            question           reply\n",
              "0                    Was Volta an Italian physicist?             yes\n",
              "1         Is Volta buried in the city of Pittsburgh?              no\n",
              "2  Did Volta have a passion for the study of elec...             yes\n",
              "3  What is the battery made by Volta credited to be?  the first cell\n",
              "4  What important electrical unit was named in ho...        the volt"
            ]
          },
          "metadata": {
            "tags": []
          },
          "execution_count": 4
        }
      ]
    },
    {
      "cell_type": "markdown",
      "metadata": {
        "id": "on9Jb9_lrjn6",
        "colab_type": "text"
      },
      "source": [
        "**Converting data into lower case**"
      ]
    },
    {
      "cell_type": "code",
      "metadata": {
        "id": "1a33I75XrsmD",
        "colab_type": "code",
        "outputId": "acab8159-3b60-4134-fcff-69d696945b50",
        "colab": {
          "base_uri": "https://localhost:8080/",
          "height": 173
        }
      },
      "source": [
        "data = data.apply(lambda x: x.astype(str).str.lower())\n",
        "data.head(4)"
      ],
      "execution_count": 5,
      "outputs": [
        {
          "output_type": "execute_result",
          "data": {
            "text/html": [
              "<div>\n",
              "<style scoped>\n",
              "    .dataframe tbody tr th:only-of-type {\n",
              "        vertical-align: middle;\n",
              "    }\n",
              "\n",
              "    .dataframe tbody tr th {\n",
              "        vertical-align: top;\n",
              "    }\n",
              "\n",
              "    .dataframe thead th {\n",
              "        text-align: right;\n",
              "    }\n",
              "</style>\n",
              "<table border=\"1\" class=\"dataframe\">\n",
              "  <thead>\n",
              "    <tr style=\"text-align: right;\">\n",
              "      <th></th>\n",
              "      <th>question</th>\n",
              "      <th>reply</th>\n",
              "    </tr>\n",
              "  </thead>\n",
              "  <tbody>\n",
              "    <tr>\n",
              "      <th>0</th>\n",
              "      <td>was volta an italian physicist?</td>\n",
              "      <td>yes</td>\n",
              "    </tr>\n",
              "    <tr>\n",
              "      <th>1</th>\n",
              "      <td>is volta buried in the city of pittsburgh?</td>\n",
              "      <td>no</td>\n",
              "    </tr>\n",
              "    <tr>\n",
              "      <th>2</th>\n",
              "      <td>did volta have a passion for the study of elec...</td>\n",
              "      <td>yes</td>\n",
              "    </tr>\n",
              "    <tr>\n",
              "      <th>3</th>\n",
              "      <td>what is the battery made by volta credited to be?</td>\n",
              "      <td>the first cell</td>\n",
              "    </tr>\n",
              "  </tbody>\n",
              "</table>\n",
              "</div>"
            ],
            "text/plain": [
              "                                            question           reply\n",
              "0                    was volta an italian physicist?             yes\n",
              "1         is volta buried in the city of pittsburgh?              no\n",
              "2  did volta have a passion for the study of elec...             yes\n",
              "3  what is the battery made by volta credited to be?  the first cell"
            ]
          },
          "metadata": {
            "tags": []
          },
          "execution_count": 5
        }
      ]
    },
    {
      "cell_type": "markdown",
      "metadata": {
        "id": "0ZJl1i9crzmH",
        "colab_type": "text"
      },
      "source": [
        "**Removing all special characters from the data**"
      ]
    },
    {
      "cell_type": "code",
      "metadata": {
        "id": "qd9bIzfSrVTq",
        "colab_type": "code",
        "outputId": "bbd28fd6-2154-4d9c-96ab-61b9d84ee689",
        "colab": {
          "base_uri": "https://localhost:8080/",
          "height": 54
        }
      },
      "source": [
        "import re\n",
        "all_questions = []\n",
        "for sentence in data.question:\n",
        "   all_questions.append(re.sub('[^A-Za-z0-9]+', ' ', sentence))\n",
        "print(all_questions[:3]) # to check wheather the removal code didn' effected the data"
      ],
      "execution_count": 6,
      "outputs": [
        {
          "output_type": "stream",
          "text": [
            "['was volta an italian physicist ', 'is volta buried in the city of pittsburgh ', 'did volta have a passion for the study of electricity ']\n"
          ],
          "name": "stdout"
        }
      ]
    },
    {
      "cell_type": "code",
      "metadata": {
        "id": "qE4Q2u1LrvXN",
        "colab_type": "code",
        "colab": {}
      },
      "source": [
        "#Putting all preprocessed data back to the dataframe\n",
        "data['question'] = all_questions"
      ],
      "execution_count": 0,
      "outputs": []
    },
    {
      "cell_type": "markdown",
      "metadata": {
        "id": "srTXDp1csAuE",
        "colab_type": "text"
      },
      "source": [
        "**Trimming the data**"
      ]
    },
    {
      "cell_type": "code",
      "metadata": {
        "id": "FYtcjFIXr9wC",
        "colab_type": "code",
        "colab": {}
      },
      "source": [
        "data = data.applymap(lambda x: x.strip() if isinstance(x, str) else x)"
      ],
      "execution_count": 0,
      "outputs": []
    },
    {
      "cell_type": "markdown",
      "metadata": {
        "id": "nMOBU1ejsHcl",
        "colab_type": "text"
      },
      "source": [
        "**Dropping Duplicate questions from the data**"
      ]
    },
    {
      "cell_type": "code",
      "metadata": {
        "id": "pE_P599HsD14",
        "colab_type": "code",
        "colab": {}
      },
      "source": [
        "data.drop_duplicates(subset =\"question\", keep = False, inplace = True) "
      ],
      "execution_count": 0,
      "outputs": []
    },
    {
      "cell_type": "markdown",
      "metadata": {
        "id": "ENqOKoyWuX0Q",
        "colab_type": "text"
      },
      "source": [
        "**Remove the data from which are having more than 20 words**"
      ]
    },
    {
      "cell_type": "code",
      "metadata": {
        "id": "wAzFcMZZvmVD",
        "colab_type": "code",
        "outputId": "3bb736b0-a513-42fd-c8fe-251de40a356b",
        "colab": {
          "base_uri": "https://localhost:8080/",
          "height": 34
        }
      },
      "source": [
        "temp_arr = data[\"reply\"].str.len()\n",
        "# get the average of the length of the replies\n",
        "total = sum(temp_arr)\n",
        "average_length = total / len(temp_arr)\n",
        "print(\"average length of the replies\",int(average_length))"
      ],
      "execution_count": 10,
      "outputs": [
        {
          "output_type": "stream",
          "text": [
            "average length of the replies 17\n"
          ],
          "name": "stdout"
        }
      ]
    },
    {
      "cell_type": "markdown",
      "metadata": {
        "id": "I5-JPhD-wD_G",
        "colab_type": "text"
      },
      "source": [
        "so after seeing the average length of the we'll choose max length i.e 20"
      ]
    },
    {
      "cell_type": "code",
      "metadata": {
        "id": "vjAb-HmLulbc",
        "colab_type": "code",
        "outputId": "7155533c-0827-4704-ce4f-b87bd173afe7",
        "colab": {
          "base_uri": "https://localhost:8080/",
          "height": 153
        }
      },
      "source": [
        "#get the length of the replies\n",
        "data[\"reply_length\"]= data[\"reply\"].str.len()\n",
        "\n",
        "data = data[(data.reply_length < 20)]\n",
        "print(data.head())"
      ],
      "execution_count": 11,
      "outputs": [
        {
          "output_type": "stream",
          "text": [
            "                                            question  ... reply_length\n",
            "0                     was volta an italian physicist  ...            3\n",
            "1          is volta buried in the city of pittsburgh  ...            2\n",
            "2  did volta have a passion for the study of elec...  ...            3\n",
            "3   what is the battery made by volta credited to be  ...           14\n",
            "6                   where did volta enter retirement  ...            5\n",
            "\n",
            "[5 rows x 3 columns]\n"
          ],
          "name": "stdout"
        }
      ]
    },
    {
      "cell_type": "code",
      "metadata": {
        "id": "Q_UG5C5GDfNA",
        "colab_type": "code",
        "colab": {}
      },
      "source": [
        ""
      ],
      "execution_count": 0,
      "outputs": []
    },
    {
      "cell_type": "markdown",
      "metadata": {
        "id": "r58shfO_sQbi",
        "colab_type": "text"
      },
      "source": [
        "**DATA VISUALIZATION**"
      ]
    },
    {
      "cell_type": "code",
      "metadata": {
        "colab_type": "code",
        "id": "aVDO3G8X2DjP",
        "colab": {}
      },
      "source": [
        "reply_list = list(data['reply'].values)\n",
        "cleaned_replies = []\n",
        "for sentence in reply_list:\n",
        "   cleaned_replies.append(re.sub('[^A-Za-z0-9]+', ' ', sentence))\n",
        "\n",
        "data['reply'] = cleaned_replies\n",
        "\n",
        "reply_dict = {i:reply_list.count(i) for i in cleaned_replies}"
      ],
      "execution_count": 0,
      "outputs": []
    },
    {
      "cell_type": "code",
      "metadata": {
        "colab_type": "code",
        "id": "yNfvv1i12DjY",
        "colab": {}
      },
      "source": [
        "from collections import OrderedDict\n",
        "reply_dict_sorted = OrderedDict(sorted(reply_dict.items(), key=lambda x: x[1]))"
      ],
      "execution_count": 0,
      "outputs": []
    },
    {
      "cell_type": "code",
      "metadata": {
        "id": "d32EpOzEmE7t",
        "colab_type": "code",
        "colab": {}
      },
      "source": [
        "reply = []\n",
        "keys = []\n",
        "for item in reply_dict_sorted.items():\n",
        "  reply.append(item[0])\n",
        "  keys.append(item[1])"
      ],
      "execution_count": 0,
      "outputs": []
    },
    {
      "cell_type": "code",
      "metadata": {
        "id": "2oVVC9oqja57",
        "colab_type": "code",
        "colab": {}
      },
      "source": [
        "reply.reverse()\n",
        "keys.reverse()"
      ],
      "execution_count": 0,
      "outputs": []
    },
    {
      "cell_type": "code",
      "metadata": {
        "id": "S_Ad6vx_8LhB",
        "colab_type": "code",
        "colab": {}
      },
      "source": [
        "#top 10 reply\n",
        "top_5_reply = reply[:5]\n",
        "top_5_keys = keys[:5]"
      ],
      "execution_count": 0,
      "outputs": []
    },
    {
      "cell_type": "code",
      "metadata": {
        "id": "kmMETsW6-q8U",
        "colab_type": "code",
        "colab": {}
      },
      "source": [
        "temp_reply_list = []\n",
        "i = 0\n",
        "for key in top_5_keys:\n",
        "  for _ in range(0,key):\n",
        "    temp_reply_list.append(top_5_reply[i])\n",
        "  i += 1"
      ],
      "execution_count": 0,
      "outputs": []
    },
    {
      "cell_type": "markdown",
      "metadata": {
        "id": "sxzR9Cj8FhBF",
        "colab_type": "text"
      },
      "source": [
        "<b>\n",
        "Article title can be used while giving the sentence for tokenizing later \n",
        "question do we need to preprocess the data\n",
        "reply mai kitne repeated h\n",
        "</b>\n"
      ]
    },
    {
      "cell_type": "code",
      "metadata": {
        "id": "iGGxT8LNFgjE",
        "colab_type": "code",
        "outputId": "d23c733e-c435-4bf9-96f4-825ebac9983a",
        "colab": {
          "base_uri": "https://localhost:8080/",
          "height": 265
        }
      },
      "source": [
        "plt.hist(temp_reply_list, 10,\n",
        "         histtype='bar',\n",
        "         facecolor='b',\n",
        "         alpha=0.5)\n",
        "plt.show()"
      ],
      "execution_count": 18,
      "outputs": [
        {
          "output_type": "display_data",
          "data": {
            "image/png": "[encoded data removed]",
            "text/plain": [
              "<Figure size 432x288 with 1 Axes>"
            ]
          },
          "metadata": {
            "tags": []
          }
        }
      ]
    },
    {
      "cell_type": "markdown",
      "metadata": {
        "id": "X3t4K_gaAT8t",
        "colab_type": "text"
      },
      "source": [
        "From the above graph we can observe that \n",
        "<b>yes</b> and <b>no</b> reply are the most common reply in the mails"
      ]
    },
    {
      "cell_type": "code",
      "metadata": {
        "id": "RyqpWZfm6lat",
        "colab_type": "code",
        "colab": {}
      },
      "source": [
        "#all the words \n",
        "# Vocabulary of questions\n",
        "all_email_words=[]\n",
        "for quest in data['question'].values:\n",
        "    for word in quest.split():\n",
        "        if word not in all_email_words:\n",
        "            all_email_words.append(word)\n"
      ],
      "execution_count": 0,
      "outputs": []
    },
    {
      "cell_type": "markdown",
      "metadata": {
        "id": "taIEFLxzybwB",
        "colab_type": "text"
      },
      "source": [
        "**Tokenize the sentence**"
      ]
    },
    {
      "cell_type": "code",
      "metadata": {
        "id": "XHVZ7tuEyeS-",
        "colab_type": "code",
        "outputId": "ddc4bd53-5774-4df9-ec3e-1c4f8cae4ab5",
        "colab": {
          "base_uri": "https://localhost:8080/",
          "height": 34
        }
      },
      "source": [
        "#All input words\n",
        "\n",
        "input_words = sorted(list(all_email_words))\n",
        "\n",
        "# get the length of the vocabalary // Kitne words // this will help while performing embedding layer\n",
        "num_encoder_tokens = len(all_email_words) + 1\n",
        "vocab_len = num_encoder_tokens\n",
        "print(vocab_len)"
      ],
      "execution_count": 20,
      "outputs": [
        {
          "output_type": "stream",
          "text": [
            "2988\n"
          ],
          "name": "stdout"
        }
      ]
    },
    {
      "cell_type": "markdown",
      "metadata": {
        "id": "4jx-OD99_edv",
        "colab_type": "text"
      },
      "source": [
        "**Dictionary to get token from the word**"
      ]
    },
    {
      "cell_type": "code",
      "metadata": {
        "id": "vopiHNi4_VZO",
        "colab_type": "code",
        "colab": {}
      },
      "source": [
        "# from word to token we can get\n",
        "input_token_index = dict([(word, i+1) for i, word in enumerate(input_words)])"
      ],
      "execution_count": 0,
      "outputs": []
    },
    {
      "cell_type": "markdown",
      "metadata": {
        "id": "Fe8di1DD_jpw",
        "colab_type": "text"
      },
      "source": [
        "**Dictionary to get word from the token**"
      ]
    },
    {
      "cell_type": "code",
      "metadata": {
        "id": "0YwZq4TY_VfB",
        "colab_type": "code",
        "colab": {}
      },
      "source": [
        "#Will not be used here\n",
        "reverse_input_char_index = dict((i, word) for word, i in input_token_index.items())"
      ],
      "execution_count": 0,
      "outputs": []
    },
    {
      "cell_type": "markdown",
      "metadata": {
        "id": "O1_PSiyAF1Mn",
        "colab_type": "text"
      },
      "source": [
        "**We'll tokenize the sentence itself for replies**"
      ]
    },
    {
      "cell_type": "code",
      "metadata": {
        "id": "3td7ULD5F7aI",
        "colab_type": "code",
        "outputId": "8a9f6b42-3e42-4911-f5a1-06272b596485",
        "colab": {
          "base_uri": "https://localhost:8080/",
          "height": 34
        }
      },
      "source": [
        "tokenized_reply_sentences = []\n",
        "# need to get all the unique replies in the dataset\n",
        "\n",
        "all_unique_replies = list(set(data['reply'].values))\n",
        "print('unique replies in the data',len(all_unique_replies))"
      ],
      "execution_count": 23,
      "outputs": [
        {
          "output_type": "stream",
          "text": [
            "unique replies in the data 353\n"
          ],
          "name": "stdout"
        }
      ]
    },
    {
      "cell_type": "code",
      "metadata": {
        "id": "y48LH0OiF7jU",
        "colab_type": "code",
        "colab": {}
      },
      "source": [
        "output_words = sorted(list(all_unique_replies))\n",
        "# from word to token we can get\n",
        "output_token_index = dict([(word, i+1) for i, word in enumerate(output_words)])"
      ],
      "execution_count": 0,
      "outputs": []
    },
    {
      "cell_type": "code",
      "metadata": {
        "id": "m_dUnk5TT7ia",
        "colab_type": "code",
        "outputId": "152d08e5-f077-4804-ff9c-43758b4ddc9b",
        "colab": {
          "base_uri": "https://localhost:8080/",
          "height": 34
        }
      },
      "source": [
        "output_token_index['the duck']"
      ],
      "execution_count": 25,
      "outputs": [
        {
          "output_type": "execute_result",
          "data": {
            "text/plain": [
              "312"
            ]
          },
          "metadata": {
            "tags": []
          },
          "execution_count": 25
        }
      ]
    },
    {
      "cell_type": "code",
      "metadata": {
        "id": "bnCdioyfF7qW",
        "colab_type": "code",
        "colab": {}
      },
      "source": [
        "\n",
        "reverse_output_index = dict((i, word) for word, i in output_token_index.items())"
      ],
      "execution_count": 0,
      "outputs": []
    },
    {
      "cell_type": "markdown",
      "metadata": {
        "id": "rmj6s_qrs1Pf",
        "colab_type": "text"
      },
      "source": [
        "**Divide the data into train and test**"
      ]
    },
    {
      "cell_type": "code",
      "metadata": {
        "id": "-SYT--bps4qY",
        "colab_type": "code",
        "colab": {}
      },
      "source": [
        "from sklearn.model_selection import train_test_split\n",
        "x_train, x_test, y_train, y_test = train_test_split(data['question'], data['reply'], test_size = 0.1, random_state = 42)\n",
        "#we have given only 10% of the data for the testing as already we have very less data"
      ],
      "execution_count": 0,
      "outputs": []
    },
    {
      "cell_type": "code",
      "metadata": {
        "id": "12I5WwEasdzw",
        "colab_type": "code",
        "outputId": "856402a0-d53b-4901-a9e5-3d49a4d409f4",
        "colab": {
          "base_uri": "https://localhost:8080/",
          "height": 68
        }
      },
      "source": [
        "#Checking number of unique replies that dataset contain\n",
        "all_unique_replies = list(set(data['reply'].values))\n",
        "print('unique replies in the data',len(all_unique_replies))\n",
        "\n",
        "all_unique_replies_train = list(set(y_train.values))\n",
        "print('unique replies in the train data',len(all_unique_replies_train))\n",
        "\n",
        "all_unique_replies_test = list(set(y_test.values))\n",
        "print('unique replies in the test data',len(all_unique_replies_test))"
      ],
      "execution_count": 28,
      "outputs": [
        {
          "output_type": "stream",
          "text": [
            "unique replies in the data 353\n",
            "unique replies in the train data 325\n",
            "unique replies in the test data 41\n"
          ],
          "name": "stdout"
        }
      ]
    },
    {
      "cell_type": "markdown",
      "metadata": {
        "id": "SLYPuTML_LRV",
        "colab_type": "text"
      },
      "source": [
        "Need to check how many sentences which are there in test replies but are not present in the train data "
      ]
    },
    {
      "cell_type": "code",
      "metadata": {
        "id": "W8mOEgHYCeyY",
        "colab_type": "code",
        "outputId": "f631b47b-4fb0-47f9-c91e-4a564d542f48",
        "colab": {
          "base_uri": "https://localhost:8080/",
          "height": 34
        }
      },
      "source": [
        "replies_in_test_not_available_in_train_set = len(all_unique_replies) - len(all_unique_replies_train)\n",
        "print(\"Replies not available in train data\",replies_in_test_not_available_in_train_set)"
      ],
      "execution_count": 29,
      "outputs": [
        {
          "output_type": "stream",
          "text": [
            "Replies not available in train data 28\n"
          ],
          "name": "stdout"
        }
      ]
    },
    {
      "cell_type": "code",
      "metadata": {
        "id": "voW8gKx7AdLb",
        "colab_type": "code",
        "colab": {}
      },
      "source": [
        "\n",
        "def generate_batch(X,y, batch_size):\n",
        "  \n",
        "    while True:\n",
        "        for j in range(0, len(X), batch_size):\n",
        "                    encoder_input_data = np.zeros((batch_size, vocab_len),\n",
        "                            dtype='float32')\n",
        "                    rows, cols = (len(y), len(all_unique_replies)) \n",
        "                    # output_data = [[0]*cols]*rows \n",
        "                    output_data = np.zeros((rows, cols),\n",
        "                            dtype='float32')\n",
        "                    for (i, (input_text, target_text)) in enumerate(zip(X[j:j+ batch_size], y[j:j + batch_size])):\n",
        "\n",
        "                        # for words in each sentence //question\n",
        "                        for (t, word) in enumerate(input_text.split()):  # question wale text ko tokenize kiya gaya\n",
        "                            encoder_input_data[i,t] = input_token_index[word]  # encoder input seq\n",
        "                        #For replies we are creating this\n",
        "                        \n",
        "                        ##output_data[i,output_token_index[target_text]] = 1\n",
        "                        output_data[i][output_token_index[target_text]-1] = 1\n",
        "                    return (encoder_input_data,output_data)\n",
        "\n",
        "\n",
        "def generate_batch_test(X,y,batch_size):\n",
        "    while True:\n",
        "        for j in range(0, len(X), batch_size):\n",
        "                    encoder_input_data = np.zeros((batch_size, vocab_len),\n",
        "                            dtype='float32')\n",
        "                    rows, cols = (len(y), len(all_unique_replies)) \n",
        "                    # output_data = [[0]*cols]*rows \n",
        "                    output_data = np.zeros((rows, cols),\n",
        "                            dtype='float32')\n",
        "                    for (i, (input_text, target_text)) in enumerate(zip(X[j:j+ batch_size], y[j:j + batch_size])):\n",
        "\n",
        "                        # for words in each sentence //question\n",
        "                        for (t, word) in enumerate(input_text.split()):  # question wale text ko tokenize kiya gaya\n",
        "                            encoder_input_data[i,t] = input_token_index[word]  # encoder input seq\n",
        "                        print(target_text)\n",
        "                        output_data[i][output_token_index[target_text]-1] = 1\n",
        "                        return (encoder_input_data,output_data)"
      ],
      "execution_count": 0,
      "outputs": []
    },
    {
      "cell_type": "markdown",
      "metadata": {
        "id": "L6wcVpuIBy0c",
        "colab_type": "text"
      },
      "source": [
        "**Glove Vector**"
      ]
    },
    {
      "cell_type": "code",
      "metadata": {
        "id": "fQIAIpZiAdFy",
        "colab_type": "code",
        "colab": {}
      },
      "source": [
        "import pickle\n",
        "glove_pickel = open(\"drive/My Drive/DonarChoose/glove_vectors\",\"rb\")\n",
        "glove_ = pickle.load(glove_pickel)"
      ],
      "execution_count": 0,
      "outputs": []
    },
    {
      "cell_type": "code",
      "metadata": {
        "id": "OyCDyh_aAdCc",
        "colab_type": "code",
        "colab": {}
      },
      "source": [
        "vector = glove_.get(word)"
      ],
      "execution_count": 0,
      "outputs": []
    },
    {
      "cell_type": "code",
      "metadata": {
        "id": "ETAD11YZAdAO",
        "colab_type": "code",
        "outputId": "77cdf24b-71c5-4a89-8ba9-3ac0f4846830",
        "colab": {
          "base_uri": "https://localhost:8080/",
          "height": 34
        }
      },
      "source": [
        "#Creating embedding matrix from the glove ,\n",
        "    #as it's already trained and we need not to train our embedding matrix again\n",
        "\n",
        "embedded_matrix = np.zeros((vocab_len, 300))\n",
        "for word, i in input_token_index.items():\n",
        "    vector = glove_.get(word)\n",
        "    if vector is not None:\n",
        "      embedded_matrix[i] = vector\n",
        "print(embedded_matrix.shape)"
      ],
      "execution_count": 33,
      "outputs": [
        {
          "output_type": "stream",
          "text": [
            "(2988, 300)\n"
          ],
          "name": "stdout"
        }
      ]
    },
    {
      "cell_type": "markdown",
      "metadata": {
        "id": "V0fG9mYGCFtu",
        "colab_type": "text"
      },
      "source": [
        "#Create model "
      ]
    },
    {
      "cell_type": "code",
      "metadata": {
        "id": "TpbrYt8-Ac5r",
        "colab_type": "code",
        "colab": {
          "base_uri": "https://localhost:8080/",
          "height": 88
        },
        "outputId": "dd84ffef-79c9-4bc5-8d17-33edb582ad94"
      },
      "source": [
        "#https://stackoverflow.com/questions/56097089/how-to-fix-name-embedding-is-not-defined-in-keras\n",
        "from keras.layers import Dense, Dropout, BatchNormalization, Input, Flatten, concatenate,Embedding,RepeatVector\n",
        "latent_dim = 300\n",
        "embedded_layer = Embedding(vocab_len,latent_dim,weights=[embedded_matrix],input_length=vocab_len,trainable=False) # we are using the embedded matrix to get the weights which we initialize randomly in embedded layer"
      ],
      "execution_count": 34,
      "outputs": [
        {
          "output_type": "stream",
          "text": [
            "WARNING:tensorflow:From /usr/local/lib/python3.6/dist-packages/keras/backend/tensorflow_backend.py:66: The name tf.get_default_graph is deprecated. Please use tf.compat.v1.get_default_graph instead.\n",
            "\n"
          ],
          "name": "stdout"
        },
        {
          "output_type": "stream",
          "text": [
            "Using TensorFlow backend.\n"
          ],
          "name": "stderr"
        }
      ]
    },
    {
      "cell_type": "code",
      "metadata": {
        "id": "s1jfDJ1ZFpHo",
        "colab_type": "code",
        "colab": {}
      },
      "source": [
        "import tensorflow as tf\n",
        "from sklearn.metrics import roc_auc_score\n",
        "\n",
        "def auroc(y_true, y_pred):\n",
        "    return tf.py_func(roc_auc_score, (y_true, y_pred), tf.double)"
      ],
      "execution_count": 0,
      "outputs": []
    },
    {
      "cell_type": "code",
      "metadata": {
        "id": "CJ23fAekVWyL",
        "colab_type": "code",
        "colab": {
          "base_uri": "https://localhost:8080/",
          "height": 513
        },
        "outputId": "aa694f64-ee0d-4a60-8c76-21c90e4bc609"
      },
      "source": [
        "from keras.layers import Dense, Dropout, Embedding, LSTM, Bidirectional,Concatenate,TimeDistributed\n",
        "from keras.layers import Input, LSTM, Embedding, Dense\n",
        "from keras.models import Model, Sequential\n",
        "\n",
        " # how much dimension of output we want form the embedding layer\n",
        "encoder_inputs = Input(shape=(None,)) # mentioning the input shape row and collumns are still null\n",
        "model = Sequential()\n",
        "model.add(embedded_layer)\n",
        "model.add(Bidirectional(LSTM(128))) # return a single vector of 100 dimension\n",
        "model.add(Dropout(0.3))\n",
        "model.add(Dense(353, activation='sigmoid')) #353 because we have 355 unique replies in the data\n",
        "model.compile(loss='binary_crossentropy', optimizer='adam', metrics=['accuracy'])"
      ],
      "execution_count": 36,
      "outputs": [
        {
          "output_type": "stream",
          "text": [
            "WARNING:tensorflow:From /usr/local/lib/python3.6/dist-packages/keras/backend/tensorflow_backend.py:541: The name tf.placeholder is deprecated. Please use tf.compat.v1.placeholder instead.\n",
            "\n",
            "WARNING:tensorflow:From /usr/local/lib/python3.6/dist-packages/keras/backend/tensorflow_backend.py:4432: The name tf.random_uniform is deprecated. Please use tf.random.uniform instead.\n",
            "\n",
            "WARNING:tensorflow:From /usr/local/lib/python3.6/dist-packages/keras/backend/tensorflow_backend.py:190: The name tf.get_default_session is deprecated. Please use tf.compat.v1.get_default_session instead.\n",
            "\n",
            "WARNING:tensorflow:From /usr/local/lib/python3.6/dist-packages/keras/backend/tensorflow_backend.py:197: The name tf.ConfigProto is deprecated. Please use tf.compat.v1.ConfigProto instead.\n",
            "\n",
            "WARNING:tensorflow:From /usr/local/lib/python3.6/dist-packages/keras/backend/tensorflow_backend.py:203: The name tf.Session is deprecated. Please use tf.compat.v1.Session instead.\n",
            "\n",
            "WARNING:tensorflow:From /usr/local/lib/python3.6/dist-packages/keras/backend/tensorflow_backend.py:207: The name tf.global_variables is deprecated. Please use tf.compat.v1.global_variables instead.\n",
            "\n",
            "WARNING:tensorflow:From /usr/local/lib/python3.6/dist-packages/keras/backend/tensorflow_backend.py:216: The name tf.is_variable_initialized is deprecated. Please use tf.compat.v1.is_variable_initialized instead.\n",
            "\n",
            "WARNING:tensorflow:From /usr/local/lib/python3.6/dist-packages/keras/backend/tensorflow_backend.py:223: The name tf.variables_initializer is deprecated. Please use tf.compat.v1.variables_initializer instead.\n",
            "\n",
            "WARNING:tensorflow:From /usr/local/lib/python3.6/dist-packages/keras/backend/tensorflow_backend.py:148: The name tf.placeholder_with_default is deprecated. Please use tf.compat.v1.placeholder_with_default instead.\n",
            "\n",
            "WARNING:tensorflow:From /usr/local/lib/python3.6/dist-packages/keras/backend/tensorflow_backend.py:3733: calling dropout (from tensorflow.python.ops.nn_ops) with keep_prob is deprecated and will be removed in a future version.\n",
            "Instructions for updating:\n",
            "Please use `rate` instead of `keep_prob`. Rate should be set to `rate = 1 - keep_prob`.\n",
            "WARNING:tensorflow:From /usr/local/lib/python3.6/dist-packages/keras/optimizers.py:793: The name tf.train.Optimizer is deprecated. Please use tf.compat.v1.train.Optimizer instead.\n",
            "\n",
            "WARNING:tensorflow:From /usr/local/lib/python3.6/dist-packages/keras/backend/tensorflow_backend.py:3657: The name tf.log is deprecated. Please use tf.math.log instead.\n",
            "\n",
            "WARNING:tensorflow:From /usr/local/lib/python3.6/dist-packages/tensorflow_core/python/ops/nn_impl.py:183: where (from tensorflow.python.ops.array_ops) is deprecated and will be removed in a future version.\n",
            "Instructions for updating:\n",
            "Use tf.where in 2.0, which has the same broadcast rule as np.where\n"
          ],
          "name": "stdout"
        }
      ]
    },
    {
      "cell_type": "code",
      "metadata": {
        "id": "byU3LSA55tVn",
        "colab_type": "code",
        "colab": {
          "base_uri": "https://localhost:8080/",
          "height": 306
        },
        "outputId": "360fc787-2b4a-4fbb-85a4-734ad5afb8c9"
      },
      "source": [
        "print(model.summary())"
      ],
      "execution_count": 37,
      "outputs": [
        {
          "output_type": "stream",
          "text": [
            "Model: \"sequential_1\"\n",
            "_________________________________________________________________\n",
            "Layer (type)                 Output Shape              Param #   \n",
            "=================================================================\n",
            "embedding_1 (Embedding)      (None, 2988, 300)         896400    \n",
            "_________________________________________________________________\n",
            "bidirectional_1 (Bidirection (None, 256)               439296    \n",
            "_________________________________________________________________\n",
            "dropout_1 (Dropout)          (None, 256)               0         \n",
            "_________________________________________________________________\n",
            "dense_1 (Dense)              (None, 353)               90721     \n",
            "=================================================================\n",
            "Total params: 1,426,417\n",
            "Trainable params: 530,017\n",
            "Non-trainable params: 896,400\n",
            "_________________________________________________________________\n",
            "None\n"
          ],
          "name": "stdout"
        }
      ]
    },
    {
      "cell_type": "code",
      "metadata": {
        "id": "HObwfuHH5lEI",
        "colab_type": "code",
        "colab": {
          "base_uri": "https://localhost:8080/",
          "height": 466
        },
        "outputId": "10d1fd7e-80db-4a5c-c621-2282522311c0"
      },
      "source": [
        "from keras.utils import plot_model\n",
        "plot_model(model, to_file='model_.png')"
      ],
      "execution_count": 38,
      "outputs": [
        {
          "output_type": "execute_result",
          "data": {
            "image/png": "[encoded data removed]",
            "text/plain": [
              "<IPython.core.display.Image object>"
            ]
          },
          "metadata": {
            "tags": []
          },
          "execution_count": 38
        }
      ]
    },
    {
      "cell_type": "code",
      "metadata": {
        "id": "WHlGDRGyZDk7",
        "colab_type": "code",
        "colab": {
          "base_uri": "https://localhost:8080/",
          "height": 34
        },
        "outputId": "0556703e-17f5-4cca-9629-cf4a0520f71c"
      },
      "source": [
        "x,y = generate_batch(x_train,y_train,len(x_train))\n",
        "\n",
        "test_question,test_reply = generate_batch_test(x_test,y_test,len(x_test))"
      ],
      "execution_count": 39,
      "outputs": [
        {
          "output_type": "stream",
          "text": [
            "yes \n"
          ],
          "name": "stdout"
        }
      ]
    },
    {
      "cell_type": "code",
      "metadata": {
        "id": "Lncsq5I0tv7a",
        "colab_type": "code",
        "colab": {}
      },
      "source": [
        "from tensorflow.python.keras.callbacks import TensorBoard\n",
        "from time import time\n",
        "from keras.callbacks import ModelCheckpoint"
      ],
      "execution_count": 0,
      "outputs": []
    },
    {
      "cell_type": "code",
      "metadata": {
        "id": "vbiXDKD-zyNZ",
        "colab_type": "code",
        "colab": {
          "base_uri": "https://localhost:8080/",
          "height": 238
        },
        "outputId": "14834a52-9d32-4b98-94dc-0e89603ae141"
      },
      "source": [
        "!wget https://bin.equinox.io/c/4VmDzA7iaHb/ngrok-stable-linux-amd64.zip\n",
        "!unzip ngrok-stable-linux-amd64.zip"
      ],
      "execution_count": 41,
      "outputs": [
        {
          "output_type": "stream",
          "text": [
            "--2019-12-29 13:38:03--  https://bin.equinox.io/c/4VmDzA7iaHb/ngrok-stable-linux-amd64.zip\n",
            "Resolving bin.equinox.io (bin.equinox.io)... 34.231.143.21, 3.234.122.223, 34.201.179.37, ...\n",
            "Connecting to bin.equinox.io (bin.equinox.io)|34.231.143.21|:443... connected.\n",
            "HTTP request sent, awaiting response... 200 OK\n",
            "Length: 13773305 (13M) [application/octet-stream]\n",
            "Saving to: ‘ngrok-stable-linux-amd64.zip’\n",
            "\n",
            "ngrok-stable-linux- 100%[===================>]  13.13M  14.3MB/s    in 0.9s    \n",
            "\n",
            "2019-12-29 13:38:05 (14.3 MB/s) - ‘ngrok-stable-linux-amd64.zip’ saved [13773305/13773305]\n",
            "\n",
            "Archive:  ngrok-stable-linux-amd64.zip\n",
            "  inflating: ngrok                   \n"
          ],
          "name": "stdout"
        }
      ]
    },
    {
      "cell_type": "code",
      "metadata": {
        "id": "eX4ofFPLz07-",
        "colab_type": "code",
        "colab": {}
      },
      "source": [
        "LOG_DIR = './log'\n",
        "get_ipython().system_raw(\n",
        "    'tensorboard --logdir {} --host 0.0.0.0 --port 6006 &'\n",
        "    .format(LOG_DIR)\n",
        ")"
      ],
      "execution_count": 0,
      "outputs": []
    },
    {
      "cell_type": "code",
      "metadata": {
        "id": "py2q11jv0Aiz",
        "colab_type": "code",
        "colab": {}
      },
      "source": [
        "get_ipython().system_raw('./ngrok http 6006 &')"
      ],
      "execution_count": 0,
      "outputs": []
    },
    {
      "cell_type": "code",
      "metadata": {
        "id": "nVfnnBzp0Ib9",
        "colab_type": "code",
        "colab": {
          "base_uri": "https://localhost:8080/",
          "height": 34
        },
        "outputId": "2ab82626-0858-4cc0-a00c-0e3e6e99615c"
      },
      "source": [
        "! curl -s http://localhost:4040/api/tunnels | python3 -c \\\n",
        "    \"import sys, json; print(json.load(sys.stdin)['tunnels'][0]['public_url'])\""
      ],
      "execution_count": 44,
      "outputs": [
        {
          "output_type": "stream",
          "text": [
            "https://eb4d8a8e.ngrok.io\n"
          ],
          "name": "stdout"
        }
      ]
    },
    {
      "cell_type": "code",
      "metadata": {
        "id": "BYA1CBmU0LHb",
        "colab_type": "code",
        "colab": {}
      },
      "source": [
        "from keras.callbacks import TensorBoard\n",
        "batch_size=150\n",
        "tbCallBack = TensorBoard(log_dir='./log', histogram_freq=1,\n",
        "                         write_graph=True,\n",
        "                         write_grads=True,\n",
        "                         batch_size=batch_size,\n",
        "                         write_images=True)"
      ],
      "execution_count": 0,
      "outputs": []
    },
    {
      "cell_type": "code",
      "metadata": {
        "id": "iM-LNm__XKQS",
        "colab_type": "code",
        "colab": {
          "base_uri": "https://localhost:8080/",
          "height": 632
        },
        "outputId": "d2220080-2984-44f5-db18-7a56e24617b1"
      },
      "source": [
        "# model.fit(x,y)\n",
        "# NAME = \"Foo_{}\".format(datetime.now().isoformat(timespec='seconds')).replace(':', '-')\n",
        "\n",
        "# tensorboard = keras.callbacks.TensorBoard(\n",
        "#     log_dir=\"logs/{}\".format(NAME),\n",
        "#     histogram_freq=1,\n",
        "#     write_images=True)\n",
        "\n",
        "# callbacks = [\n",
        "#     tensorboard\n",
        "# ]\n",
        "tensorBoard = TensorBoard(log_dir='logs/{}'.format(time()))\n",
        "filepath = \"weights.best.hdf5\"\n",
        "# checkpoint = ModelCheckpoint(filepath,monitor)\n",
        "\n",
        "history = model.fit(x, y,\n",
        "          batch_size=batch_size,\n",
        "          epochs=10,validation_data=(test_question,test_reply),verbose=1,callbacks=[tbCallBack])"
      ],
      "execution_count": 46,
      "outputs": [
        {
          "output_type": "stream",
          "text": [
            "WARNING:tensorflow:From /usr/local/lib/python3.6/dist-packages/keras/backend/tensorflow_backend.py:1033: The name tf.assign_add is deprecated. Please use tf.compat.v1.assign_add instead.\n",
            "\n",
            "WARNING:tensorflow:From /usr/local/lib/python3.6/dist-packages/keras/backend/tensorflow_backend.py:1020: The name tf.assign is deprecated. Please use tf.compat.v1.assign instead.\n",
            "\n",
            "Train on 1029 samples, validate on 115 samples\n",
            "WARNING:tensorflow:From /usr/local/lib/python3.6/dist-packages/keras/callbacks.py:1068: The name tf.summary.histogram is deprecated. Please use tf.compat.v1.summary.histogram instead.\n",
            "\n",
            "WARNING:tensorflow:From /usr/local/lib/python3.6/dist-packages/keras/callbacks.py:1112: The name tf.summary.image is deprecated. Please use tf.compat.v1.summary.image instead.\n",
            "\n",
            "WARNING:tensorflow:From /usr/local/lib/python3.6/dist-packages/keras/callbacks.py:1122: The name tf.summary.merge_all is deprecated. Please use tf.compat.v1.summary.merge_all instead.\n",
            "\n",
            "WARNING:tensorflow:From /usr/local/lib/python3.6/dist-packages/keras/callbacks.py:1125: The name tf.summary.FileWriter is deprecated. Please use tf.compat.v1.summary.FileWriter instead.\n",
            "\n",
            "Epoch 1/10\n",
            "1029/1029 [==============================] - 70s 68ms/step - loss: 0.6439 - acc: 0.6979 - val_loss: 0.6807 - val_acc: 0.9852\n",
            "WARNING:tensorflow:From /usr/local/lib/python3.6/dist-packages/keras/callbacks.py:1265: The name tf.Summary is deprecated. Please use tf.compat.v1.Summary instead.\n",
            "\n",
            "Epoch 2/10\n",
            "1029/1029 [==============================] - 69s 67ms/step - loss: 0.4128 - acc: 0.9492 - val_loss: 0.2152 - val_acc: 1.0000\n",
            "Epoch 3/10\n",
            "1029/1029 [==============================] - 68s 66ms/step - loss: 0.1040 - acc: 0.9965 - val_loss: 0.0367 - val_acc: 1.0000\n",
            "Epoch 4/10\n",
            "1029/1029 [==============================] - 68s 66ms/step - loss: 0.0248 - acc: 0.9972 - val_loss: 0.0081 - val_acc: 0.9971\n",
            "Epoch 5/10\n",
            "1029/1029 [==============================] - 65s 64ms/step - loss: 0.0134 - acc: 0.9971 - val_loss: 0.0041 - val_acc: 0.9972\n",
            "Epoch 6/10\n",
            "1029/1029 [==============================] - 68s 66ms/step - loss: 0.0120 - acc: 0.9972 - val_loss: 0.0033 - val_acc: 1.0000\n",
            "Epoch 7/10\n",
            "1029/1029 [==============================] - 68s 66ms/step - loss: 0.0118 - acc: 0.9972 - val_loss: 0.0033 - val_acc: 0.9971\n",
            "Epoch 8/10\n",
            "1029/1029 [==============================] - 67s 65ms/step - loss: 0.0118 - acc: 0.9971 - val_loss: 0.0028 - val_acc: 1.0000\n",
            "Epoch 9/10\n",
            "1029/1029 [==============================] - 69s 67ms/step - loss: 0.0118 - acc: 0.9971 - val_loss: 0.0032 - val_acc: 0.9971\n",
            "Epoch 10/10\n",
            "1029/1029 [==============================] - 68s 66ms/step - loss: 0.0118 - acc: 0.9971 - val_loss: 0.0028 - val_acc: 1.0000\n"
          ],
          "name": "stdout"
        }
      ]
    },
    {
      "cell_type": "code",
      "metadata": {
        "id": "o-JoiPgDo50s",
        "colab_type": "code",
        "colab": {}
      },
      "source": [
        "model.save_weights(\"model.h5\")"
      ],
      "execution_count": 0,
      "outputs": []
    },
    {
      "cell_type": "code",
      "metadata": {
        "id": "aQosxL85r4cV",
        "colab_type": "code",
        "colab": {}
      },
      "source": [
        ""
      ],
      "execution_count": 0,
      "outputs": []
    },
    {
      "cell_type": "markdown",
      "metadata": {
        "id": "n7dPDnkKAfut",
        "colab_type": "text"
      },
      "source": [
        "**Loss Graph**"
      ]
    },
    {
      "cell_type": "code",
      "metadata": {
        "id": "99dmsTp1AZ3w",
        "colab_type": "code",
        "colab": {
          "base_uri": "https://localhost:8080/",
          "height": 265
        },
        "outputId": "3906acff-e39a-4396-f440-e22a821d3367"
      },
      "source": [
        "plt.plot(history.history['loss'], 'b')\n",
        "plt.plot(history.history['val_loss'], 'g')\n",
        "plt.legend({'loss_train': 'b', 'loss_test':'g'})\n",
        "plt.show()\n"
      ],
      "execution_count": 48,
      "outputs": [
        {
          "output_type": "display_data",
          "data": {
            "image/png": "[encoded data removed]",
            "text/plain": [
              "<Figure size 432x288 with 1 Axes>"
            ]
          },
          "metadata": {
            "tags": []
          }
        }
      ]
    },
    {
      "cell_type": "code",
      "metadata": {
        "id": "nZskb7wTKFT5",
        "colab_type": "code",
        "colab": {}
      },
      "source": [
        "def generate_batch_test_final(X,y,batch_size):\n",
        "  #Here we only using for the test data and we are not encoding the replies here only questions\n",
        "    while True:\n",
        "        for j in range(0, len(X), batch_size):\n",
        "                    encoder_input_data = np.zeros((batch_size, vocab_len),\n",
        "                            dtype='float32')\n",
        "                    rows, cols = (len(y), len(all_unique_replies)) \n",
        "                    # output_data = [[0]*cols]*rows \n",
        "                    output_data = np.zeros((rows, cols),\n",
        "                            dtype='float32')\n",
        "                    for (i, (input_text, target_text)) in enumerate(zip(X[j:j+ batch_size], y[j:j + batch_size])):\n",
        "\n",
        "                        # for words in each sentence //question\n",
        "                        for (t, word) in enumerate(input_text.split()):  # question wale text ko tokenize kiya gaya\n",
        "                            encoder_input_data[i,t] = input_token_index[word]  # encoder input seq\n",
        "                        return encoder_input_data"
      ],
      "execution_count": 0,
      "outputs": []
    },
    {
      "cell_type": "code",
      "metadata": {
        "id": "5GvPr1fzaGhG",
        "colab_type": "code",
        "colab": {
          "base_uri": "https://localhost:8080/",
          "height": 85
        },
        "outputId": "5a71b361-04e8-4a7d-cbb6-5a6861474d04"
      },
      "source": [
        "index = 1\n",
        "test_question = generate_batch_test_final(x_test.values[index],y_test.values[index],1)\n",
        "output_token = model.predict(test_question)\n",
        "\n",
        "#first reply #Taking first reply from the array what model has predicted \n",
        "sampled_token_index_1 = np.argmax(output_token)\n",
        "#Making highest probability as 0 so that next time we can get the 2nd highest probabily\n",
        "output_token[0][sampled_token_index_1] = 0\n",
        "\n",
        "#second reply\n",
        "sampled_token_index_2 = np.argmax(output_token)\n",
        "output_token[0][sampled_token_index_2] = 0 # making second the probability 0 so that we can get third heighest probabilty\n",
        "\n",
        "#Third reply\n",
        "sampled_token_index_3 = np.argmax(output_token)\n",
        "output_token[0][sampled_token_index_3] = 0\n",
        "\n",
        "print('question is : ',x_test.values[index])\n",
        "for i in range(0,3):\n",
        "  print('reply',i+1 ,reverse_output_index[i+1])\n",
        "\n"
      ],
      "execution_count": 50,
      "outputs": [
        {
          "output_type": "stream",
          "text": [
            "question is :  forward erect ears and slightly bristle hackles are a sign of what in wolves\n",
            "reply 1  bad question \n",
            "reply 2  shrug \n",
            "reply 3  what \n"
          ],
          "name": "stdout"
        }
      ]
    },
    {
      "cell_type": "markdown",
      "metadata": {
        "id": "-BoD91zxFfFh",
        "colab_type": "text"
      },
      "source": [
        "Approach:\n",
        "\n",
        "1.   First we took the data and cleaned it\n",
        "2.   We tokenized each question(words/vocab) and we got one matrix for questions\n",
        "3.   Again I tokenized replies(full unique sentence has one token) <br> **eg. [how are you : 23],<br>    [Is it raining : 53]**\n",
        "4.   We gave the x_train question matrix as a tokenized and padded and for replies we have matrix for each sentence and passed it to the model\n",
        "5.   Model gave 99.7% accuracy\n",
        "\n"
      ]
    },
    {
      "cell_type": "code",
      "metadata": {
        "id": "mQ3Cncpr-1ET",
        "colab_type": "code",
        "colab": {
          "resources": {
            "http://localhost:8080/nbextensions/google.colab/files.js": {
              "data": "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",
              "ok": true,
              "headers": [
                [
                  "content-type",
                  "application/javascript"
                ]
              ],
              "status": 200,
              "status_text": ""
            }
          },
          "base_uri": "https://localhost:8080/",
          "height": 210
        },
        "outputId": "93ae6072-1749-45e4-87fd-8ffa9f9fbbf8"
      },
      "source": [
        "from google.colab import files\n",
        "\n",
        "uploaded = files.upload()"
      ],
      "execution_count": 52,
      "outputs": [
        {
          "output_type": "display_data",
          "data": {
            "text/html": [
              "\n",
              "     <input type=\"file\" id=\"files-a9760f9c-b803-4a98-a424-fc2c40196489\" name=\"files[]\" multiple disabled />\n",
              "     <output id=\"result-a9760f9c-b803-4a98-a424-fc2c40196489\">\n",
              "      Upload widget is only available when the cell has been executed in the\n",
              "      current browser session. Please rerun this cell to enable.\n",
              "      </output>\n",
              "      <script src=\"/nbextensions/google.colab/files.js\"></script> "
            ],
            "text/plain": [
              "<IPython.core.display.HTML object>"
            ]
          },
          "metadata": {
            "tags": []
          }
        },
        {
          "output_type": "stream",
          "text": [
            "Saving accuracy.PNG to accuracy.PNG\n",
            "Saving loss.png to loss.png\n",
            "Saving tensorboard_final.png.jpg to tensorboard_final.png.jpg\n",
            "Saving val_accuracy.PNG to val_accuracy.PNG\n",
            "Saving val_loss.PNG to val_loss.PNG\n"
          ],
          "name": "stdout"
        }
      ]
    },
    {
      "cell_type": "markdown",
      "metadata": {
        "id": "sGIHsP1R_6aE",
        "colab_type": "text"
      },
      "source": [
        "**Accuracy**"
      ]
    },
    {
      "cell_type": "code",
      "metadata": {
        "id": "6psT4Wgi_jHN",
        "colab_type": "code",
        "colab": {
          "base_uri": "https://localhost:8080/",
          "height": 366
        },
        "outputId": "1a0ae116-201a-43ab-f2bd-046a1b395337"
      },
      "source": [
        "from IPython.display import display, Image\n",
        "display(Image(filename='accuracy.PNG'))"
      ],
      "execution_count": 57,
      "outputs": [
        {
          "output_type": "display_data",
          "data": {
            "image/png": "[encoded data removed]",
            "text/plain": [
              "<IPython.core.display.Image object>"
            ]
          },
          "metadata": {
            "tags": []
          }
        }
      ]
    },
    {
      "cell_type": "markdown",
      "metadata": {
        "id": "mq2CH3B0_-yR",
        "colab_type": "text"
      },
      "source": [
        "**validation Accuracy**"
      ]
    },
    {
      "cell_type": "code",
      "metadata": {
        "id": "PD2lLZQN_-K-",
        "colab_type": "code",
        "colab": {
          "base_uri": "https://localhost:8080/",
          "height": 358
        },
        "outputId": "bccfcbe3-f66a-4ca6-b8d3-d9795cab9837"
      },
      "source": [
        "display(Image(filename='val_accuracy.PNG'))"
      ],
      "execution_count": 58,
      "outputs": [
        {
          "output_type": "display_data",
          "data": {
            "image/png": "[encoded data removed]",
            "text/plain": [
              "<IPython.core.display.Image object>"
            ]
          },
          "metadata": {
            "tags": []
          }
        }
      ]
    },
    {
      "cell_type": "markdown",
      "metadata": {
        "id": "dACdDVAAAJJ6",
        "colab_type": "text"
      },
      "source": [
        "**Loss**"
      ]
    },
    {
      "cell_type": "code",
      "metadata": {
        "id": "87la77R9AGyr",
        "colab_type": "code",
        "colab": {
          "base_uri": "https://localhost:8080/",
          "height": 359
        },
        "outputId": "de9862a2-6e11-4cba-cb6e-9a44ceef3ce4"
      },
      "source": [
        "display(Image(filename='loss.png'))"
      ],
      "execution_count": 59,
      "outputs": [
        {
          "output_type": "display_data",
          "data": {
            "image/png": "[encoded data removed]",
            "text/plain": [
              "<IPython.core.display.Image object>"
            ]
          },
          "metadata": {
            "tags": []
          }
        }
      ]
    },
    {
      "cell_type": "markdown",
      "metadata": {
        "id": "1w6lPxIXANsZ",
        "colab_type": "text"
      },
      "source": [
        "**Validation loss**"
      ]
    },
    {
      "cell_type": "code",
      "metadata": {
        "id": "rmXuZpqcARfa",
        "colab_type": "code",
        "colab": {
          "base_uri": "https://localhost:8080/",
          "height": 361
        },
        "outputId": "50835328-1b96-4363-85a7-cb165c9bd103"
      },
      "source": [
        "display(Image(filename='val_loss.PNG'))"
      ],
      "execution_count": 61,
      "outputs": [
        {
          "output_type": "display_data",
          "data": {
            "image/png": "[encoded data removed]",
            "text/plain": [
              "<IPython.core.display.Image object>"
            ]
          },
          "metadata": {
            "tags": []
          }
        }
      ]
    },
    {
      "cell_type": "markdown",
      "metadata": {
        "id": "mqXyJms6AWYd",
        "colab_type": "text"
      },
      "source": [
        "**Final TensorFlow Model**"
      ]
    },
    {
      "cell_type": "code",
      "metadata": {
        "id": "_z-qB2fmAaAz",
        "colab_type": "code",
        "colab": {
          "base_uri": "https://localhost:8080/",
          "height": 378
        },
        "outputId": "412f4659-7701-4cea-d4e1-9776250553ca"
      },
      "source": [
        "display(Image(filename='tensorboard_final.png.jpg'))"
      ],
      "execution_count": 62,
      "outputs": [
        {
          "output_type": "display_data",
          "data": {
            "image/jpeg": "[encoded data removed]",
            "text/plain": [
              "<IPython.core.display.Image object>"
            ]
          },
          "metadata": {
            "tags": []
          }
        }
      ]
    },
    {
      "cell_type": "markdown",
      "metadata": {
        "id": "ASKapFeaHqZI",
        "colab_type": "text"
      },
      "source": [
        "Reference:<br>\n",
        "[Gabriel farah QA bot](https://github.com/gabrielfarah/QA_Bot)\n",
        "<br>\n",
        "[Google smart reply suggestions](https://arxiv.org/pdf/1606.04870.pdf)<br>\n",
        "[StackOverflow](https://www.stackoverflow.com)<br>\n",
        "[tensorBoard](https://www.dlology.com/blog/quick-guide-to-run-tensorboard-in-google-colab/)\n",
        "\n",
        "\n"
      ]
    },
    {
      "cell_type": "markdown",
      "metadata": {
        "id": "9pDRd0_cIboW",
        "colab_type": "text"
      },
      "source": [
        "> ### ### ###  Thank You ### ### ###\n"
      ]
    }
  ]
}